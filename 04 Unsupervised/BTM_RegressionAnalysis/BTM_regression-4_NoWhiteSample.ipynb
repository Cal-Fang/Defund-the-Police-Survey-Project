{
 "cells": [
  {
   "cell_type": "markdown",
   "metadata": {},
   "source": [
    "# Data Importing"
   ]
  },
  {
   "cell_type": "code",
   "execution_count": 2,
   "metadata": {},
   "outputs": [],
   "source": [
    "# Importing modules\n",
    "import pandas as pd\n",
    "import numpy as np\n",
    "import scipy.stats as stats\n",
    "import statsmodels.api as sm\n",
    "\n",
    "from sklearn.linear_model import LinearRegression\n",
    "\n",
    "# Read data into papers\n",
    "data = pd.read_csv(\"/Users/atchoo/Google Drive/Research Assistant/Work With David Knight/Survey of the Incarcerated/TMPPoliticalSurveyFULL_ForDavid.csv\", encoding = \"ISO-8859-1\")\n",
    "\n",
    "# Print head\n",
    "# print(data.columns)"
   ]
  },
  {
   "cell_type": "code",
   "execution_count": 3,
   "metadata": {},
   "outputs": [],
   "source": [
    "# Insert an id index for future work\n",
    "data[\"Survey_ID\"] = data.index + 1\n",
    "\n",
    "# Remove the columns\n",
    "str_data = data[[\"Survey_ID\", \"explain_politics_changed_since_incarcerated\",\\\n",
    "                 \"explain_race_affects_politics\", 'identifies_as_black', 'identifies_as_white',\n",
    "                 \"identifies_as_native\", 'identifies_as_asian', \n",
    "                 'identifies_as_hawaiian_or_pac_islander', 'identifies_as_other_race',\n",
    "                 'identifies_as_not_sure_of_race', 'identifies_as_hispanic_or_latinx',\n",
    "                 \"age\", \"gender\"]]\n",
    "# Print out the first rows of papers\n",
    "str_data.columns = [\"Survey_ID\", \"p_change\", \"r_effect\", \"black\", \"white\", \"native\", \"asian\",\n",
    "                   \"hawaiian\", \"other_race\", \"unsure_race\", \"latinx\", \"age\", \"gender\"]\n",
    "str_data = str_data.dropna()"
   ]
  },
  {
   "cell_type": "markdown",
   "metadata": {},
   "source": [
    "# Make Remove Stopword Functions"
   ]
  },
  {
   "cell_type": "code",
   "execution_count": 4,
   "metadata": {},
   "outputs": [],
   "source": [
    "# Load the regular expression library and the nltk word library\n",
    "import re\n",
    "import nltk\n",
    "\n",
    "# Create a function to remove nonsense words\n",
    "words = set(nltk.corpus.words.words())\n",
    "def clean_sent(sent):\n",
    "    return \" \".join(w for w in nltk.wordpunct_tokenize(sent) \\\n",
    "     if w.lower() in words or not w.isalpha())\n",
    "\n",
    "strv_list = [\"p_change\", \"r_effect\"]\n",
    "for strv in strv_list:\n",
    "    # Remove punctuation & Convert the titles to lowercase\n",
    "    str_data[strv] = str_data[strv].map(lambda x: re.sub(r'[^\\w\\s]', \"\", x)).map(lambda x: x.lower())\n",
    "    # Remove nonsense words\n",
    "    str_data[strv] = str_data[strv].apply(clean_sent)\n",
    "    # Transform blank cells to NaN & Drop NaN\n",
    "    str_data = str_data.replace(r'^\\s*$', np.nan, regex=True).dropna()"
   ]
  },
  {
   "cell_type": "code",
   "execution_count": 5,
   "metadata": {},
   "outputs": [
    {
     "data": {
      "text/html": [
       "<div>\n",
       "<style scoped>\n",
       "    .dataframe tbody tr th:only-of-type {\n",
       "        vertical-align: middle;\n",
       "    }\n",
       "\n",
       "    .dataframe tbody tr th {\n",
       "        vertical-align: top;\n",
       "    }\n",
       "\n",
       "    .dataframe thead th {\n",
       "        text-align: right;\n",
       "    }\n",
       "</style>\n",
       "<table border=\"1\" class=\"dataframe\">\n",
       "  <thead>\n",
       "    <tr style=\"text-align: right;\">\n",
       "      <th></th>\n",
       "      <th>Survey_ID</th>\n",
       "      <th>p_change</th>\n",
       "      <th>r_effect</th>\n",
       "      <th>black</th>\n",
       "      <th>white</th>\n",
       "      <th>native</th>\n",
       "      <th>asian</th>\n",
       "      <th>hawaiian</th>\n",
       "      <th>other_race</th>\n",
       "      <th>unsure_race</th>\n",
       "      <th>latinx</th>\n",
       "      <th>age</th>\n",
       "      <th>gender</th>\n",
       "    </tr>\n",
       "  </thead>\n",
       "  <tbody>\n",
       "    <tr>\n",
       "      <th>0</th>\n",
       "      <td>1</td>\n",
       "      <td>no</td>\n",
       "      <td>not at all not racist all of the human race is...</td>\n",
       "      <td>False</td>\n",
       "      <td>True</td>\n",
       "      <td>False</td>\n",
       "      <td>False</td>\n",
       "      <td>False</td>\n",
       "      <td>False</td>\n",
       "      <td>False</td>\n",
       "      <td>False</td>\n",
       "      <td>46-55</td>\n",
       "      <td>Man</td>\n",
       "    </tr>\n",
       "    <tr>\n",
       "      <th>2</th>\n",
       "      <td>3</td>\n",
       "      <td>i feel that the parole board the some of the p...</td>\n",
       "      <td>not sure about that</td>\n",
       "      <td>False</td>\n",
       "      <td>True</td>\n",
       "      <td>False</td>\n",
       "      <td>False</td>\n",
       "      <td>False</td>\n",
       "      <td>False</td>\n",
       "      <td>False</td>\n",
       "      <td>False</td>\n",
       "      <td>46-55</td>\n",
       "      <td>Woman</td>\n",
       "    </tr>\n",
       "    <tr>\n",
       "      <th>3</th>\n",
       "      <td>4</td>\n",
       "      <td>yes bit</td>\n",
       "      <td>i am not really sure about that one</td>\n",
       "      <td>False</td>\n",
       "      <td>True</td>\n",
       "      <td>False</td>\n",
       "      <td>False</td>\n",
       "      <td>False</td>\n",
       "      <td>False</td>\n",
       "      <td>False</td>\n",
       "      <td>False</td>\n",
       "      <td>36-45</td>\n",
       "      <td>Woman</td>\n",
       "    </tr>\n",
       "    <tr>\n",
       "      <th>5</th>\n",
       "      <td>6</td>\n",
       "      <td>most are full of</td>\n",
       "      <td>i do not understand this question maybe theres...</td>\n",
       "      <td>True</td>\n",
       "      <td>False</td>\n",
       "      <td>False</td>\n",
       "      <td>False</td>\n",
       "      <td>False</td>\n",
       "      <td>False</td>\n",
       "      <td>False</td>\n",
       "      <td>False</td>\n",
       "      <td>26-35</td>\n",
       "      <td>Woman</td>\n",
       "    </tr>\n",
       "    <tr>\n",
       "      <th>6</th>\n",
       "      <td>7</td>\n",
       "      <td>i never considered the prison population or pr...</td>\n",
       "      <td>i try to vote based on the but i am and many i...</td>\n",
       "      <td>False</td>\n",
       "      <td>True</td>\n",
       "      <td>False</td>\n",
       "      <td>False</td>\n",
       "      <td>False</td>\n",
       "      <td>False</td>\n",
       "      <td>False</td>\n",
       "      <td>False</td>\n",
       "      <td>46-55</td>\n",
       "      <td>Woman</td>\n",
       "    </tr>\n",
       "  </tbody>\n",
       "</table>\n",
       "</div>"
      ],
      "text/plain": [
       "   Survey_ID                                           p_change  \\\n",
       "0          1                                                 no   \n",
       "2          3  i feel that the parole board the some of the p...   \n",
       "3          4                                            yes bit   \n",
       "5          6                                   most are full of   \n",
       "6          7  i never considered the prison population or pr...   \n",
       "\n",
       "                                            r_effect  black  white  native  \\\n",
       "0  not at all not racist all of the human race is...  False   True   False   \n",
       "2                                not sure about that  False   True   False   \n",
       "3                i am not really sure about that one  False   True   False   \n",
       "5  i do not understand this question maybe theres...   True  False   False   \n",
       "6  i try to vote based on the but i am and many i...  False   True   False   \n",
       "\n",
       "   asian  hawaiian  other_race  unsure_race  latinx    age gender  \n",
       "0  False     False       False        False   False  46-55    Man  \n",
       "2  False     False       False        False   False  46-55  Woman  \n",
       "3  False     False       False        False   False  36-45  Woman  \n",
       "5  False     False       False        False   False  26-35  Woman  \n",
       "6  False     False       False        False   False  46-55  Woman  "
      ]
     },
     "execution_count": 5,
     "metadata": {},
     "output_type": "execute_result"
    }
   ],
   "source": [
    "str_data.head()"
   ]
  },
  {
   "cell_type": "code",
   "execution_count": 6,
   "metadata": {},
   "outputs": [],
   "source": [
    "# remove stop words\n",
    "# nltk.download('stopwords')\n",
    "from nltk.corpus import stopwords\n",
    "from gensim.utils import simple_preprocess\n",
    "\n",
    "def remove_stopwords(texts):\n",
    "    return [[word for word in simple_preprocess(str(doc)) if word not in stop_words] for doc in texts]"
   ]
  },
  {
   "cell_type": "markdown",
   "metadata": {},
   "source": [
    "# Include the Topic info"
   ]
  },
  {
   "cell_type": "code",
   "execution_count": 7,
   "metadata": {},
   "outputs": [],
   "source": [
    "def add_the_matrix(extrastopword, csvfile, tlist=[\"topic 4\"]):\n",
    "    \n",
    "    assert isinstance(extrastopword, list), \"Should be a list of the extra stop words.\"\n",
    "    assert isinstance(csvfile, str), \"Should be the path of the matrix file.\"\n",
    "    \n",
    "    # change the stop words\n",
    "    stop_words = stopwords.words(\"english\")\n",
    "    stop_words.extend([\"don\", \"people\", \"bill\", \"step\", \"act\", \"first\", \"u\", \"n\", \n",
    "                       \"na\", \"non\"]+extrastopword)\n",
    "    yesnno = [\"yes\", \"no\"]\n",
    "    stop_words =  [word for word in stop_words if word not in yesnno]\n",
    "    # remove stop words\n",
    "    r_effect = [[word for word in simple_preprocess(str(doc)) if word not in stop_words] for doc in str_data[\"r_effect\"]]\n",
    "    r_effect = pd.DataFrame([x for x in r_effect if x])\n",
    "    \n",
    "    # create index variable for whether a row is left\n",
    "    r_effect2 = []\n",
    "    for doc in str_data[\"r_effect\"]:\n",
    "        if all(word in stop_words for word in simple_preprocess(doc)):\n",
    "               i_str = False\n",
    "        else: \n",
    "               i_str = True\n",
    "        r_effect2.append(i_str)\n",
    "    inBTM = pd.DataFrame(r_effect2, columns=[\"inBTM\"])\n",
    "    # filter str_data based on inBTM result into str_datar\n",
    "    str_datar = pd.concat([str_data.reset_index(drop=True), inBTM], axis=1)\n",
    "    str_datar = str_datar[str_datar[\"inBTM\"]==True]\n",
    "    \n",
    "    # read in the topicmatrix file\n",
    "    matrix = pd.read_csv(csvfile, \n",
    "                         names=[\"topic 1\", \"topic 2\", \"topic 3\", \"topic 4\", \"topic 5\", \"topic 6\"])\n",
    "    a = matrix.idxmax(axis=1)\n",
    "    b = matrix.T.apply(lambda x: x.nlargest(2).idxmin())\n",
    "    c = matrix.T.apply(lambda x: x.nlargest(3).idxmin())\n",
    "    topic = pd.concat([a, b, c], axis=1, ignore_index=False)\n",
    "\n",
    "    # concatenate topic matrix and str_datar as str_datar\n",
    "    str_datar2 = pd.concat([str_datar.reset_index(drop=True), topic], axis=1)\n",
    "    str_datar2 = str_datar2.rename(columns={0:\"fsttopic\", 1:\"sndtopic\", 2:\"trdtopic\"})\n",
    "\n",
    "    # CREATE THE CHISQUARE DATAFRAME\n",
    "    race = [\"black\", \"white\", \"native\", \"asian\", \"hawaiian\", \"other_race\", \"unsure_race\", \"latinx\"]\n",
    "    topic = [\"fsttopic\", \"sndtopic\", \"trdtopic\"]\n",
    "    chisq = str_datar2.loc[:, [\"Survey_ID\"]+race+topic].dropna()\n",
    "        ## clean the race variable a little bit\n",
    "    chisq.loc[:, race] = chisq.loc[:, race].astype(int)\n",
    "    chisq[\"Race\"] = chisq.loc[:, race].idxmax(axis=1)\n",
    "    \n",
    "    # CREATE THE REGRESSION DATAFRAME\n",
    "    chisq[\"fst4\"] = chisq[\"fsttopic\"].isin(tlist)\n",
    "    chisq[\"snd4\"] = chisq[\"sndtopic\"].isin(tlist)\n",
    "    chisq[\"trd4\"] = chisq[\"trdtopic\"].isin(tlist)\n",
    "    cor = chisq.drop([\"fsttopic\", \"sndtopic\", \"trdtopic\", \"Race\"], axis=1)\n",
    "    cov = str_data[[\"Survey_ID\", \"age\", \"gender\"]]\n",
    "    cov = pd.get_dummies(cov, columns=[\"age\", \"gender\"])\n",
    "    lrdata = cor.merge(cov, on=\"Survey_ID\")\n",
    "    \n",
    "    return lrdata"
   ]
  },
  {
   "cell_type": "code",
   "execution_count": 8,
   "metadata": {},
   "outputs": [],
   "source": [
    "common_csv = \"~/Google Drive/Research Assistant/Work With David Knight/Survey of the Incarcerated/BTM/BTM_Regression_Exploration/\"\n",
    "extra1 = []\n",
    "csv1 = \"All_3095/topicmatrix.csv\"\n",
    "\n",
    "extra2 = [\"violent\", \"race\"]\n",
    "csv2 = \"NoViloentRace_3082/topicmatrix_3082.csv\"\n",
    "\n",
    "extra3 = [\"violent\", \"race\", \"white\", \"black\"]\n",
    "csv3 = \"NoViloentRaceWhiteBlack_3053/topicmatrix_3053.csv\""
   ]
  },
  {
   "cell_type": "code",
   "execution_count": 9,
   "metadata": {},
   "outputs": [],
   "source": [
    "# All_3095\n",
    "lrdata4 = add_the_matrix(extra1, common_csv+csv1)\n",
    "# NoViloentRace_3082\n",
    "lrdata5 = add_the_matrix(extra2, common_csv+csv2)\n",
    "# NoViloentRaceWhiteBlack_3053\n",
    "# Most Important One\n",
    "lrdata6 = add_the_matrix(extra3, common_csv+csv3)"
   ]
  },
  {
   "cell_type": "markdown",
   "metadata": {},
   "source": [
    "### Clear out all the white samples"
   ]
  },
  {
   "cell_type": "code",
   "execution_count": 11,
   "metadata": {},
   "outputs": [],
   "source": [
    "def clear_some(dataset):\n",
    "    dataset_post = dataset[dataset[\"white\"]!=1].drop([\"white\"], axis=1)\n",
    "    \n",
    "    return dataset_post"
   ]
  },
  {
   "cell_type": "code",
   "execution_count": 12,
   "metadata": {},
   "outputs": [],
   "source": [
    "# All_3095\n",
    "lrdata4 = clear_some(lrdata4)\n",
    "# NoViloentRace_3082\n",
    "lrdata5 = clear_some(lrdata5)\n",
    "# NoViloentRaceWhiteBlack_3053\n",
    "# Most Important One\n",
    "lrdata6 = clear_some(lrdata6)"
   ]
  },
  {
   "cell_type": "code",
   "execution_count": 13,
   "metadata": {},
   "outputs": [],
   "source": [
    "lrdata4.to_csv(\"~/Desktop/lrdata_nw4.csv\")"
   ]
  },
  {
   "cell_type": "markdown",
   "metadata": {},
   "source": [
    "# Linear Regression"
   ]
  },
  {
   "cell_type": "code",
   "execution_count": 13,
   "metadata": {},
   "outputs": [
    {
     "data": {
      "text/plain": [
       "Index(['Survey_ID', 'black', 'native', 'asian', 'hawaiian', 'other_race',\n",
       "       'unsure_race', 'latinx', 'fst4', 'snd4', 'trd4', 'age_18-25',\n",
       "       'age_26-35', 'age_36-45', 'age_46-55', 'age_56-65', 'age_66+',\n",
       "       'age_Under 18', 'gender_Gender non-conforming or non-binary or other',\n",
       "       'gender_Man', 'gender_Prefer not to say', 'gender_Woman'],\n",
       "      dtype='object')"
      ]
     },
     "execution_count": 13,
     "metadata": {},
     "output_type": "execute_result"
    }
   ],
   "source": [
    "lrdata4.columns"
   ]
  },
  {
   "cell_type": "code",
   "execution_count": 38,
   "metadata": {},
   "outputs": [
    {
     "data": {
      "text/plain": [
       "(1260, 22)"
      ]
     },
     "execution_count": 38,
     "metadata": {},
     "output_type": "execute_result"
    }
   ],
   "source": [
    "lrdata4.shape"
   ]
  },
  {
   "cell_type": "code",
   "execution_count": 14,
   "metadata": {},
   "outputs": [],
   "source": [
    "def reg_on_123(dataset4lr, dropX=[]):\n",
    "    y1 = dataset4lr[\"fst4\"]\n",
    "    y2 = dataset4lr[\"snd4\"]\n",
    "    y3 = dataset4lr[\"trd4\"]\n",
    "\n",
    "    X = dataset4lr.drop([\"Survey_ID\", \"fst4\", \"snd4\", \"trd4\", \"unsure_race\", \"age_Under 18\",\n",
    "                         \"gender_Gender non-conforming or non-binary or other\"]+dropX, axis=1)\n",
    "    X = sm.add_constant(X)\n",
    "    \n",
    "    model1 = sm.OLS(y1, X).fit()\n",
    "    model2 = sm.OLS(y2, X).fit()\n",
    "    model3 = sm.OLS(y3, X).fit()\n",
    "    \n",
    "    return model1, model2, model3\n",
    "\n",
    "def return_plist(dataset4lr, dropX=[]):\n",
    "    model1, model2, model3 = reg_on_123(dataset4lr, dropX)\n",
    "    \n",
    "    a = (model1.summary2().tables[1]['P>|t|'] <= 0.05) | (model1.summary2().tables[1]['P>|t|'] >= 0.95)\n",
    "    a1 = model1.summary2().tables[1][\"Coef.\"]\n",
    "    b = (model2.summary2().tables[1]['P>|t|'] <= 0.05) | (model2.summary2().tables[1]['P>|t|'] >= 0.95)\n",
    "    b1 = model2.summary2().tables[1][\"Coef.\"]\n",
    "    c = (model3.summary2().tables[1]['P>|t|'] <= 0.05) | (model3.summary2().tables[1]['P>|t|'] >= 0.95)\n",
    "    c1 = model3.summary2().tables[1][\"Coef.\"]\n",
    "    \n",
    "    p_df = pd.concat([a1, a, b1, b, c1, c], axis=1)\n",
    "    p_df.columns = [\"fst_inlist_coef\", \"p<=0.05\", \"snd_inlist_coef\", \"p<=0.05\", \"trd_inlist_coef\", \"p<=0.05\"]\n",
    "    \n",
    "    return p_df"
   ]
  },
  {
   "cell_type": "markdown",
   "metadata": {},
   "source": [
    "### Keep All\n",
    "These groups of models only excluded some variables to clear perfect multicollinearity.\n",
    "The variables excluded for perfect multicollinearity include \"Survey_ID\", \"fst1n2\", \"snd1n2\", \"trd1n2\", \"unsure_race\",\"age_Under 18\", \"gender_Gender non-conforming or non-binary or other\"."
   ]
  },
  {
   "cell_type": "code",
   "execution_count": 15,
   "metadata": {},
   "outputs": [
    {
     "name": "stderr",
     "output_type": "stream",
     "text": [
      "/opt/anaconda3/lib/python3.7/site-packages/numpy/core/fromnumeric.py:2542: FutureWarning: Method .ptp is deprecated and will be removed in a future version. Use numpy.ptp instead.\n",
      "  return ptp(axis=axis, out=out, **kwargs)\n"
     ]
    }
   ],
   "source": [
    "# All_3095\n",
    "S3095_all = return_plist(lrdata4)\n",
    "# NoViloentRace_3082\n",
    "S3082_all = return_plist(lrdata4)\n",
    "# NoViloentRaceWhiteBlack_3053\n",
    "S3053_all = return_plist(lrdata4)"
   ]
  },
  {
   "cell_type": "code",
   "execution_count": 16,
   "metadata": {},
   "outputs": [
    {
     "name": "stdout",
     "output_type": "stream",
     "text": [
      "                          fst_inlist_coef  p<=0.05  snd_inlist_coef  p<=0.05  \\\n",
      "const                            0.437180     True         0.184802    False   \n",
      "black                            0.033523    False        -0.004377    False   \n",
      "native                          -0.011075    False        -0.029330    False   \n",
      "asian                            0.085756    False        -0.015011    False   \n",
      "hawaiian                         0.023533    False        -0.139388    False   \n",
      "other_race                       0.046690    False        -0.042583    False   \n",
      "latinx                          -0.075235     True         0.069159     True   \n",
      "age_18-25                       -0.073784    False         0.136036    False   \n",
      "age_26-35                       -0.123970    False         0.169233    False   \n",
      "age_36-45                       -0.144314    False         0.197149    False   \n",
      "age_46-55                       -0.095236    False         0.155239    False   \n",
      "age_56-65                       -0.129265    False         0.148568    False   \n",
      "age_66+                         -0.127689    False         0.102143    False   \n",
      "gender_Man                      -0.196805     True        -0.179947    False   \n",
      "gender_Prefer not to say        -0.301969     True        -0.265445     True   \n",
      "gender_Woman                    -0.206673     True        -0.196470    False   \n",
      "\n",
      "                          trd_inlist_coef  p<=0.05  \n",
      "const                           -0.057622    False  \n",
      "black                            0.016019    False  \n",
      "native                           0.064889     True  \n",
      "asian                           -0.103678    False  \n",
      "hawaiian                        -0.082337    False  \n",
      "other_race                       0.021423    False  \n",
      "latinx                           0.033436    False  \n",
      "age_18-25                        0.172080    False  \n",
      "age_26-35                        0.152485    False  \n",
      "age_36-45                        0.189175    False  \n",
      "age_46-55                        0.142329    False  \n",
      "age_56-65                        0.182190    False  \n",
      "age_66+                          0.144686    False  \n",
      "gender_Man                       0.011891    False  \n",
      "gender_Prefer not to say         0.002365     True  \n",
      "gender_Woman                     0.011948    False  \n"
     ]
    }
   ],
   "source": [
    "print(S3095_all)"
   ]
  },
  {
   "cell_type": "code",
   "execution_count": 17,
   "metadata": {},
   "outputs": [
    {
     "name": "stdout",
     "output_type": "stream",
     "text": [
      "                          fst_inlist_coef  p<=0.05  snd_inlist_coef  p<=0.05  \\\n",
      "const                            0.437180     True         0.184802    False   \n",
      "black                            0.033523    False        -0.004377    False   \n",
      "native                          -0.011075    False        -0.029330    False   \n",
      "asian                            0.085756    False        -0.015011    False   \n",
      "hawaiian                         0.023533    False        -0.139388    False   \n",
      "other_race                       0.046690    False        -0.042583    False   \n",
      "latinx                          -0.075235     True         0.069159     True   \n",
      "age_18-25                       -0.073784    False         0.136036    False   \n",
      "age_26-35                       -0.123970    False         0.169233    False   \n",
      "age_36-45                       -0.144314    False         0.197149    False   \n",
      "age_46-55                       -0.095236    False         0.155239    False   \n",
      "age_56-65                       -0.129265    False         0.148568    False   \n",
      "age_66+                         -0.127689    False         0.102143    False   \n",
      "gender_Man                      -0.196805     True        -0.179947    False   \n",
      "gender_Prefer not to say        -0.301969     True        -0.265445     True   \n",
      "gender_Woman                    -0.206673     True        -0.196470    False   \n",
      "\n",
      "                          trd_inlist_coef  p<=0.05  \n",
      "const                           -0.057622    False  \n",
      "black                            0.016019    False  \n",
      "native                           0.064889     True  \n",
      "asian                           -0.103678    False  \n",
      "hawaiian                        -0.082337    False  \n",
      "other_race                       0.021423    False  \n",
      "latinx                           0.033436    False  \n",
      "age_18-25                        0.172080    False  \n",
      "age_26-35                        0.152485    False  \n",
      "age_36-45                        0.189175    False  \n",
      "age_46-55                        0.142329    False  \n",
      "age_56-65                        0.182190    False  \n",
      "age_66+                          0.144686    False  \n",
      "gender_Man                       0.011891    False  \n",
      "gender_Prefer not to say         0.002365     True  \n",
      "gender_Woman                     0.011948    False  \n"
     ]
    }
   ],
   "source": [
    "print(S3082_all)"
   ]
  },
  {
   "cell_type": "code",
   "execution_count": 18,
   "metadata": {},
   "outputs": [
    {
     "name": "stdout",
     "output_type": "stream",
     "text": [
      "                          fst_inlist_coef  p<=0.05  snd_inlist_coef  p<=0.05  \\\n",
      "const                            0.437180     True         0.184802    False   \n",
      "black                            0.033523    False        -0.004377    False   \n",
      "native                          -0.011075    False        -0.029330    False   \n",
      "asian                            0.085756    False        -0.015011    False   \n",
      "hawaiian                         0.023533    False        -0.139388    False   \n",
      "other_race                       0.046690    False        -0.042583    False   \n",
      "latinx                          -0.075235     True         0.069159     True   \n",
      "age_18-25                       -0.073784    False         0.136036    False   \n",
      "age_26-35                       -0.123970    False         0.169233    False   \n",
      "age_36-45                       -0.144314    False         0.197149    False   \n",
      "age_46-55                       -0.095236    False         0.155239    False   \n",
      "age_56-65                       -0.129265    False         0.148568    False   \n",
      "age_66+                         -0.127689    False         0.102143    False   \n",
      "gender_Man                      -0.196805     True        -0.179947    False   \n",
      "gender_Prefer not to say        -0.301969     True        -0.265445     True   \n",
      "gender_Woman                    -0.206673     True        -0.196470    False   \n",
      "\n",
      "                          trd_inlist_coef  p<=0.05  \n",
      "const                           -0.057622    False  \n",
      "black                            0.016019    False  \n",
      "native                           0.064889     True  \n",
      "asian                           -0.103678    False  \n",
      "hawaiian                        -0.082337    False  \n",
      "other_race                       0.021423    False  \n",
      "latinx                           0.033436    False  \n",
      "age_18-25                        0.172080    False  \n",
      "age_26-35                        0.152485    False  \n",
      "age_36-45                        0.189175    False  \n",
      "age_46-55                        0.142329    False  \n",
      "age_56-65                        0.182190    False  \n",
      "age_66+                          0.144686    False  \n",
      "gender_Man                       0.011891    False  \n",
      "gender_Prefer not to say         0.002365     True  \n",
      "gender_Woman                     0.011948    False  \n"
     ]
    }
   ],
   "source": [
    "print(S3053_all)"
   ]
  },
  {
   "cell_type": "markdown",
   "metadata": {},
   "source": [
    "### No Black\n",
    "Other than same variables above to clear perfect multicollinearity, these groups of models also excluded \"black\"."
   ]
  },
  {
   "cell_type": "code",
   "execution_count": 21,
   "metadata": {},
   "outputs": [],
   "source": [
    "nb = [\"black\"]"
   ]
  },
  {
   "cell_type": "code",
   "execution_count": 22,
   "metadata": {},
   "outputs": [],
   "source": [
    "# All_3095\n",
    "S3095_nb = return_plist(lrdata4, nb)\n",
    "# NoRace_3082\n",
    "S3082_nb = return_plist(lrdata5, nb)\n",
    "# NoRaceWhiteBlack_3053\n",
    "S3053_nb = return_plist(lrdata6, nb)"
   ]
  },
  {
   "cell_type": "code",
   "execution_count": 23,
   "metadata": {},
   "outputs": [
    {
     "name": "stdout",
     "output_type": "stream",
     "text": [
      "                          fst_inlist_coef  p<=0.05  snd_inlist_coef  p<=0.05  \\\n",
      "const                            0.464452     True         0.181241    False   \n",
      "native                          -0.028624    False        -0.027038    False   \n",
      "asian                            0.069487    False        -0.012887    False   \n",
      "hawaiian                         0.007865    False        -0.137343    False   \n",
      "other_race                       0.027976    False        -0.040139    False   \n",
      "latinx                          -0.083987     True         0.070302     True   \n",
      "age_18-25                       -0.068834    False         0.135390    False   \n",
      "age_26-35                       -0.119660    False         0.168670    False   \n",
      "age_36-45                       -0.139860    False         0.196567    False   \n",
      "age_46-55                       -0.090735    False         0.154652    False   \n",
      "age_56-65                       -0.124693    False         0.147971    False   \n",
      "age_66+                         -0.125381    False         0.101841    False   \n",
      "gender_Man                      -0.198458     True        -0.179731    False   \n",
      "gender_Prefer not to say        -0.306996     True        -0.264789     True   \n",
      "gender_Woman                    -0.208735     True        -0.196201    False   \n",
      "\n",
      "                          trd_inlist_coef  p<=0.05  \n",
      "const                           -0.044590    False  \n",
      "native                           0.056503     True  \n",
      "asian                           -0.111452    False  \n",
      "hawaiian                        -0.089823    False  \n",
      "other_race                       0.012480    False  \n",
      "latinx                           0.029254    False  \n",
      "age_18-25                        0.174445    False  \n",
      "age_26-35                        0.154544    False  \n",
      "age_36-45                        0.191304    False  \n",
      "age_46-55                        0.144479    False  \n",
      "age_56-65                        0.184375    False  \n",
      "age_66+                          0.145789    False  \n",
      "gender_Man                       0.011101    False  \n",
      "gender_Prefer not to say        -0.000037     True  \n",
      "gender_Woman                     0.010962    False  \n"
     ]
    }
   ],
   "source": [
    "print(S3095_nb)"
   ]
  },
  {
   "cell_type": "code",
   "execution_count": 28,
   "metadata": {},
   "outputs": [
    {
     "name": "stdout",
     "output_type": "stream",
     "text": [
      "                          fst_inlist_coef  p<=0.05  snd_inlist_coef  p<=0.05  \\\n",
      "const                            0.393740    False         0.038503    False   \n",
      "native                           0.075226     True        -0.048462    False   \n",
      "asian                           -0.072721    False        -0.097973    False   \n",
      "hawaiian                        -0.021502    False         0.007511    False   \n",
      "other_race                      -0.002334    False        -0.056865     True   \n",
      "latinx                           0.017643    False         0.001617     True   \n",
      "age_18-25                       -0.193255    False         0.182342    False   \n",
      "age_26-35                       -0.130262    False         0.175317    False   \n",
      "age_36-45                       -0.201310    False         0.170405    False   \n",
      "age_46-55                       -0.221820    False         0.204223    False   \n",
      "age_56-65                       -0.187431    False         0.218373    False   \n",
      "age_66+                         -0.197742    False         0.269099    False   \n",
      "gender_Man                      -0.045161    False        -0.011899    False   \n",
      "gender_Prefer not to say         0.063511    False        -0.105650    False   \n",
      "gender_Woman                    -0.018164    False        -0.082202    False   \n",
      "\n",
      "                          trd_inlist_coef  p<=0.05  \n",
      "const                           -0.022098    False  \n",
      "native                          -0.025173    False  \n",
      "asian                            0.054611    False  \n",
      "hawaiian                         0.137204    False  \n",
      "other_race                       0.046826    False  \n",
      "latinx                          -0.044273    False  \n",
      "age_18-25                        0.231925    False  \n",
      "age_26-35                        0.157203    False  \n",
      "age_36-45                        0.170222    False  \n",
      "age_46-55                        0.185186    False  \n",
      "age_56-65                        0.206677    False  \n",
      "age_66+                          0.027889    False  \n",
      "gender_Man                       0.036324    False  \n",
      "gender_Prefer not to say        -0.059775    False  \n",
      "gender_Woman                     0.050383    False  \n"
     ]
    }
   ],
   "source": [
    "print(S3082_nb)"
   ]
  },
  {
   "cell_type": "code",
   "execution_count": 40,
   "metadata": {},
   "outputs": [],
   "source": [
    "S3053_nb.to_csv(\"~/Desktop/b.csv\")"
   ]
  },
  {
   "cell_type": "markdown",
   "metadata": {},
   "source": [
    "### Only Black\n",
    "Other than same variables above to clear perfect multicollinearity, these groups of models also excluded all race binary variables excpet \"black\"."
   ]
  },
  {
   "cell_type": "code",
   "execution_count": 30,
   "metadata": {},
   "outputs": [],
   "source": [
    "ob = [\"native\", \"asian\", \"hawaiian\", \"other_race\", \"unsure_race\", \"latinx\"]"
   ]
  },
  {
   "cell_type": "code",
   "execution_count": 31,
   "metadata": {},
   "outputs": [],
   "source": [
    "# All_3095\n",
    "S3095_ob = return_plist(lrdata4, ob)\n",
    "# NoRace_3082\n",
    "S3082_ob = return_plist(lrdata5, ob)\n",
    "# NoRaceWhiteBlack_3053\n",
    "S3053_ob = return_plist(lrdata6, ob)"
   ]
  },
  {
   "cell_type": "code",
   "execution_count": 32,
   "metadata": {},
   "outputs": [
    {
     "name": "stdout",
     "output_type": "stream",
     "text": [
      "                          fst_inlist_coef  p<=0.05  snd_inlist_coef  p<=0.05  \\\n",
      "const                            0.386994     True         0.173184    False   \n",
      "black                            0.039855     True         0.000884     True   \n",
      "age_18-25                       -0.038534    False         0.141889    False   \n",
      "age_26-35                       -0.085595    False         0.169402    False   \n",
      "age_36-45                       -0.100600    False         0.191049    False   \n",
      "age_46-55                       -0.053804    False         0.153038    False   \n",
      "age_56-65                       -0.083884    False         0.143820    False   \n",
      "age_66+                         -0.077984    False         0.091800    False   \n",
      "gender_Man                      -0.194965     True        -0.173361    False   \n",
      "gender_Prefer not to say        -0.283362     True        -0.273444     True   \n",
      "gender_Woman                    -0.207872     True        -0.191214    False   \n",
      "\n",
      "                          trd_inlist_coef  p<=0.05  \n",
      "const                            0.007301     True  \n",
      "black                           -0.022118    False  \n",
      "age_18-25                        0.167884    False  \n",
      "age_26-35                        0.149617    False  \n",
      "age_36-45                        0.183778    False  \n",
      "age_46-55                        0.136763    False  \n",
      "age_56-65                        0.174110    False  \n",
      "age_66+                          0.138383    False  \n",
      "gender_Man                      -0.002877     True  \n",
      "gender_Prefer not to say        -0.025185    False  \n",
      "gender_Woman                     0.000299     True  \n"
     ]
    }
   ],
   "source": [
    "print(S3095_ob)"
   ]
  },
  {
   "cell_type": "code",
   "execution_count": 42,
   "metadata": {},
   "outputs": [],
   "source": [
    "S3095_ob.to_csv(\"~/Desktop/b.csv\")"
   ]
  },
  {
   "cell_type": "code",
   "execution_count": 33,
   "metadata": {},
   "outputs": [
    {
     "name": "stdout",
     "output_type": "stream",
     "text": [
      "                          fst_inlist_coef  p<=0.05  snd_inlist_coef  p<=0.05  \\\n",
      "const                            0.471711     True        -0.013984    False   \n",
      "black                           -0.039486    False         0.042092    False   \n",
      "age_18-25                       -0.215712    False         0.166609    False   \n",
      "age_26-35                       -0.151482    False         0.158163    False   \n",
      "age_36-45                       -0.222730    False         0.151952    False   \n",
      "age_46-55                       -0.241387    False         0.189304    False   \n",
      "age_56-65                       -0.211487    False         0.204908    False   \n",
      "age_66+                         -0.219117    False         0.254565    False   \n",
      "gender_Man                      -0.063814    False         0.005565     True   \n",
      "gender_Prefer not to say         0.035518    False        -0.091853    False   \n",
      "gender_Woman                    -0.031257    False        -0.063495    False   \n",
      "\n",
      "                          trd_inlist_coef  p<=0.05  \n",
      "const                           -0.046484    False  \n",
      "black                           -0.012634    False  \n",
      "age_18-25                        0.248713    False  \n",
      "age_26-35                        0.175626    False  \n",
      "age_36-45                        0.192508    False  \n",
      "age_46-55                        0.204242    False  \n",
      "age_56-65                        0.231768    False  \n",
      "age_66+                          0.050814    False  \n",
      "gender_Man                       0.049011    False  \n",
      "gender_Prefer not to say        -0.036565    False  \n",
      "gender_Woman                     0.059356    False  \n"
     ]
    }
   ],
   "source": [
    "print(S3082_ob)"
   ]
  },
  {
   "cell_type": "code",
   "execution_count": 34,
   "metadata": {},
   "outputs": [
    {
     "name": "stdout",
     "output_type": "stream",
     "text": [
      "                          fst_inlist_coef  p<=0.05  snd_inlist_coef  p<=0.05  \\\n",
      "const                            0.231046    False        -0.050892    False   \n",
      "black                           -0.036978    False        -0.054670     True   \n",
      "age_18-25                       -0.045577    False         0.106684    False   \n",
      "age_26-35                       -0.071509    False         0.154333    False   \n",
      "age_36-45                       -0.078297    False         0.202768    False   \n",
      "age_46-55                        0.000247     True         0.174136    False   \n",
      "age_56-65                       -0.019092    False         0.204856    False   \n",
      "age_66+                         -0.103187    False         0.143525    False   \n",
      "gender_Man                      -0.023650    False         0.061826    False   \n",
      "gender_Prefer not to say         0.027010    False         0.113632    False   \n",
      "gender_Woman                    -0.027370    False         0.113505    False   \n",
      "\n",
      "                          trd_inlist_coef  p<=0.05  \n",
      "const                            0.246468    False  \n",
      "black                           -0.001885    False  \n",
      "age_18-25                        0.041087    False  \n",
      "age_26-35                       -0.017061    False  \n",
      "age_36-45                       -0.022404    False  \n",
      "age_46-55                       -0.061015    False  \n",
      "age_56-65                        0.006847     True  \n",
      "age_66+                         -0.155601    False  \n",
      "gender_Man                      -0.046091    False  \n",
      "gender_Prefer not to say        -0.049786    False  \n",
      "gender_Woman                    -0.049621    False  \n"
     ]
    }
   ],
   "source": [
    "print(S3053_ob)"
   ]
  },
  {
   "cell_type": "code",
   "execution_count": 41,
   "metadata": {},
   "outputs": [],
   "source": [
    "S3053_ob.to_csv(\"~/Desktop/a.csv\")"
   ]
  },
  {
   "cell_type": "code",
   "execution_count": null,
   "metadata": {},
   "outputs": [],
   "source": []
  }
 ],
 "metadata": {
  "kernelspec": {
   "display_name": "geo_env",
   "language": "python",
   "name": "geo_env"
  },
  "language_info": {
   "codemirror_mode": {
    "name": "ipython",
    "version": 3
   },
   "file_extension": ".py",
   "mimetype": "text/x-python",
   "name": "python",
   "nbconvert_exporter": "python",
   "pygments_lexer": "ipython3",
   "version": "3.7.6"
  }
 },
 "nbformat": 4,
 "nbformat_minor": 4
}
