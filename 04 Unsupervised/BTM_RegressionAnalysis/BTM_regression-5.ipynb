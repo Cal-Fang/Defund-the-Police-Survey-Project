{
 "cells": [
  {
   "cell_type": "markdown",
   "metadata": {},
   "source": [
    "# Data Importing"
   ]
  },
  {
   "cell_type": "code",
   "execution_count": 1,
   "metadata": {},
   "outputs": [],
   "source": [
    "# Importing modules\n",
    "import pandas as pd\n",
    "import numpy as np\n",
    "import scipy.stats as stats\n",
    "import statsmodels.api as sm\n",
    "\n",
    "from sklearn.linear_model import LinearRegression\n",
    "\n",
    "# Read data into papers\n",
    "data = pd.read_csv(\"/Users/atchoo/Google Drive/Research Assistant/Work With David Knight/Survey of the Incarcerated/TMPPoliticalSurveyFULL_ForDavid.csv\", encoding = \"ISO-8859-1\")\n",
    "\n",
    "# Print head\n",
    "# print(data.columns)"
   ]
  },
  {
   "cell_type": "code",
   "execution_count": 2,
   "metadata": {},
   "outputs": [],
   "source": [
    "# Insert an id index for future work\n",
    "data[\"Survey_ID\"] = data.index + 1\n",
    "\n",
    "# Remove the columns\n",
    "str_data = data[[\"Survey_ID\", \"explain_politics_changed_since_incarcerated\",\\\n",
    "                 \"explain_race_affects_politics\", 'identifies_as_black', 'identifies_as_white',\n",
    "                 \"identifies_as_native\", 'identifies_as_asian', \n",
    "                 'identifies_as_hawaiian_or_pac_islander', 'identifies_as_other_race',\n",
    "                 'identifies_as_not_sure_of_race', 'identifies_as_hispanic_or_latinx',\n",
    "                 \"age\", \"gender\"]]\n",
    "# Print out the first rows of papers\n",
    "str_data.columns = [\"Survey_ID\", \"p_change\", \"r_effect\", \"black\", \"white\", \"native\", \"asian\",\n",
    "                   \"hawaiian\", \"other_race\", \"unsure_race\", \"latinx\", \"age\", \"gender\"]\n",
    "str_data = str_data.dropna()"
   ]
  },
  {
   "cell_type": "markdown",
   "metadata": {},
   "source": [
    "# Make Remove Stopword Functions"
   ]
  },
  {
   "cell_type": "code",
   "execution_count": 3,
   "metadata": {},
   "outputs": [],
   "source": [
    "# Load the regular expression library and the nltk word library\n",
    "import re\n",
    "import nltk\n",
    "\n",
    "# Create a function to remove nonsense words\n",
    "words = set(nltk.corpus.words.words())\n",
    "def clean_sent(sent):\n",
    "    return \" \".join(w for w in nltk.wordpunct_tokenize(sent) \\\n",
    "     if w.lower() in words or not w.isalpha())\n",
    "\n",
    "strv_list = [\"p_change\", \"r_effect\"]\n",
    "for strv in strv_list:\n",
    "    # Remove punctuation & Convert the titles to lowercase\n",
    "    str_data[strv] = str_data[strv].map(lambda x: re.sub(r'[^\\w\\s]', \"\", x)).map(lambda x: x.lower())\n",
    "    # Remove nonsense words\n",
    "    str_data[strv] = str_data[strv].apply(clean_sent)\n",
    "    # Transform blank cells to NaN & Drop NaN\n",
    "    str_data = str_data.replace(r'^\\s*$', np.nan, regex=True).dropna()"
   ]
  },
  {
   "cell_type": "code",
   "execution_count": 4,
   "metadata": {},
   "outputs": [
    {
     "data": {
      "text/html": [
       "<div>\n",
       "<style scoped>\n",
       "    .dataframe tbody tr th:only-of-type {\n",
       "        vertical-align: middle;\n",
       "    }\n",
       "\n",
       "    .dataframe tbody tr th {\n",
       "        vertical-align: top;\n",
       "    }\n",
       "\n",
       "    .dataframe thead th {\n",
       "        text-align: right;\n",
       "    }\n",
       "</style>\n",
       "<table border=\"1\" class=\"dataframe\">\n",
       "  <thead>\n",
       "    <tr style=\"text-align: right;\">\n",
       "      <th></th>\n",
       "      <th>Survey_ID</th>\n",
       "      <th>p_change</th>\n",
       "      <th>r_effect</th>\n",
       "      <th>black</th>\n",
       "      <th>white</th>\n",
       "      <th>native</th>\n",
       "      <th>asian</th>\n",
       "      <th>hawaiian</th>\n",
       "      <th>other_race</th>\n",
       "      <th>unsure_race</th>\n",
       "      <th>latinx</th>\n",
       "      <th>age</th>\n",
       "      <th>gender</th>\n",
       "    </tr>\n",
       "  </thead>\n",
       "  <tbody>\n",
       "    <tr>\n",
       "      <th>0</th>\n",
       "      <td>1</td>\n",
       "      <td>no</td>\n",
       "      <td>not at all not racist all of the human race is...</td>\n",
       "      <td>False</td>\n",
       "      <td>True</td>\n",
       "      <td>False</td>\n",
       "      <td>False</td>\n",
       "      <td>False</td>\n",
       "      <td>False</td>\n",
       "      <td>False</td>\n",
       "      <td>False</td>\n",
       "      <td>46-55</td>\n",
       "      <td>Man</td>\n",
       "    </tr>\n",
       "    <tr>\n",
       "      <th>2</th>\n",
       "      <td>3</td>\n",
       "      <td>i feel that the parole board the some of the p...</td>\n",
       "      <td>not sure about that</td>\n",
       "      <td>False</td>\n",
       "      <td>True</td>\n",
       "      <td>False</td>\n",
       "      <td>False</td>\n",
       "      <td>False</td>\n",
       "      <td>False</td>\n",
       "      <td>False</td>\n",
       "      <td>False</td>\n",
       "      <td>46-55</td>\n",
       "      <td>Woman</td>\n",
       "    </tr>\n",
       "    <tr>\n",
       "      <th>3</th>\n",
       "      <td>4</td>\n",
       "      <td>yes bit</td>\n",
       "      <td>i am not really sure about that one</td>\n",
       "      <td>False</td>\n",
       "      <td>True</td>\n",
       "      <td>False</td>\n",
       "      <td>False</td>\n",
       "      <td>False</td>\n",
       "      <td>False</td>\n",
       "      <td>False</td>\n",
       "      <td>False</td>\n",
       "      <td>36-45</td>\n",
       "      <td>Woman</td>\n",
       "    </tr>\n",
       "    <tr>\n",
       "      <th>5</th>\n",
       "      <td>6</td>\n",
       "      <td>most are full of</td>\n",
       "      <td>i do not understand this question maybe theres...</td>\n",
       "      <td>True</td>\n",
       "      <td>False</td>\n",
       "      <td>False</td>\n",
       "      <td>False</td>\n",
       "      <td>False</td>\n",
       "      <td>False</td>\n",
       "      <td>False</td>\n",
       "      <td>False</td>\n",
       "      <td>26-35</td>\n",
       "      <td>Woman</td>\n",
       "    </tr>\n",
       "    <tr>\n",
       "      <th>6</th>\n",
       "      <td>7</td>\n",
       "      <td>i never considered the prison population or pr...</td>\n",
       "      <td>i try to vote based on the but i am and many i...</td>\n",
       "      <td>False</td>\n",
       "      <td>True</td>\n",
       "      <td>False</td>\n",
       "      <td>False</td>\n",
       "      <td>False</td>\n",
       "      <td>False</td>\n",
       "      <td>False</td>\n",
       "      <td>False</td>\n",
       "      <td>46-55</td>\n",
       "      <td>Woman</td>\n",
       "    </tr>\n",
       "  </tbody>\n",
       "</table>\n",
       "</div>"
      ],
      "text/plain": [
       "   Survey_ID                                           p_change  \\\n",
       "0          1                                                 no   \n",
       "2          3  i feel that the parole board the some of the p...   \n",
       "3          4                                            yes bit   \n",
       "5          6                                   most are full of   \n",
       "6          7  i never considered the prison population or pr...   \n",
       "\n",
       "                                            r_effect  black  white  native  \\\n",
       "0  not at all not racist all of the human race is...  False   True   False   \n",
       "2                                not sure about that  False   True   False   \n",
       "3                i am not really sure about that one  False   True   False   \n",
       "5  i do not understand this question maybe theres...   True  False   False   \n",
       "6  i try to vote based on the but i am and many i...  False   True   False   \n",
       "\n",
       "   asian  hawaiian  other_race  unsure_race  latinx    age gender  \n",
       "0  False     False       False        False   False  46-55    Man  \n",
       "2  False     False       False        False   False  46-55  Woman  \n",
       "3  False     False       False        False   False  36-45  Woman  \n",
       "5  False     False       False        False   False  26-35  Woman  \n",
       "6  False     False       False        False   False  46-55  Woman  "
      ]
     },
     "execution_count": 4,
     "metadata": {},
     "output_type": "execute_result"
    }
   ],
   "source": [
    "str_data.head()"
   ]
  },
  {
   "cell_type": "code",
   "execution_count": 5,
   "metadata": {},
   "outputs": [],
   "source": [
    "# remove stop words\n",
    "# nltk.download('stopwords')\n",
    "from nltk.corpus import stopwords\n",
    "from gensim.utils import simple_preprocess\n",
    "\n",
    "def remove_stopwords(texts):\n",
    "    return [[word for word in simple_preprocess(str(doc)) if word not in stop_words] for doc in texts]"
   ]
  },
  {
   "cell_type": "markdown",
   "metadata": {},
   "source": [
    "# Data Exporting for C++"
   ]
  },
  {
   "cell_type": "code",
   "execution_count": 6,
   "metadata": {},
   "outputs": [],
   "source": [
    "extrastopword = []"
   ]
  },
  {
   "cell_type": "code",
   "execution_count": 7,
   "metadata": {},
   "outputs": [],
   "source": [
    "stop_words = stopwords.words(\"english\")\n",
    "stop_words.extend([\"don\", \"people\", \"bill\", \"step\", \"act\", \"first\", \"u\", \"n\", \n",
    "                   \"na\", \"non\"]+extrastopword)\n",
    "yesnno = [\"yes\", \"no\"]\n",
    "stop_words =  [word for word in stop_words if word not in yesnno]"
   ]
  },
  {
   "cell_type": "code",
   "execution_count": 8,
   "metadata": {},
   "outputs": [
    {
     "data": {
      "text/plain": [
       "3095"
      ]
     },
     "execution_count": 8,
     "metadata": {},
     "output_type": "execute_result"
    }
   ],
   "source": [
    "r_effect = remove_stopwords(str_data[\"r_effect\"])\n",
    "r_effect = pd.DataFrame([x for x in r_effect if x])\n",
    "len(r_effect)"
   ]
  },
  {
   "cell_type": "code",
   "execution_count": 9,
   "metadata": {},
   "outputs": [],
   "source": [
    "#r_effect.to_csv('/Users/atchoo/Desktop/r_effect_3082.txt', header=None, index=None, sep=' ', mode='a')"
   ]
  },
  {
   "cell_type": "markdown",
   "metadata": {},
   "source": [
    "# Include the Topic info"
   ]
  },
  {
   "cell_type": "code",
   "execution_count": 10,
   "metadata": {},
   "outputs": [],
   "source": [
    "def add_the_matrix(extrastopword, csvfile, tlist=[\"topic 5\"]):\n",
    "    \n",
    "    assert isinstance(extrastopword, list), \"Should be a list of the extra stop words.\"\n",
    "    assert isinstance(csvfile, str), \"Should be the path of the matrix file.\"\n",
    "    \n",
    "    # change the stop words\n",
    "    stop_words = stopwords.words(\"english\")\n",
    "    stop_words.extend([\"don\", \"people\", \"bill\", \"step\", \"act\", \"first\", \"u\", \"n\", \n",
    "                       \"na\", \"non\"]+extrastopword)\n",
    "    yesnno = [\"yes\", \"no\"]\n",
    "    stop_words =  [word for word in stop_words if word not in yesnno]\n",
    "    # remove stop words\n",
    "    r_effect = [[word for word in simple_preprocess(str(doc)) if word not in stop_words] for doc in str_data[\"r_effect\"]]\n",
    "    r_effect = pd.DataFrame([x for x in r_effect if x])\n",
    "    \n",
    "    # create index variable for whether a row is left\n",
    "    r_effect2 = []\n",
    "    for doc in str_data[\"r_effect\"]:\n",
    "        if all(word in stop_words for word in simple_preprocess(doc)):\n",
    "               i_str = False\n",
    "        else: \n",
    "               i_str = True\n",
    "        r_effect2.append(i_str)\n",
    "    inBTM = pd.DataFrame(r_effect2, columns=[\"inBTM\"])\n",
    "    # filter str_data based on inBTM result into str_datar\n",
    "    str_datar = pd.concat([str_data.reset_index(drop=True), inBTM], axis=1)\n",
    "    str_datar = str_datar[str_datar[\"inBTM\"]==True]\n",
    "    \n",
    "    # read in the topicmatrix file\n",
    "    matrix = pd.read_csv(csvfile, \n",
    "                         names=[\"topic 1\", \"topic 2\", \"topic 3\", \"topic 4\", \"topic 5\", \"topic 6\"])\n",
    "    a = matrix.idxmax(axis=1)\n",
    "    b = matrix.T.apply(lambda x: x.nlargest(2).idxmin())\n",
    "    c = matrix.T.apply(lambda x: x.nlargest(3).idxmin())\n",
    "    topic = pd.concat([a, b, c], axis=1, ignore_index=False)\n",
    "\n",
    "    # concatenate topic matrix and str_datar as str_datar\n",
    "    str_datar2 = pd.concat([str_datar.reset_index(drop=True), topic], axis=1)\n",
    "    str_datar2 = str_datar2.rename(columns={0:\"fsttopic\", 1:\"sndtopic\", 2:\"trdtopic\"})\n",
    "\n",
    "    # CREATE THE CHISQUARE DATAFRAME\n",
    "    race = [\"black\", \"white\", \"native\", \"asian\", \"hawaiian\", \"other_race\", \"unsure_race\", \"latinx\"]\n",
    "    topic = [\"fsttopic\", \"sndtopic\", \"trdtopic\"]\n",
    "    chisq = str_datar2.loc[:, [\"Survey_ID\"]+race+topic].dropna()\n",
    "        ## clean the race variable a little bit\n",
    "    chisq.loc[:, race] = chisq.loc[:, race].astype(int)\n",
    "    chisq[\"Race\"] = chisq.loc[:, race].idxmax(axis=1)\n",
    "    \n",
    "    # CREATE THE REGRESSION DATAFRAME\n",
    "    chisq[\"fst5\"] = chisq[\"fsttopic\"].isin(tlist)\n",
    "    chisq[\"snd5\"] = chisq[\"sndtopic\"].isin(tlist)\n",
    "    chisq[\"trd5\"] = chisq[\"trdtopic\"].isin(tlist)\n",
    "    cor = chisq.drop([\"fsttopic\", \"sndtopic\", \"trdtopic\", \"Race\"], axis=1)\n",
    "    cov = str_data[[\"Survey_ID\", \"age\", \"gender\"]]\n",
    "    cov = pd.get_dummies(cov, columns=[\"age\", \"gender\"])\n",
    "    lrdata = cor.merge(cov, on=\"Survey_ID\")\n",
    "    \n",
    "    return lrdata"
   ]
  },
  {
   "cell_type": "code",
   "execution_count": 11,
   "metadata": {},
   "outputs": [],
   "source": [
    "common_csv = \"~/Google Drive/Research Assistant/Work With David Knight/Survey of the Incarcerated/BTM/BTM_Regression_Exploration/\"\n",
    "extra1 = []\n",
    "csv1 = \"All_3095/topicmatrix.csv\"\n",
    "\n",
    "extra2 = [\"violent\", \"race\"]\n",
    "csv2 = \"NoViloentRace_3082/topicmatrix_3082.csv\"\n",
    "\n",
    "extra3 = [\"violent\", \"race\", \"white\", \"black\"]\n",
    "csv3 = \"NoViloentRaceWhiteBlack_3053/topicmatrix_3053.csv\""
   ]
  },
  {
   "cell_type": "code",
   "execution_count": 12,
   "metadata": {},
   "outputs": [],
   "source": [
    "lrdata4 = add_the_matrix(extra1, common_csv+csv1)\n",
    "lrdata5 = add_the_matrix(extra2, common_csv+csv2)\n",
    "lrdata6 = add_the_matrix(extra3, common_csv+csv3)"
   ]
  },
  {
   "cell_type": "markdown",
   "metadata": {},
   "source": [
    "# Linear Regression"
   ]
  },
  {
   "cell_type": "code",
   "execution_count": 13,
   "metadata": {},
   "outputs": [
    {
     "data": {
      "text/plain": [
       "Index(['Survey_ID', 'black', 'white', 'native', 'asian', 'hawaiian',\n",
       "       'other_race', 'unsure_race', 'latinx', 'fst5', 'snd5', 'trd5',\n",
       "       'age_18-25', 'age_26-35', 'age_36-45', 'age_46-55', 'age_56-65',\n",
       "       'age_66+', 'age_Under 18',\n",
       "       'gender_Gender non-conforming or non-binary or other', 'gender_Man',\n",
       "       'gender_Prefer not to say', 'gender_Woman'],\n",
       "      dtype='object')"
      ]
     },
     "execution_count": 13,
     "metadata": {},
     "output_type": "execute_result"
    }
   ],
   "source": [
    "lrdata4.columns"
   ]
  },
  {
   "cell_type": "code",
   "execution_count": 14,
   "metadata": {},
   "outputs": [],
   "source": [
    "def reg_on_123(dataset4lr, dropX=[]):\n",
    "    y1 = dataset4lr[\"fst5\"]\n",
    "    y2 = dataset4lr[\"snd5\"]\n",
    "    y3 = dataset4lr[\"trd5\"]\n",
    "\n",
    "    X = dataset4lr.drop([\"Survey_ID\", \"fst5\", \"snd5\", \"trd5\", \"unsure_race\", \"age_Under 18\",\n",
    "                         \"gender_Gender non-conforming or non-binary or other\"]+dropX, axis=1)\n",
    "    X = sm.add_constant(X)\n",
    "    \n",
    "    model1 = sm.OLS(y1, X).fit()\n",
    "    model2 = sm.OLS(y2, X).fit()\n",
    "    model3 = sm.OLS(y3, X).fit()\n",
    "    \n",
    "    return model1, model2, model3\n",
    "\n",
    "def return_plist(dataset4lr, dropX=[]):\n",
    "    model1, model2, model3 = reg_on_123(dataset4lr, dropX)\n",
    "    \n",
    "    a = (model1.summary2().tables[1]['P>|t|'] <= 0.05) | (model1.summary2().tables[1]['P>|t|'] >= 0.95)\n",
    "    a1 = model1.summary2().tables[1][\"Coef.\"]\n",
    "    b = (model2.summary2().tables[1]['P>|t|'] <= 0.05) | (model2.summary2().tables[1]['P>|t|'] >= 0.95)\n",
    "    b1 = model2.summary2().tables[1][\"Coef.\"]\n",
    "    c = (model3.summary2().tables[1]['P>|t|'] <= 0.05) | (model3.summary2().tables[1]['P>|t|'] >= 0.95)\n",
    "    c1 = model3.summary2().tables[1][\"Coef.\"]\n",
    "    \n",
    "    p_df = pd.concat([a1, a, b1, b, c1, c], axis=1)\n",
    "    p_df.columns = [\"fst_inlist_coef\", \"p<=0.05\", \"snd_inlist_coef\", \"p<=0.05\", \"trd_inlist_coef\", \"p<=0.05\"]\n",
    "    \n",
    "    return p_df"
   ]
  },
  {
   "cell_type": "markdown",
   "metadata": {},
   "source": [
    "### Keep All\n",
    "These groups of models only excluded some variables to clear perfect multicollinearity.\n",
    "The variables excluded for perfect multicollinearity include \"Survey_ID\", \"fst1n2\", \"snd1n2\", \"trd1n2\", \"unsure_race\",\"age_Under 18\", \"gender_Gender non-conforming or non-binary or other\"."
   ]
  },
  {
   "cell_type": "code",
   "execution_count": 15,
   "metadata": {},
   "outputs": [
    {
     "name": "stderr",
     "output_type": "stream",
     "text": [
      "/opt/anaconda3/lib/python3.7/site-packages/numpy/core/fromnumeric.py:2542: FutureWarning: Method .ptp is deprecated and will be removed in a future version. Use numpy.ptp instead.\n",
      "  return ptp(axis=axis, out=out, **kwargs)\n"
     ]
    }
   ],
   "source": [
    "# All_3095\n",
    "S3095_all = return_plist(lrdata4)\n",
    "# NoViloentRace_3082\n",
    "S3082_all = return_plist(lrdata4)\n",
    "# NoViloentRaceWhiteBlack_3053\n",
    "S3053_all = return_plist(lrdata4)"
   ]
  },
  {
   "cell_type": "code",
   "execution_count": 16,
   "metadata": {},
   "outputs": [
    {
     "name": "stdout",
     "output_type": "stream",
     "text": [
      "                          fst_inlist_coef  p<=0.05  snd_inlist_coef  p<=0.05  \\\n",
      "const                           -0.053770    False         0.151685    False   \n",
      "black                            0.026793    False        -0.002332    False   \n",
      "white                           -0.004315    False        -0.019005    False   \n",
      "native                           0.023902    False        -0.001953    False   \n",
      "asian                           -0.029110    False         0.008141    False   \n",
      "hawaiian                        -0.019929    False        -0.039173    False   \n",
      "other_race                      -0.009233    False        -0.011365    False   \n",
      "latinx                           0.041802     True        -0.056367     True   \n",
      "age_18-25                        0.132390    False        -0.025742    False   \n",
      "age_26-35                        0.161439    False        -0.035056    False   \n",
      "age_36-45                        0.176766    False        -0.040463    False   \n",
      "age_46-55                        0.194525    False        -0.027288    False   \n",
      "age_56-65                        0.165584    False        -0.037960    False   \n",
      "age_66+                          0.198192    False        -0.003704     True   \n",
      "gender_Man                       0.024437    False         0.045758    False   \n",
      "gender_Prefer not to say        -0.013904    False        -0.053071    False   \n",
      "gender_Woman                    -0.000504     True         0.033953    False   \n",
      "\n",
      "                          trd_inlist_coef  p<=0.05  \n",
      "const                            0.410216     True  \n",
      "black                            0.006936    False  \n",
      "white                            0.019562    False  \n",
      "native                           0.011794    False  \n",
      "asian                            0.031724    False  \n",
      "hawaiian                        -0.051455    False  \n",
      "other_race                      -0.001249     True  \n",
      "latinx                          -0.014569    False  \n",
      "age_18-25                       -0.196216    False  \n",
      "age_26-35                       -0.205153    False  \n",
      "age_36-45                       -0.224098    False  \n",
      "age_46-55                       -0.256143    False  \n",
      "age_56-65                       -0.249882    False  \n",
      "age_66+                         -0.218055    False  \n",
      "gender_Man                       0.017650    False  \n",
      "gender_Prefer not to say         0.026901    False  \n",
      "gender_Woman                     0.062835    False  \n"
     ]
    }
   ],
   "source": [
    "print(S3053_all)"
   ]
  },
  {
   "cell_type": "code",
   "execution_count": 17,
   "metadata": {},
   "outputs": [],
   "source": [
    "S3053_all.to_csv(\"S3053_all.csv\")"
   ]
  },
  {
   "cell_type": "markdown",
   "metadata": {},
   "source": [
    "### No White\n",
    "Other than same variables above to clear perfect multicollinearity, these groups of models also excluded \"white\"."
   ]
  },
  {
   "cell_type": "code",
   "execution_count": 18,
   "metadata": {},
   "outputs": [],
   "source": [
    "nw = [\"white\"]"
   ]
  },
  {
   "cell_type": "code",
   "execution_count": 19,
   "metadata": {},
   "outputs": [],
   "source": [
    "# All_3095\n",
    "S3095_nw = return_plist(lrdata4, nw)\n",
    "# NoRace_3082\n",
    "S3082_nw = return_plist(lrdata5, nw)\n",
    "# NoRaceWhiteBlack_3053\n",
    "S3053_nw = return_plist(lrdata6, nw)"
   ]
  },
  {
   "cell_type": "code",
   "execution_count": 20,
   "metadata": {},
   "outputs": [
    {
     "name": "stdout",
     "output_type": "stream",
     "text": [
      "                          fst_inlist_coef  p<=0.05  snd_inlist_coef  p<=0.05  \\\n",
      "const                            0.495672     True         0.116277    False   \n",
      "black                           -0.006549    False        -0.024520    False   \n",
      "native                          -0.013793    False         0.017271    False   \n",
      "asian                           -0.077258    False        -0.001166     True   \n",
      "hawaiian                         0.024950    False        -0.012745    False   \n",
      "other_race                       0.003301    False        -0.005176    False   \n",
      "latinx                          -0.023055    False        -0.028570    False   \n",
      "age_18-25                       -0.169265    False         0.001167     True   \n",
      "age_26-35                       -0.231025    False         0.055879    False   \n",
      "age_36-45                       -0.230479    False         0.057419    False   \n",
      "age_46-55                       -0.231769    False         0.048819    False   \n",
      "age_56-65                       -0.248610    False         0.074600    False   \n",
      "age_66+                         -0.190112    False         0.063245    False   \n",
      "gender_Man                      -0.069307    False         0.060241    False   \n",
      "gender_Prefer not to say        -0.175566    False         0.066894    False   \n",
      "gender_Woman                    -0.004721    False         0.014284    False   \n",
      "\n",
      "                          trd_inlist_coef  p<=0.05  \n",
      "const                            0.066457    False  \n",
      "black                            0.025694    False  \n",
      "native                          -0.017763    False  \n",
      "asian                           -0.012498    False  \n",
      "hawaiian                         0.089924    False  \n",
      "other_race                      -0.007442    False  \n",
      "latinx                          -0.003249    False  \n",
      "age_18-25                        0.030050    False  \n",
      "age_26-35                        0.018675    False  \n",
      "age_36-45                        0.027393    False  \n",
      "age_46-55                        0.048893    False  \n",
      "age_56-65                        0.029184    False  \n",
      "age_66+                         -0.047051    False  \n",
      "gender_Man                       0.078450    False  \n",
      "gender_Prefer not to say         0.144193    False  \n",
      "gender_Woman                     0.074971    False  \n"
     ]
    }
   ],
   "source": [
    "print(S3053_nw)"
   ]
  },
  {
   "cell_type": "code",
   "execution_count": 21,
   "metadata": {},
   "outputs": [],
   "source": [
    "S3053_nw.to_csv(\"S3053_nw.csv\")"
   ]
  },
  {
   "cell_type": "markdown",
   "metadata": {},
   "source": [
    "### Only White\n",
    "Other than same variables above to clear perfect multicollinearity, these groups of models also excluded all race binary variables excpet \"white\"."
   ]
  },
  {
   "cell_type": "code",
   "execution_count": 22,
   "metadata": {},
   "outputs": [],
   "source": [
    "ow = [\"black\", \"native\", \"asian\", \"hawaiian\", \"other_race\", \"unsure_race\", \"latinx\"]"
   ]
  },
  {
   "cell_type": "code",
   "execution_count": 23,
   "metadata": {},
   "outputs": [],
   "source": [
    "# All_3095\n",
    "S3095_ow = return_plist(lrdata4, ow)\n",
    "# NoRace_3082\n",
    "S3082_ow = return_plist(lrdata5, ow)\n",
    "# NoRaceWhiteBlack_3053\n",
    "S3053_ow = return_plist(lrdata6, ow)"
   ]
  },
  {
   "cell_type": "code",
   "execution_count": 24,
   "metadata": {},
   "outputs": [
    {
     "name": "stdout",
     "output_type": "stream",
     "text": [
      "                          fst_inlist_coef  p<=0.05  snd_inlist_coef  p<=0.05  \\\n",
      "const                            0.466631     True         0.092894    False   \n",
      "white                            0.027897    False         0.018992    False   \n",
      "age_18-25                       -0.169665    False         0.002883     True   \n",
      "age_26-35                       -0.231756    False         0.060152    False   \n",
      "age_36-45                       -0.230465    False         0.062983    False   \n",
      "age_46-55                       -0.231543    False         0.054391    False   \n",
      "age_56-65                       -0.247753    False         0.080931    False   \n",
      "age_66+                         -0.190891    False         0.069769    False   \n",
      "gender_Man                      -0.063853    False         0.059592    False   \n",
      "gender_Prefer not to say        -0.167843    False         0.069451    False   \n",
      "gender_Woman                    -0.002946     True         0.013799    False   \n",
      "\n",
      "                          trd_inlist_coef  p<=0.05  \n",
      "const                            0.071766    False  \n",
      "white                           -0.004352    False  \n",
      "age_18-25                        0.024346    False  \n",
      "age_26-35                        0.010971    False  \n",
      "age_36-45                        0.019465    False  \n",
      "age_46-55                        0.042755    False  \n",
      "age_56-65                        0.022245    False  \n",
      "age_66+                         -0.054253    False  \n",
      "gender_Man                       0.085158    False  \n",
      "gender_Prefer not to say         0.154621    False  \n",
      "gender_Woman                     0.080553    False  \n"
     ]
    }
   ],
   "source": [
    "print(S3053_ow)"
   ]
  },
  {
   "cell_type": "code",
   "execution_count": 25,
   "metadata": {},
   "outputs": [],
   "source": [
    "S3053_ow.to_csv(\"S3053_ow.csv\")"
   ]
  },
  {
   "cell_type": "markdown",
   "metadata": {},
   "source": [
    "### No Black\n",
    "Other than same variables above to clear perfect multicollinearity, these groups of models also excluded \"black\"."
   ]
  },
  {
   "cell_type": "code",
   "execution_count": 26,
   "metadata": {},
   "outputs": [],
   "source": [
    "nb = [\"black\"]"
   ]
  },
  {
   "cell_type": "code",
   "execution_count": 27,
   "metadata": {},
   "outputs": [],
   "source": [
    "# All_3095\n",
    "S3095_nb = return_plist(lrdata4, nb)\n",
    "# NoRace_3082\n",
    "S3082_nb = return_plist(lrdata5, nb)\n",
    "# NoRaceWhiteBlack_3053\n",
    "S3053_nb = return_plist(lrdata6, nb)"
   ]
  },
  {
   "cell_type": "code",
   "execution_count": 28,
   "metadata": {},
   "outputs": [
    {
     "name": "stdout",
     "output_type": "stream",
     "text": [
      "                          fst_inlist_coef  p<=0.05  snd_inlist_coef  p<=0.05  \\\n",
      "const                            0.478389     True         0.098136    False   \n",
      "white                            0.026706    False         0.016414    False   \n",
      "native                          -0.011700    False         0.020837    False   \n",
      "asian                           -0.076745    False        -0.002985     True   \n",
      "hawaiian                         0.020909    False        -0.017263    False   \n",
      "other_race                       0.011581    False         0.002052    False   \n",
      "latinx                          -0.016674    False        -0.022438    False   \n",
      "age_18-25                       -0.173659    False        -0.001372     True   \n",
      "age_26-35                       -0.237061    False         0.054523    False   \n",
      "age_36-45                       -0.236707    False         0.056165    False   \n",
      "age_46-55                       -0.238351    False         0.047682    False   \n",
      "age_56-65                       -0.254960    False         0.073249    False   \n",
      "age_66+                         -0.197193    False         0.062715    False   \n",
      "gender_Man                      -0.065701    False         0.061519    False   \n",
      "gender_Prefer not to say        -0.167724    False         0.070399    False   \n",
      "gender_Woman                    -0.004323     True         0.015080    False   \n",
      "\n",
      "                          trd_inlist_coef  p<=0.05  \n",
      "const                            0.081441    False  \n",
      "white                           -0.009976    False  \n",
      "native                          -0.021131    False  \n",
      "asian                           -0.010268    False  \n",
      "hawaiian                         0.093741    False  \n",
      "other_race                      -0.012961    False  \n",
      "latinx                          -0.008139    False  \n",
      "age_18-25                        0.031508    False  \n",
      "age_26-35                        0.018259    False  \n",
      "age_36-45                        0.026800    False  \n",
      "age_46-55                        0.048053    False  \n",
      "age_56-65                        0.028661    False  \n",
      "age_66+                         -0.048741    False  \n",
      "gender_Man                       0.078168    False  \n",
      "gender_Prefer not to say         0.142755    False  \n",
      "gender_Woman                     0.074197    False  \n"
     ]
    }
   ],
   "source": [
    "print(S3053_nb)"
   ]
  },
  {
   "cell_type": "code",
   "execution_count": 29,
   "metadata": {},
   "outputs": [],
   "source": [
    "S3053_nb.to_csv(\"S3053_nb.csv\")"
   ]
  },
  {
   "cell_type": "markdown",
   "metadata": {},
   "source": [
    "### Only Black\n",
    "Other than same variables above to clear perfect multicollinearity, these groups of models also excluded all race binary variables excpet \"black\"."
   ]
  },
  {
   "cell_type": "code",
   "execution_count": 30,
   "metadata": {},
   "outputs": [],
   "source": [
    "ob = [\"white\", \"native\", \"asian\", \"hawaiian\", \"other_race\", \"unsure_race\", \"latinx\"]"
   ]
  },
  {
   "cell_type": "code",
   "execution_count": 31,
   "metadata": {},
   "outputs": [],
   "source": [
    "# All_3095\n",
    "S3095_ob = return_plist(lrdata4, ob)\n",
    "# NoRace_3082\n",
    "S3082_ob = return_plist(lrdata5, ob)\n",
    "# NoRaceWhiteBlack_3053\n",
    "S3053_ob = return_plist(lrdata6, ob)"
   ]
  },
  {
   "cell_type": "code",
   "execution_count": 32,
   "metadata": {},
   "outputs": [
    {
     "name": "stdout",
     "output_type": "stream",
     "text": [
      "                          fst_inlist_coef  p<=0.05  snd_inlist_coef  p<=0.05  \\\n",
      "const                            0.476932     True         0.104522    False   \n",
      "black                           -0.003627    False        -0.022642    False   \n",
      "age_18-25                       -0.163838    False         0.007520     True   \n",
      "age_26-35                       -0.223436    False         0.064440    False   \n",
      "age_36-45                       -0.221618    False         0.067497    False   \n",
      "age_46-55                       -0.221157    False         0.059993    False   \n",
      "age_56-65                       -0.237705    False         0.086595    False   \n",
      "age_66+                         -0.179862    False         0.074981    False   \n",
      "gender_Man                      -0.066044    False         0.059675    False   \n",
      "gender_Prefer not to say        -0.175346    False         0.066267    False   \n",
      "gender_Woman                    -0.001053     True         0.015257    False   \n",
      "\n",
      "                          trd_inlist_coef  p<=0.05  \n",
      "const                            0.063626    False  \n",
      "black                            0.029121    False  \n",
      "age_18-25                        0.022488    False  \n",
      "age_26-35                        0.011622    False  \n",
      "age_36-45                        0.020218    False  \n",
      "age_46-55                        0.043214    False  \n",
      "age_56-65                        0.022343    False  \n",
      "age_66+                         -0.052722    False  \n",
      "gender_Man                       0.083271    False  \n",
      "gender_Prefer not to say         0.153069    False  \n",
      "gender_Woman                     0.080018    False  \n"
     ]
    }
   ],
   "source": [
    "print(S3053_ob)"
   ]
  },
  {
   "cell_type": "code",
   "execution_count": 33,
   "metadata": {},
   "outputs": [],
   "source": [
    "S3053_ob.to_csv(\"S3053_ob.csv\")"
   ]
  }
 ],
 "metadata": {
  "kernelspec": {
   "display_name": "geo_env",
   "language": "python",
   "name": "geo_env"
  },
  "language_info": {
   "codemirror_mode": {
    "name": "ipython",
    "version": 3
   },
   "file_extension": ".py",
   "mimetype": "text/x-python",
   "name": "python",
   "nbconvert_exporter": "python",
   "pygments_lexer": "ipython3",
   "version": "3.7.6"
  }
 },
 "nbformat": 4,
 "nbformat_minor": 4
}
