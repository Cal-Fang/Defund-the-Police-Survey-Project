{
 "cells": [
  {
   "cell_type": "markdown",
   "metadata": {},
   "source": [
    "# Data Importing"
   ]
  },
  {
   "cell_type": "code",
   "execution_count": 1,
   "metadata": {},
   "outputs": [],
   "source": [
    "# Importing modules\n",
    "import pandas as pd\n",
    "import numpy as np\n",
    "import scipy.stats as stats\n",
    "import statsmodels.api as sm\n",
    "\n",
    "from sklearn.linear_model import LinearRegression\n",
    "\n",
    "# Read data into papers\n",
    "data = pd.read_csv(\"/Users/atchoo/Google Drive/Research Assistant/Work With David Knight/Survey of the Incarcerated/TMPPoliticalSurveyFULL_ForDavid.csv\", encoding = \"ISO-8859-1\")\n",
    "\n",
    "# Print head\n",
    "# print(data.columns)"
   ]
  },
  {
   "cell_type": "code",
   "execution_count": 2,
   "metadata": {},
   "outputs": [],
   "source": [
    "# Insert an id index for future work\n",
    "data[\"Survey_ID\"] = data.index + 1\n",
    "\n",
    "# Remove the columns\n",
    "str_data = data[[\"Survey_ID\", \"explain_politics_changed_since_incarcerated\",\\\n",
    "                 \"explain_race_affects_politics\", 'identifies_as_black', 'identifies_as_white',\n",
    "                 \"identifies_as_native\", 'identifies_as_asian', \n",
    "                 'identifies_as_hawaiian_or_pac_islander', 'identifies_as_other_race',\n",
    "                 'identifies_as_not_sure_of_race', 'identifies_as_hispanic_or_latinx',\n",
    "                 \"age\", \"gender\"]]\n",
    "# Print out the first rows of papers\n",
    "str_data.columns = [\"Survey_ID\", \"p_change\", \"r_effect\", \"black\", \"white\", \"native\", \"asian\",\n",
    "                   \"hawaiian\", \"other_race\", \"unsure_race\", \"latinx\", \"age\", \"gender\"]\n",
    "str_data = str_data.dropna()"
   ]
  },
  {
   "cell_type": "markdown",
   "metadata": {},
   "source": [
    "# Make Remove Stopword Functions"
   ]
  },
  {
   "cell_type": "code",
   "execution_count": 3,
   "metadata": {},
   "outputs": [],
   "source": [
    "# Load the regular expression library and the nltk word library\n",
    "import re\n",
    "import nltk\n",
    "\n",
    "# Create a function to remove nonsense words\n",
    "words = set(nltk.corpus.words.words())\n",
    "def clean_sent(sent):\n",
    "    return \" \".join(w for w in nltk.wordpunct_tokenize(sent) \\\n",
    "     if w.lower() in words or not w.isalpha())\n",
    "\n",
    "strv_list = [\"p_change\", \"r_effect\"]\n",
    "for strv in strv_list:\n",
    "    # Remove punctuation & Convert the titles to lowercase\n",
    "    str_data[strv] = str_data[strv].map(lambda x: re.sub(r'[^\\w\\s]', \"\", x)).map(lambda x: x.lower())\n",
    "    # Remove nonsense words\n",
    "    str_data[strv] = str_data[strv].apply(clean_sent)\n",
    "    # Transform blank cells to NaN & Drop NaN\n",
    "    str_data = str_data.replace(r'^\\s*$', np.nan, regex=True).dropna()"
   ]
  },
  {
   "cell_type": "code",
   "execution_count": 4,
   "metadata": {},
   "outputs": [
    {
     "data": {
      "text/html": [
       "<div>\n",
       "<style scoped>\n",
       "    .dataframe tbody tr th:only-of-type {\n",
       "        vertical-align: middle;\n",
       "    }\n",
       "\n",
       "    .dataframe tbody tr th {\n",
       "        vertical-align: top;\n",
       "    }\n",
       "\n",
       "    .dataframe thead th {\n",
       "        text-align: right;\n",
       "    }\n",
       "</style>\n",
       "<table border=\"1\" class=\"dataframe\">\n",
       "  <thead>\n",
       "    <tr style=\"text-align: right;\">\n",
       "      <th></th>\n",
       "      <th>Survey_ID</th>\n",
       "      <th>p_change</th>\n",
       "      <th>r_effect</th>\n",
       "      <th>black</th>\n",
       "      <th>white</th>\n",
       "      <th>native</th>\n",
       "      <th>asian</th>\n",
       "      <th>hawaiian</th>\n",
       "      <th>other_race</th>\n",
       "      <th>unsure_race</th>\n",
       "      <th>latinx</th>\n",
       "      <th>age</th>\n",
       "      <th>gender</th>\n",
       "    </tr>\n",
       "  </thead>\n",
       "  <tbody>\n",
       "    <tr>\n",
       "      <th>0</th>\n",
       "      <td>1</td>\n",
       "      <td>no</td>\n",
       "      <td>not at all not racist all of the human race is...</td>\n",
       "      <td>False</td>\n",
       "      <td>True</td>\n",
       "      <td>False</td>\n",
       "      <td>False</td>\n",
       "      <td>False</td>\n",
       "      <td>False</td>\n",
       "      <td>False</td>\n",
       "      <td>False</td>\n",
       "      <td>46-55</td>\n",
       "      <td>Man</td>\n",
       "    </tr>\n",
       "    <tr>\n",
       "      <th>2</th>\n",
       "      <td>3</td>\n",
       "      <td>i feel that the parole board the some of the p...</td>\n",
       "      <td>not sure about that</td>\n",
       "      <td>False</td>\n",
       "      <td>True</td>\n",
       "      <td>False</td>\n",
       "      <td>False</td>\n",
       "      <td>False</td>\n",
       "      <td>False</td>\n",
       "      <td>False</td>\n",
       "      <td>False</td>\n",
       "      <td>46-55</td>\n",
       "      <td>Woman</td>\n",
       "    </tr>\n",
       "    <tr>\n",
       "      <th>3</th>\n",
       "      <td>4</td>\n",
       "      <td>yes bit</td>\n",
       "      <td>i am not really sure about that one</td>\n",
       "      <td>False</td>\n",
       "      <td>True</td>\n",
       "      <td>False</td>\n",
       "      <td>False</td>\n",
       "      <td>False</td>\n",
       "      <td>False</td>\n",
       "      <td>False</td>\n",
       "      <td>False</td>\n",
       "      <td>36-45</td>\n",
       "      <td>Woman</td>\n",
       "    </tr>\n",
       "    <tr>\n",
       "      <th>5</th>\n",
       "      <td>6</td>\n",
       "      <td>most are full of</td>\n",
       "      <td>i do not understand this question maybe theres...</td>\n",
       "      <td>True</td>\n",
       "      <td>False</td>\n",
       "      <td>False</td>\n",
       "      <td>False</td>\n",
       "      <td>False</td>\n",
       "      <td>False</td>\n",
       "      <td>False</td>\n",
       "      <td>False</td>\n",
       "      <td>26-35</td>\n",
       "      <td>Woman</td>\n",
       "    </tr>\n",
       "    <tr>\n",
       "      <th>6</th>\n",
       "      <td>7</td>\n",
       "      <td>i never considered the prison population or pr...</td>\n",
       "      <td>i try to vote based on the but i am and many i...</td>\n",
       "      <td>False</td>\n",
       "      <td>True</td>\n",
       "      <td>False</td>\n",
       "      <td>False</td>\n",
       "      <td>False</td>\n",
       "      <td>False</td>\n",
       "      <td>False</td>\n",
       "      <td>False</td>\n",
       "      <td>46-55</td>\n",
       "      <td>Woman</td>\n",
       "    </tr>\n",
       "  </tbody>\n",
       "</table>\n",
       "</div>"
      ],
      "text/plain": [
       "   Survey_ID                                           p_change  \\\n",
       "0          1                                                 no   \n",
       "2          3  i feel that the parole board the some of the p...   \n",
       "3          4                                            yes bit   \n",
       "5          6                                   most are full of   \n",
       "6          7  i never considered the prison population or pr...   \n",
       "\n",
       "                                            r_effect  black  white  native  \\\n",
       "0  not at all not racist all of the human race is...  False   True   False   \n",
       "2                                not sure about that  False   True   False   \n",
       "3                i am not really sure about that one  False   True   False   \n",
       "5  i do not understand this question maybe theres...   True  False   False   \n",
       "6  i try to vote based on the but i am and many i...  False   True   False   \n",
       "\n",
       "   asian  hawaiian  other_race  unsure_race  latinx    age gender  \n",
       "0  False     False       False        False   False  46-55    Man  \n",
       "2  False     False       False        False   False  46-55  Woman  \n",
       "3  False     False       False        False   False  36-45  Woman  \n",
       "5  False     False       False        False   False  26-35  Woman  \n",
       "6  False     False       False        False   False  46-55  Woman  "
      ]
     },
     "execution_count": 4,
     "metadata": {},
     "output_type": "execute_result"
    }
   ],
   "source": [
    "str_data.head()"
   ]
  },
  {
   "cell_type": "code",
   "execution_count": 5,
   "metadata": {},
   "outputs": [],
   "source": [
    "# remove stop words\n",
    "# nltk.download('stopwords')\n",
    "from nltk.corpus import stopwords\n",
    "from gensim.utils import simple_preprocess\n",
    "\n",
    "def remove_stopwords(texts):\n",
    "    return [[word for word in simple_preprocess(str(doc)) if word not in stop_words] for doc in texts]"
   ]
  },
  {
   "cell_type": "markdown",
   "metadata": {},
   "source": [
    "# Data Exporting for C++"
   ]
  },
  {
   "cell_type": "code",
   "execution_count": 6,
   "metadata": {},
   "outputs": [],
   "source": [
    "extrastopword = []"
   ]
  },
  {
   "cell_type": "code",
   "execution_count": 7,
   "metadata": {},
   "outputs": [],
   "source": [
    "stop_words = stopwords.words(\"english\")\n",
    "stop_words.extend([\"don\", \"people\", \"bill\", \"step\", \"act\", \"first\", \"u\", \"n\", \n",
    "                   \"na\", \"non\"]+extrastopword)\n",
    "yesnno = [\"yes\", \"no\"]\n",
    "stop_words =  [word for word in stop_words if word not in yesnno]"
   ]
  },
  {
   "cell_type": "code",
   "execution_count": 8,
   "metadata": {},
   "outputs": [
    {
     "data": {
      "text/plain": [
       "3095"
      ]
     },
     "execution_count": 8,
     "metadata": {},
     "output_type": "execute_result"
    }
   ],
   "source": [
    "r_effect = remove_stopwords(str_data[\"r_effect\"])\n",
    "r_effect = pd.DataFrame([x for x in r_effect if x])\n",
    "len(r_effect)"
   ]
  },
  {
   "cell_type": "code",
   "execution_count": 9,
   "metadata": {},
   "outputs": [],
   "source": [
    "#r_effect.to_csv('/Users/atchoo/Desktop/r_effect_3082.txt', header=None, index=None, sep=' ', mode='a')"
   ]
  },
  {
   "cell_type": "markdown",
   "metadata": {},
   "source": [
    "# Include the Topic info"
   ]
  },
  {
   "cell_type": "code",
   "execution_count": 12,
   "metadata": {},
   "outputs": [],
   "source": [
    "def add_the_matrix(extrastopword, csvfile, tlist=[\"topic 4\", \"topic 5\"]):\n",
    "    \n",
    "    assert isinstance(extrastopword, list), \"Should be a list of the extra stop words.\"\n",
    "    assert isinstance(csvfile, str), \"Should be the path of the matrix file.\"\n",
    "    \n",
    "    # change the stop words\n",
    "    stop_words = stopwords.words(\"english\")\n",
    "    stop_words.extend([\"don\", \"people\", \"bill\", \"step\", \"act\", \"first\", \"u\", \"n\", \n",
    "                       \"na\", \"non\"]+extrastopword)\n",
    "    yesnno = [\"yes\", \"no\"]\n",
    "    stop_words =  [word for word in stop_words if word not in yesnno]\n",
    "    # remove stop words\n",
    "    r_effect = [[word for word in simple_preprocess(str(doc)) if word not in stop_words] for doc in str_data[\"r_effect\"]]\n",
    "    r_effect = pd.DataFrame([x for x in r_effect if x])\n",
    "    \n",
    "    # create index variable for whether a row is left\n",
    "    r_effect2 = []\n",
    "    for doc in str_data[\"r_effect\"]:\n",
    "        if all(word in stop_words for word in simple_preprocess(doc)):\n",
    "               i_str = False\n",
    "        else: \n",
    "               i_str = True\n",
    "        r_effect2.append(i_str)\n",
    "    inBTM = pd.DataFrame(r_effect2, columns=[\"inBTM\"])\n",
    "    # filter str_data based on inBTM result into str_datar\n",
    "    str_datar = pd.concat([str_data.reset_index(drop=True), inBTM], axis=1)\n",
    "    str_datar = str_datar[str_datar[\"inBTM\"]==True]\n",
    "    \n",
    "    # read in the topicmatrix file\n",
    "    matrix = pd.read_csv(csvfile, \n",
    "                         names=[\"topic 1\", \"topic 2\", \"topic 3\", \"topic 4\", \"topic 5\", \"topic 6\"])\n",
    "    a = matrix.idxmax(axis=1)\n",
    "    b = matrix.T.apply(lambda x: x.nlargest(2).idxmin())\n",
    "    c = matrix.T.apply(lambda x: x.nlargest(3).idxmin())\n",
    "    topic = pd.concat([a, b, c], axis=1, ignore_index=False)\n",
    "\n",
    "    # concatenate topic matrix and str_datar as str_datar\n",
    "    str_datar2 = pd.concat([str_datar.reset_index(drop=True), topic], axis=1)\n",
    "    str_datar2 = str_datar2.rename(columns={0:\"fsttopic\", 1:\"sndtopic\", 2:\"trdtopic\"})\n",
    "\n",
    "    # CREATE THE CHISQUARE DATAFRAME\n",
    "    race = [\"black\", \"white\", \"native\", \"asian\", \"hawaiian\", \"other_race\", \"unsure_race\", \"latinx\"]\n",
    "    topic = [\"fsttopic\", \"sndtopic\", \"trdtopic\"]\n",
    "    chisq = str_datar2.loc[:, [\"Survey_ID\"]+race+topic].dropna()\n",
    "        ## clean the race variable a little bit\n",
    "    chisq.loc[:, race] = chisq.loc[:, race].astype(int)\n",
    "    chisq[\"Race\"] = chisq.loc[:, race].idxmax(axis=1)\n",
    "    \n",
    "    # CREATE THE REGRESSION DATAFRAME\n",
    "    chisq[\"fst4o5\"] = chisq[\"fsttopic\"].isin(tlist)\n",
    "    chisq[\"snd4o5\"] = chisq[\"sndtopic\"].isin(tlist)\n",
    "    chisq[\"trd4o5\"] = chisq[\"trdtopic\"].isin(tlist)\n",
    "    cor = chisq.drop([\"fsttopic\", \"sndtopic\", \"trdtopic\", \"Race\"], axis=1)\n",
    "    cov = str_data[[\"Survey_ID\", \"age\", \"gender\"]]\n",
    "    cov = pd.get_dummies(cov, columns=[\"age\", \"gender\"])\n",
    "    lrdata = cor.merge(cov, on=\"Survey_ID\")\n",
    "    \n",
    "    return chisq, lrdata"
   ]
  },
  {
   "cell_type": "code",
   "execution_count": 13,
   "metadata": {},
   "outputs": [],
   "source": [
    "common_csv = \"~/Google Drive/Research Assistant/Work With David Knight/Survey of the Incarcerated/BTM/BTM_Regression_Exploration/\"\n",
    "extra1 = []\n",
    "csv1 = \"All_3095/topicmatrix.csv\"\n",
    "\n",
    "extra2 = [\"violent\", \"race\"]\n",
    "csv2 = \"NoViloentRace_3082/topicmatrix_3082.csv\"\n",
    "\n",
    "extra3 = [\"violent\", \"race\", \"white\", \"black\"]\n",
    "csv3 = \"NoViloentRaceWhiteBlack_3053/topicmatrix_3053.csv\""
   ]
  },
  {
   "cell_type": "code",
   "execution_count": 14,
   "metadata": {},
   "outputs": [],
   "source": [
    "# All_3095\n",
    "chisq4, lrdata4 = add_the_matrix(extra1, common_csv+csv1)\n",
    "# NoViloentRace_3082\n",
    "chisq5, lrdata5 = add_the_matrix(extra2, common_csv+csv2)\n",
    "# NoViloentRaceWhiteBlack_3053\n",
    "# Most Important One\n",
    "chisq6, lrdata6 = add_the_matrix(extra3, common_csv+csv3)"
   ]
  },
  {
   "cell_type": "markdown",
   "metadata": {},
   "source": [
    "# Chisq Test"
   ]
  },
  {
   "cell_type": "code",
   "execution_count": 15,
   "metadata": {},
   "outputs": [],
   "source": [
    "def to_obs(ct):\n",
    "    obs = np.array([ct.iloc[0][0:7].values,\n",
    "                    ct.iloc[1][0:7].values,\n",
    "                    ct.iloc[2][0:7].values,\n",
    "                    ct.iloc[3][0:7].values,\n",
    "                    ct.iloc[4][0:7].values,\n",
    "                    ct.iloc[5][0:7].values,\n",
    "                    ct.iloc[6][0:7].values,\n",
    "                    ct.iloc[7][0:7].values])\n",
    "    return obs\n",
    "\n",
    "def ctest_race_topic(dataset4chisq):\n",
    "    ct = pd.crosstab(dataset4chisq.Race, dataset4chisq.fsttopic, margins=True)\n",
    "    obs = to_obs(ct)\n",
    "    fst_p = stats.chi2_contingency(obs)[1]\n",
    "    \n",
    "    ct = pd.crosstab(dataset4chisq.Race, dataset4chisq.sndtopic, margins=True)\n",
    "    obs = to_obs(ct)\n",
    "    snd_p = stats.chi2_contingency(obs)[1]\n",
    "    \n",
    "    ct = pd.crosstab(dataset4chisq.Race, dataset4chisq.trdtopic, margins=True)\n",
    "    obs = to_obs(ct)\n",
    "    trd_p = stats.chi2_contingency(obs)[1]\n",
    "    \n",
    "    result_dic = {\"fst_p\":fst_p, \"snd_p\":snd_p, \"trd_p\":trd_p}\n",
    "    print(result_dic)\n",
    "    \n",
    "    pass"
   ]
  },
  {
   "cell_type": "code",
   "execution_count": 17,
   "metadata": {},
   "outputs": [
    {
     "name": "stdout",
     "output_type": "stream",
     "text": [
      "{'fst_p': 0.17109029598139353, 'snd_p': 0.7045522545000066, 'trd_p': 0.48030336122960393}\n",
      "{'fst_p': 0.42256702623846903, 'snd_p': 0.11625244726651981, 'trd_p': 0.7062211537874308}\n",
      "{'fst_p': 0.08546534195459222, 'snd_p': 0.12271514999840784, 'trd_p': 0.6616777543145637}\n"
     ]
    }
   ],
   "source": [
    "# All_3095\n",
    "ctest_race_topic(chisq4)\n",
    "# NoViloentRace_3082\n",
    "ctest_race_topic(chisq5)\n",
    "# NoViloentRaceWhiteBlack_3053\n",
    "ctest_race_topic(chisq6)"
   ]
  },
  {
   "cell_type": "markdown",
   "metadata": {},
   "source": [
    "# Linear Regression"
   ]
  },
  {
   "cell_type": "code",
   "execution_count": 18,
   "metadata": {},
   "outputs": [
    {
     "data": {
      "text/plain": [
       "Index(['Survey_ID', 'black', 'white', 'native', 'asian', 'hawaiian',\n",
       "       'other_race', 'unsure_race', 'latinx', 'fst4o5', 'snd4o5', 'trd4o5',\n",
       "       'age_18-25', 'age_26-35', 'age_36-45', 'age_46-55', 'age_56-65',\n",
       "       'age_66+', 'age_Under 18',\n",
       "       'gender_Gender non-conforming or non-binary or other', 'gender_Man',\n",
       "       'gender_Prefer not to say', 'gender_Woman'],\n",
       "      dtype='object')"
      ]
     },
     "execution_count": 18,
     "metadata": {},
     "output_type": "execute_result"
    }
   ],
   "source": [
    "lrdata4.columns"
   ]
  },
  {
   "cell_type": "code",
   "execution_count": 19,
   "metadata": {},
   "outputs": [],
   "source": [
    "def reg_on_123(dataset4lr, dropX=[]):\n",
    "    y1 = dataset4lr[\"fst4o5\"]\n",
    "    y2 = dataset4lr[\"snd4o5\"]\n",
    "    y3 = dataset4lr[\"trd4o5\"]\n",
    "\n",
    "    X = dataset4lr.drop([\"Survey_ID\", \"fst4o5\", \"snd4o5\", \"trd4o5\", \"unsure_race\", \"age_Under 18\",\n",
    "                         \"gender_Gender non-conforming or non-binary or other\"]+dropX, axis=1)\n",
    "    X = sm.add_constant(X)\n",
    "    \n",
    "    model1 = sm.OLS(y1, X).fit()\n",
    "    model2 = sm.OLS(y2, X).fit()\n",
    "    model3 = sm.OLS(y3, X).fit()\n",
    "    \n",
    "    return model1, model2, model3\n",
    "\n",
    "def return_plist(dataset4lr, dropX=[]):\n",
    "    model1, model2, model3 = reg_on_123(dataset4lr, dropX)\n",
    "    \n",
    "    a = (model1.summary2().tables[1]['P>|t|'] <= 0.05) | (model1.summary2().tables[1]['P>|t|'] >= 0.95)\n",
    "    a1 = model1.summary2().tables[1][\"Coef.\"]\n",
    "    b = (model2.summary2().tables[1]['P>|t|'] <= 0.05) | (model2.summary2().tables[1]['P>|t|'] >= 0.95)\n",
    "    b1 = model2.summary2().tables[1][\"Coef.\"]\n",
    "    c = (model3.summary2().tables[1]['P>|t|'] <= 0.05) | (model3.summary2().tables[1]['P>|t|'] >= 0.95)\n",
    "    c1 = model3.summary2().tables[1][\"Coef.\"]\n",
    "    \n",
    "    p_df = pd.concat([a1, a, b1, b, c1, c], axis=1)\n",
    "    p_df.columns = [\"fst_inlist_coef\", \"p<=0.05\", \"snd_inlist_coef\", \"p<=0.05\", \"trd_inlist_coef\", \"p<=0.05\"]\n",
    "    \n",
    "    return p_df"
   ]
  },
  {
   "cell_type": "markdown",
   "metadata": {},
   "source": [
    "### Keep All\n",
    "These groups of models only excluded some variables to clear perfect multicollinearity.\n",
    "The variables excluded for perfect multicollinearity include \"Survey_ID\", \"fst1n2\", \"snd1n2\", \"trd1n2\", \"unsure_race\",\"age_Under 18\", \"gender_Gender non-conforming or non-binary or other\"."
   ]
  },
  {
   "cell_type": "code",
   "execution_count": 20,
   "metadata": {},
   "outputs": [
    {
     "name": "stderr",
     "output_type": "stream",
     "text": [
      "/opt/anaconda3/lib/python3.7/site-packages/numpy/core/fromnumeric.py:2542: FutureWarning: Method .ptp is deprecated and will be removed in a future version. Use numpy.ptp instead.\n",
      "  return ptp(axis=axis, out=out, **kwargs)\n"
     ]
    }
   ],
   "source": [
    "# All_3095\n",
    "S3095_all = return_plist(lrdata4)\n",
    "# NoViloentRace_3082\n",
    "S3082_all = return_plist(lrdata4)\n",
    "# NoViloentRaceWhiteBlack_3053\n",
    "S3053_all = return_plist(lrdata4)"
   ]
  },
  {
   "cell_type": "code",
   "execution_count": 21,
   "metadata": {},
   "outputs": [
    {
     "name": "stdout",
     "output_type": "stream",
     "text": [
      "                          fst_inlist_coef  p<=0.05  snd_inlist_coef  p<=0.05  \\\n",
      "const                            0.148619    False         0.118418    False   \n",
      "black                            0.077322     True         0.013905    False   \n",
      "white                            0.002964    False        -0.019623    False   \n",
      "native                           0.025341    False         0.010840    False   \n",
      "asian                            0.003409     True         0.000177     True   \n",
      "hawaiian                        -0.000414     True        -0.068429    False   \n",
      "other_race                       0.017621    False        -0.013620    False   \n",
      "latinx                           0.028316    False        -0.013348    False   \n",
      "age_18-25                        0.148259    False         0.135263    False   \n",
      "age_26-35                        0.131130    False         0.145141    False   \n",
      "age_36-45                        0.157301    False         0.142252    False   \n",
      "age_46-55                        0.188025    False         0.146096    False   \n",
      "age_56-65                        0.158707    False         0.145595    False   \n",
      "age_66+                          0.222621    False         0.109424    False   \n",
      "gender_Man                      -0.061939    False         0.045795    False   \n",
      "gender_Prefer not to say        -0.144944    False        -0.112750    False   \n",
      "gender_Woman                    -0.097698    False         0.056459    False   \n",
      "\n",
      "                          trd_inlist_coef  p<=0.05  \n",
      "const                            0.406006     True  \n",
      "black                           -0.014499    False  \n",
      "white                            0.034052    False  \n",
      "native                           0.051474     True  \n",
      "asian                           -0.126797    False  \n",
      "hawaiian                        -0.050687    False  \n",
      "other_race                       0.005147    False  \n",
      "latinx                          -0.014928    False  \n",
      "age_18-25                       -0.004565     True  \n",
      "age_26-35                       -0.045509    False  \n",
      "age_36-45                       -0.040252    False  \n",
      "age_46-55                       -0.077922    False  \n",
      "age_56-65                       -0.095056    False  \n",
      "age_66+                         -0.082725    False  \n",
      "gender_Man                       0.010008    False  \n",
      "gender_Prefer not to say         0.013710    False  \n",
      "gender_Woman                     0.019639    False  \n"
     ]
    }
   ],
   "source": [
    "print(S3095_all)"
   ]
  },
  {
   "cell_type": "code",
   "execution_count": 22,
   "metadata": {},
   "outputs": [
    {
     "name": "stdout",
     "output_type": "stream",
     "text": [
      "                          fst_inlist_coef  p<=0.05  snd_inlist_coef  p<=0.05  \\\n",
      "const                            0.148619    False         0.118418    False   \n",
      "black                            0.077322     True         0.013905    False   \n",
      "white                            0.002964    False        -0.019623    False   \n",
      "native                           0.025341    False         0.010840    False   \n",
      "asian                            0.003409     True         0.000177     True   \n",
      "hawaiian                        -0.000414     True        -0.068429    False   \n",
      "other_race                       0.017621    False        -0.013620    False   \n",
      "latinx                           0.028316    False        -0.013348    False   \n",
      "age_18-25                        0.148259    False         0.135263    False   \n",
      "age_26-35                        0.131130    False         0.145141    False   \n",
      "age_36-45                        0.157301    False         0.142252    False   \n",
      "age_46-55                        0.188025    False         0.146096    False   \n",
      "age_56-65                        0.158707    False         0.145595    False   \n",
      "age_66+                          0.222621    False         0.109424    False   \n",
      "gender_Man                      -0.061939    False         0.045795    False   \n",
      "gender_Prefer not to say        -0.144944    False        -0.112750    False   \n",
      "gender_Woman                    -0.097698    False         0.056459    False   \n",
      "\n",
      "                          trd_inlist_coef  p<=0.05  \n",
      "const                            0.406006     True  \n",
      "black                           -0.014499    False  \n",
      "white                            0.034052    False  \n",
      "native                           0.051474     True  \n",
      "asian                           -0.126797    False  \n",
      "hawaiian                        -0.050687    False  \n",
      "other_race                       0.005147    False  \n",
      "latinx                          -0.014928    False  \n",
      "age_18-25                       -0.004565     True  \n",
      "age_26-35                       -0.045509    False  \n",
      "age_36-45                       -0.040252    False  \n",
      "age_46-55                       -0.077922    False  \n",
      "age_56-65                       -0.095056    False  \n",
      "age_66+                         -0.082725    False  \n",
      "gender_Man                       0.010008    False  \n",
      "gender_Prefer not to say         0.013710    False  \n",
      "gender_Woman                     0.019639    False  \n"
     ]
    }
   ],
   "source": [
    "print(S3082_all)"
   ]
  },
  {
   "cell_type": "code",
   "execution_count": 47,
   "metadata": {},
   "outputs": [],
   "source": [
    "S3053_all.to_csv(\"S3053_all.csv\")"
   ]
  },
  {
   "cell_type": "markdown",
   "metadata": {},
   "source": [
    "### No White\n",
    "Other than same variables above to clear perfect multicollinearity, these groups of models also excluded \"white\"."
   ]
  },
  {
   "cell_type": "code",
   "execution_count": 24,
   "metadata": {},
   "outputs": [],
   "source": [
    "nw = [\"white\"]"
   ]
  },
  {
   "cell_type": "code",
   "execution_count": 27,
   "metadata": {},
   "outputs": [],
   "source": [
    "# All_3095\n",
    "S3095_nw = return_plist(lrdata4, nw)\n",
    "# NoRace_3082\n",
    "S3082_nw = return_plist(lrdata5, nw)\n",
    "# NoRaceWhiteBlack_3053\n",
    "S3053_nw = return_plist(lrdata6, nw)"
   ]
  },
  {
   "cell_type": "code",
   "execution_count": 28,
   "metadata": {},
   "outputs": [
    {
     "name": "stdout",
     "output_type": "stream",
     "text": [
      "                          fst_inlist_coef  p<=0.05  snd_inlist_coef  p<=0.05  \\\n",
      "const                            0.151056    False         0.102283    False   \n",
      "black                            0.075183     True         0.028064    False   \n",
      "native                           0.024949    False         0.013436    False   \n",
      "asian                            0.003506     True        -0.000468     True   \n",
      "hawaiian                         0.000143     True        -0.072122    False   \n",
      "other_race                       0.016561    False        -0.006603    False   \n",
      "latinx                           0.027459    False        -0.007672    False   \n",
      "age_18-25                        0.148732    False         0.132133    False   \n",
      "age_26-35                        0.131638    False         0.141779    False   \n",
      "age_36-45                        0.157808    False         0.138893    False   \n",
      "age_46-55                        0.188552    False         0.142604    False   \n",
      "age_56-65                        0.159232    False         0.142117    False   \n",
      "age_66+                          0.223145    False         0.105955    False   \n",
      "gender_Man                      -0.062273    False         0.048004    False   \n",
      "gender_Prefer not to say        -0.145721    False        -0.107607    False   \n",
      "gender_Woman                    -0.097777    False         0.056979    False   \n",
      "\n",
      "                          trd_inlist_coef  p<=0.05  \n",
      "const                            0.434004     True  \n",
      "black                           -0.039069    False  \n",
      "native                           0.046970     True  \n",
      "asian                           -0.125678    False  \n",
      "hawaiian                        -0.044278    False  \n",
      "other_race                      -0.007029    False  \n",
      "latinx                          -0.024778    False  \n",
      "age_18-25                        0.000867     True  \n",
      "age_26-35                       -0.039674    False  \n",
      "age_36-45                       -0.034422    False  \n",
      "age_46-55                       -0.071860    False  \n",
      "age_56-65                       -0.089019    False  \n",
      "age_66+                         -0.076706    False  \n",
      "gender_Man                       0.006176    False  \n",
      "gender_Prefer not to say         0.004786     True  \n",
      "gender_Woman                     0.018737    False  \n"
     ]
    }
   ],
   "source": [
    "print(S3095_nw)"
   ]
  },
  {
   "cell_type": "markdown",
   "metadata": {},
   "source": [
    "### Only White\n",
    "Other than same variables above to clear perfect multicollinearity, these groups of models also excluded all race binary variables excpet \"white\"."
   ]
  },
  {
   "cell_type": "code",
   "execution_count": 31,
   "metadata": {},
   "outputs": [],
   "source": [
    "ow = [\"black\", \"native\", \"asian\", \"hawaiian\", \"other_race\", \"unsure_race\", \"latinx\"]"
   ]
  },
  {
   "cell_type": "code",
   "execution_count": 32,
   "metadata": {},
   "outputs": [],
   "source": [
    "# All_3095\n",
    "S3095_ow = return_plist(lrdata4, ow)\n",
    "# NoRace_3082\n",
    "S3082_ow = return_plist(lrdata5, ow)\n",
    "# NoRaceWhiteBlack_3053\n",
    "S3053_ow = return_plist(lrdata6, ow)"
   ]
  },
  {
   "cell_type": "code",
   "execution_count": 48,
   "metadata": {},
   "outputs": [],
   "source": [
    "S3095_ow.to_csv(\"S3095_ow.csv\")"
   ]
  },
  {
   "cell_type": "code",
   "execution_count": 35,
   "metadata": {},
   "outputs": [
    {
     "name": "stdout",
     "output_type": "stream",
     "text": [
      "                          fst_inlist_coef  p<=0.05  snd_inlist_coef  p<=0.05  \\\n",
      "const                            0.679379     True         0.077690    False   \n",
      "white                            0.060046     True         0.005182    False   \n",
      "age_18-25                       -0.173084    False         0.152245    False   \n",
      "age_26-35                       -0.195914    False         0.193109    False   \n",
      "age_36-45                       -0.252359    False         0.228188    False   \n",
      "age_46-55                       -0.197654    False         0.204291    False   \n",
      "age_56-65                       -0.248500    False         0.244289    False   \n",
      "age_66+                         -0.134243    False         0.173081    False   \n",
      "gender_Man                      -0.150179    False         0.076196    False   \n",
      "gender_Prefer not to say        -0.220550     True         0.205085    False   \n",
      "gender_Woman                    -0.124849    False         0.064829    False   \n",
      "\n",
      "                          trd_inlist_coef  p<=0.05  \n",
      "const                            0.182937    False  \n",
      "white                           -0.001027     True  \n",
      "age_18-25                        0.113014    False  \n",
      "age_26-35                        0.038800    False  \n",
      "age_36-45                        0.045252    False  \n",
      "age_46-55                        0.064005    False  \n",
      "age_56-65                        0.053042    False  \n",
      "age_66+                         -0.028871    False  \n",
      "gender_Man                       0.122401    False  \n",
      "gender_Prefer not to say         0.140197    False  \n",
      "gender_Woman                     0.109488    False  \n"
     ]
    }
   ],
   "source": [
    "print(S3053_ow)"
   ]
  },
  {
   "cell_type": "markdown",
   "metadata": {},
   "source": [
    "### No Black\n",
    "Other than same variables above to clear perfect multicollinearity, these groups of models also excluded \"black\"."
   ]
  },
  {
   "cell_type": "code",
   "execution_count": 36,
   "metadata": {},
   "outputs": [],
   "source": [
    "nb = [\"black\"]"
   ]
  },
  {
   "cell_type": "code",
   "execution_count": 37,
   "metadata": {},
   "outputs": [],
   "source": [
    "# All_3095\n",
    "S3095_nb = return_plist(lrdata4, nb)\n",
    "# NoRace_3082\n",
    "S3082_nb = return_plist(lrdata5, nb)\n",
    "# NoRaceWhiteBlack_3053\n",
    "S3053_nb = return_plist(lrdata6, nb)"
   ]
  },
  {
   "cell_type": "code",
   "execution_count": 38,
   "metadata": {},
   "outputs": [
    {
     "name": "stdout",
     "output_type": "stream",
     "text": [
      "                          fst_inlist_coef  p<=0.05  snd_inlist_coef  p<=0.05  \\\n",
      "const                            0.202509    False         0.128109    False   \n",
      "white                           -0.042918     True        -0.027874    False   \n",
      "native                           0.014439    False         0.008880    False   \n",
      "asian                            0.009526    False         0.001277     True   \n",
      "hawaiian                         0.012396    False        -0.066125    False   \n",
      "other_race                      -0.003314    False        -0.017385    False   \n",
      "latinx                           0.010289    False        -0.016590    False   \n",
      "age_18-25                        0.155150    False         0.136502    False   \n",
      "age_26-35                        0.133962    False         0.145650    False   \n",
      "age_36-45                        0.159619    False         0.142669    False   \n",
      "age_46-55                        0.189902    False         0.146434    False   \n",
      "age_56-65                        0.161320    False         0.146065    False   \n",
      "age_66+                          0.222321    False         0.109370    False   \n",
      "gender_Man                      -0.065006    False         0.045244    False   \n",
      "gender_Prefer not to say        -0.154100    False        -0.114396    False   \n",
      "gender_Woman                    -0.100251    False         0.056000    False   \n",
      "\n",
      "                          trd_inlist_coef  p<=0.05  \n",
      "const                            0.395901     True  \n",
      "white                            0.042656     True  \n",
      "native                           0.053518     True  \n",
      "asian                           -0.127944    False  \n",
      "hawaiian                        -0.053089    False  \n",
      "other_race                       0.009073    False  \n",
      "latinx                          -0.011547    False  \n",
      "age_18-25                       -0.005857     True  \n",
      "age_26-35                       -0.046040    False  \n",
      "age_36-45                       -0.040687    False  \n",
      "age_46-55                       -0.078274    False  \n",
      "age_56-65                       -0.095546    False  \n",
      "age_66+                         -0.082669    False  \n",
      "gender_Man                       0.010583    False  \n",
      "gender_Prefer not to say         0.015426    False  \n",
      "gender_Woman                     0.020118    False  \n"
     ]
    }
   ],
   "source": [
    "print(S3095_nb)"
   ]
  },
  {
   "cell_type": "code",
   "execution_count": 40,
   "metadata": {},
   "outputs": [
    {
     "name": "stdout",
     "output_type": "stream",
     "text": [
      "                          fst_inlist_coef  p<=0.05  snd_inlist_coef  p<=0.05  \\\n",
      "const                            0.659502     True         0.058477    False   \n",
      "white                            0.063676     True         0.011569    False   \n",
      "native                           0.027783    False         0.041053    False   \n",
      "asian                           -0.033023    False        -0.005729    False   \n",
      "hawaiian                         0.083258    False        -0.000612     True   \n",
      "other_race                       0.032434    False         0.040907    False   \n",
      "latinx                          -0.024563    False        -0.025496    False   \n",
      "age_18-25                       -0.166568    False         0.148665    False   \n",
      "age_26-35                       -0.191664    False         0.187045    False   \n",
      "age_36-45                       -0.249350    False         0.220560    False   \n",
      "age_46-55                       -0.191982    False         0.200486    False   \n",
      "age_56-65                       -0.243386    False         0.239005    False   \n",
      "age_66+                         -0.129287    False         0.167895    False   \n",
      "gender_Man                      -0.144902    False         0.086370    False   \n",
      "gender_Prefer not to say        -0.225194     True         0.208351    False   \n",
      "gender_Woman                    -0.120137    False         0.074207    False   \n",
      "\n",
      "                          trd_inlist_coef  p<=0.05  \n",
      "const                            0.190717    False  \n",
      "white                           -0.003938    False  \n",
      "native                          -0.021433    False  \n",
      "asian                           -0.023803    False  \n",
      "hawaiian                         0.070179    False  \n",
      "other_race                      -0.003114    False  \n",
      "latinx                          -0.005509    False  \n",
      "age_18-25                        0.116894    False  \n",
      "age_26-35                        0.042657    False  \n",
      "age_36-45                        0.049113    False  \n",
      "age_46-55                        0.066563    False  \n",
      "age_56-65                        0.056422    False  \n",
      "age_66+                         -0.026111    False  \n",
      "gender_Man                       0.117382    False  \n",
      "gender_Prefer not to say         0.132247    False  \n",
      "gender_Woman                     0.105214    False  \n"
     ]
    }
   ],
   "source": [
    "print(S3053_nb)"
   ]
  },
  {
   "cell_type": "markdown",
   "metadata": {},
   "source": [
    "### Only Black\n",
    "Other than same variables above to clear perfect multicollinearity, these groups of models also excluded all race binary variables excpet \"black\"."
   ]
  },
  {
   "cell_type": "code",
   "execution_count": 41,
   "metadata": {},
   "outputs": [],
   "source": [
    "ob = [\"white\", \"native\", \"asian\", \"hawaiian\", \"other_race\", \"unsure_race\", \"latinx\"]"
   ]
  },
  {
   "cell_type": "code",
   "execution_count": 42,
   "metadata": {},
   "outputs": [],
   "source": [
    "# All_3095\n",
    "S3095_ob = return_plist(lrdata4, ob)\n",
    "# NoRace_3082\n",
    "S3082_ob = return_plist(lrdata5, ob)\n",
    "# NoRaceWhiteBlack_3053\n",
    "S3053_ob = return_plist(lrdata6, ob)"
   ]
  },
  {
   "cell_type": "code",
   "execution_count": 43,
   "metadata": {},
   "outputs": [
    {
     "name": "stdout",
     "output_type": "stream",
     "text": [
      "                          fst_inlist_coef  p<=0.05  snd_inlist_coef  p<=0.05  \\\n",
      "const                            0.186983    False         0.093738    False   \n",
      "black                            0.068167     True         0.027923    False   \n",
      "age_18-25                        0.135771    False         0.140258    False   \n",
      "age_26-35                        0.116545    False         0.150594    False   \n",
      "age_36-45                        0.141347    False         0.148215    False   \n",
      "age_46-55                        0.168301    False         0.152503    False   \n",
      "age_56-65                        0.139311    False         0.153002    False   \n",
      "age_66+                          0.201939    False         0.115765    False   \n",
      "gender_Man                      -0.068089    False         0.046353    False   \n",
      "gender_Prefer not to say        -0.148626    False        -0.114784    False   \n",
      "gender_Woman                    -0.104772    False         0.056223    False   \n",
      "\n",
      "                          trd_inlist_coef  p<=0.05  \n",
      "const                            0.434889     True  \n",
      "black                           -0.041164     True  \n",
      "age_18-25                       -0.000122     True  \n",
      "age_26-35                       -0.037675    False  \n",
      "age_36-45                       -0.030777    False  \n",
      "age_46-55                       -0.067521    False  \n",
      "age_56-65                       -0.082289    False  \n",
      "age_66+                         -0.074640    False  \n",
      "gender_Man                       0.003775     True  \n",
      "gender_Prefer not to say        -0.008128    False  \n",
      "gender_Woman                     0.019234    False  \n"
     ]
    }
   ],
   "source": [
    "print(S3095_ob)"
   ]
  }
 ],
 "metadata": {
  "kernelspec": {
   "display_name": "geo_env",
   "language": "python",
   "name": "geo_env"
  },
  "language_info": {
   "codemirror_mode": {
    "name": "ipython",
    "version": 3
   },
   "file_extension": ".py",
   "mimetype": "text/x-python",
   "name": "python",
   "nbconvert_exporter": "python",
   "pygments_lexer": "ipython3",
   "version": "3.7.6"
  }
 },
 "nbformat": 4,
 "nbformat_minor": 4
}
