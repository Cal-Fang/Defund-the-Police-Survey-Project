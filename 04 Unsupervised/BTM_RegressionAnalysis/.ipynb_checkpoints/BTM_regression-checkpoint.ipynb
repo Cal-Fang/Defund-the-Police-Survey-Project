{
 "cells": [
  {
   "cell_type": "markdown",
   "metadata": {},
   "source": [
    "# Data Importing"
   ]
  },
  {
   "cell_type": "code",
   "execution_count": 1,
   "metadata": {},
   "outputs": [],
   "source": [
    "# Importing modules\n",
    "import pandas as pd\n",
    "import numpy as np\n",
    "import scipy.stats as stats\n",
    "import statsmodels.api as sm\n",
    "\n",
    "from sklearn.linear_model import LinearRegression\n",
    "\n",
    "# Read data into papers\n",
    "data = pd.read_csv(\"/Users/atchoo/Google Drive/Research Assistant/Work With David Knight/Survey of the Incarcerated/TMPPoliticalSurveyFULL_ForDavid.csv\", encoding = \"ISO-8859-1\")\n",
    "\n",
    "# Print head\n",
    "# print(data.columns)"
   ]
  },
  {
   "cell_type": "code",
   "execution_count": 2,
   "metadata": {},
   "outputs": [],
   "source": [
    "# Insert an id index for future work\n",
    "data[\"Survey_ID\"] = data.index + 1\n",
    "\n",
    "# Remove the columns\n",
    "str_data = data[[\"Survey_ID\", \"explain_politics_changed_since_incarcerated\",\\\n",
    "                 \"explain_race_affects_politics\", 'identifies_as_black', 'identifies_as_white',\n",
    "                 \"identifies_as_native\", 'identifies_as_asian', \n",
    "                 'identifies_as_hawaiian_or_pac_islander', 'identifies_as_other_race',\n",
    "                 'identifies_as_not_sure_of_race', 'identifies_as_hispanic_or_latinx',\n",
    "                 \"age\", \"gender\"]]\n",
    "# Print out the first rows of papers\n",
    "str_data.columns = [\"Survey_ID\", \"p_change\", \"r_effect\", \"black\", \"white\", \"native\", \"asian\",\n",
    "                   \"hawaiian\", \"other_race\", \"unsure_race\", \"latinx\", \"age\", \"gender\"]\n",
    "str_data = str_data.dropna()"
   ]
  },
  {
   "cell_type": "markdown",
   "metadata": {},
   "source": [
    "# Make Remove Stopword Functions"
   ]
  },
  {
   "cell_type": "code",
   "execution_count": 3,
   "metadata": {},
   "outputs": [],
   "source": [
    "# Load the regular expression library and the nltk word library\n",
    "import re\n",
    "import nltk\n",
    "\n",
    "# Create a function to remove nonsense words\n",
    "words = set(nltk.corpus.words.words())\n",
    "def clean_sent(sent):\n",
    "    return \" \".join(w for w in nltk.wordpunct_tokenize(sent) \\\n",
    "     if w.lower() in words or not w.isalpha())\n",
    "\n",
    "strv_list = [\"p_change\", \"r_effect\"]\n",
    "for strv in strv_list:\n",
    "    # Remove punctuation & Convert the titles to lowercase\n",
    "    str_data[strv] = str_data[strv].map(lambda x: re.sub(r'[^\\w\\s]', \"\", x)).map(lambda x: x.lower())\n",
    "    # Remove nonsense words\n",
    "    str_data[strv] = str_data[strv].apply(clean_sent)\n",
    "    # Transform blank cells to NaN & Drop NaN\n",
    "    str_data = str_data.replace(r'^\\s*$', np.nan, regex=True).dropna()"
   ]
  },
  {
   "cell_type": "code",
   "execution_count": 4,
   "metadata": {},
   "outputs": [
    {
     "data": {
      "text/html": [
       "<div>\n",
       "<style scoped>\n",
       "    .dataframe tbody tr th:only-of-type {\n",
       "        vertical-align: middle;\n",
       "    }\n",
       "\n",
       "    .dataframe tbody tr th {\n",
       "        vertical-align: top;\n",
       "    }\n",
       "\n",
       "    .dataframe thead th {\n",
       "        text-align: right;\n",
       "    }\n",
       "</style>\n",
       "<table border=\"1\" class=\"dataframe\">\n",
       "  <thead>\n",
       "    <tr style=\"text-align: right;\">\n",
       "      <th></th>\n",
       "      <th>Survey_ID</th>\n",
       "      <th>p_change</th>\n",
       "      <th>r_effect</th>\n",
       "      <th>black</th>\n",
       "      <th>white</th>\n",
       "      <th>native</th>\n",
       "      <th>asian</th>\n",
       "      <th>hawaiian</th>\n",
       "      <th>other_race</th>\n",
       "      <th>unsure_race</th>\n",
       "      <th>latinx</th>\n",
       "      <th>age</th>\n",
       "      <th>gender</th>\n",
       "    </tr>\n",
       "  </thead>\n",
       "  <tbody>\n",
       "    <tr>\n",
       "      <th>0</th>\n",
       "      <td>1</td>\n",
       "      <td>no</td>\n",
       "      <td>not at all not racist all of the human race is...</td>\n",
       "      <td>False</td>\n",
       "      <td>True</td>\n",
       "      <td>False</td>\n",
       "      <td>False</td>\n",
       "      <td>False</td>\n",
       "      <td>False</td>\n",
       "      <td>False</td>\n",
       "      <td>False</td>\n",
       "      <td>46-55</td>\n",
       "      <td>Man</td>\n",
       "    </tr>\n",
       "    <tr>\n",
       "      <th>2</th>\n",
       "      <td>3</td>\n",
       "      <td>i feel that the parole board the some of the p...</td>\n",
       "      <td>not sure about that</td>\n",
       "      <td>False</td>\n",
       "      <td>True</td>\n",
       "      <td>False</td>\n",
       "      <td>False</td>\n",
       "      <td>False</td>\n",
       "      <td>False</td>\n",
       "      <td>False</td>\n",
       "      <td>False</td>\n",
       "      <td>46-55</td>\n",
       "      <td>Woman</td>\n",
       "    </tr>\n",
       "    <tr>\n",
       "      <th>3</th>\n",
       "      <td>4</td>\n",
       "      <td>yes bit</td>\n",
       "      <td>i am not really sure about that one</td>\n",
       "      <td>False</td>\n",
       "      <td>True</td>\n",
       "      <td>False</td>\n",
       "      <td>False</td>\n",
       "      <td>False</td>\n",
       "      <td>False</td>\n",
       "      <td>False</td>\n",
       "      <td>False</td>\n",
       "      <td>36-45</td>\n",
       "      <td>Woman</td>\n",
       "    </tr>\n",
       "    <tr>\n",
       "      <th>5</th>\n",
       "      <td>6</td>\n",
       "      <td>most are full of</td>\n",
       "      <td>i do not understand this question maybe theres...</td>\n",
       "      <td>True</td>\n",
       "      <td>False</td>\n",
       "      <td>False</td>\n",
       "      <td>False</td>\n",
       "      <td>False</td>\n",
       "      <td>False</td>\n",
       "      <td>False</td>\n",
       "      <td>False</td>\n",
       "      <td>26-35</td>\n",
       "      <td>Woman</td>\n",
       "    </tr>\n",
       "    <tr>\n",
       "      <th>6</th>\n",
       "      <td>7</td>\n",
       "      <td>i never considered the prison population or pr...</td>\n",
       "      <td>i try to vote based on the but i am and many i...</td>\n",
       "      <td>False</td>\n",
       "      <td>True</td>\n",
       "      <td>False</td>\n",
       "      <td>False</td>\n",
       "      <td>False</td>\n",
       "      <td>False</td>\n",
       "      <td>False</td>\n",
       "      <td>False</td>\n",
       "      <td>46-55</td>\n",
       "      <td>Woman</td>\n",
       "    </tr>\n",
       "  </tbody>\n",
       "</table>\n",
       "</div>"
      ],
      "text/plain": [
       "   Survey_ID                                           p_change  \\\n",
       "0          1                                                 no   \n",
       "2          3  i feel that the parole board the some of the p...   \n",
       "3          4                                            yes bit   \n",
       "5          6                                   most are full of   \n",
       "6          7  i never considered the prison population or pr...   \n",
       "\n",
       "                                            r_effect  black  white  native  \\\n",
       "0  not at all not racist all of the human race is...  False   True   False   \n",
       "2                                not sure about that  False   True   False   \n",
       "3                i am not really sure about that one  False   True   False   \n",
       "5  i do not understand this question maybe theres...   True  False   False   \n",
       "6  i try to vote based on the but i am and many i...  False   True   False   \n",
       "\n",
       "   asian  hawaiian  other_race  unsure_race  latinx    age gender  \n",
       "0  False     False       False        False   False  46-55    Man  \n",
       "2  False     False       False        False   False  46-55  Woman  \n",
       "3  False     False       False        False   False  36-45  Woman  \n",
       "5  False     False       False        False   False  26-35  Woman  \n",
       "6  False     False       False        False   False  46-55  Woman  "
      ]
     },
     "execution_count": 4,
     "metadata": {},
     "output_type": "execute_result"
    }
   ],
   "source": [
    "str_data.head()"
   ]
  },
  {
   "cell_type": "code",
   "execution_count": 5,
   "metadata": {},
   "outputs": [],
   "source": [
    "# remove stop words\n",
    "# nltk.download('stopwords')\n",
    "from nltk.corpus import stopwords\n",
    "from gensim.utils import simple_preprocess\n",
    "\n",
    "def remove_stopwords(texts):\n",
    "    return [[word for word in simple_preprocess(str(doc)) if word not in stop_words] for doc in texts]"
   ]
  },
  {
   "cell_type": "markdown",
   "metadata": {},
   "source": [
    "# Data Exporting for C++"
   ]
  },
  {
   "cell_type": "code",
   "execution_count": 6,
   "metadata": {},
   "outputs": [],
   "source": [
    "extrastopword = []"
   ]
  },
  {
   "cell_type": "code",
   "execution_count": 7,
   "metadata": {},
   "outputs": [],
   "source": [
    "stop_words = stopwords.words(\"english\")\n",
    "stop_words.extend([\"don\", \"people\", \"bill\", \"step\", \"act\", \"first\", \"u\", \"n\", \n",
    "                   \"na\", \"non\"]+extrastopword)\n",
    "yesnno = [\"yes\", \"no\"]\n",
    "stop_words =  [word for word in stop_words if word not in yesnno]"
   ]
  },
  {
   "cell_type": "code",
   "execution_count": 8,
   "metadata": {},
   "outputs": [
    {
     "data": {
      "text/plain": [
       "3095"
      ]
     },
     "execution_count": 8,
     "metadata": {},
     "output_type": "execute_result"
    }
   ],
   "source": [
    "r_effect = remove_stopwords(str_data[\"r_effect\"])\n",
    "r_effect = pd.DataFrame([x for x in r_effect if x])\n",
    "len(r_effect)"
   ]
  },
  {
   "cell_type": "code",
   "execution_count": 9,
   "metadata": {},
   "outputs": [],
   "source": [
    "#r_effect.to_csv('/Users/atchoo/Desktop/r_effect_3082.txt', header=None, index=None, sep=' ', mode='a')"
   ]
  },
  {
   "cell_type": "markdown",
   "metadata": {},
   "source": [
    "# Data Sampling for Training Set"
   ]
  },
  {
   "cell_type": "code",
   "execution_count": 10,
   "metadata": {},
   "outputs": [],
   "source": [
    "black = str_data[str_data[\"black\"] == True].sample(150)\n",
    "white = str_data[str_data[\"white\"] == True].sample(100)\n",
    "asian = str_data[str_data[\"asian\"] == True].sample(50)\n",
    "hawaiian = str_data[str_data[\"hawaiian\"] == True].sample(50)\n",
    "native = str_data[str_data[\"native\"] == True].sample(150)\n",
    "latinx = str_data[str_data[\"latinx\"] == True].sample(150)\n",
    "other = str_data[str_data[\"other_race\"] == True].sample(150)\n",
    "\n",
    "test = pd.concat([black, white, asian, hawaiian, native, latinx, other], axis=0)"
   ]
  },
  {
   "cell_type": "code",
   "execution_count": 11,
   "metadata": {},
   "outputs": [],
   "source": [
    "test.to_csv(\"testset2.csv\")"
   ]
  },
  {
   "cell_type": "markdown",
   "metadata": {},
   "source": [
    "# Include the Topic info"
   ]
  },
  {
   "cell_type": "code",
   "execution_count": 50,
   "metadata": {},
   "outputs": [],
   "source": [
    "def add_the_matrix(extrastopword, csvfile, tlist):\n",
    "    \n",
    "    assert isinstance(extrastopword, list), \"Should be a list of the extra stop words.\"\n",
    "    assert isinstance(csvfile, str), \"Should be the path of the matrix file.\"\n",
    "    \n",
    "    # change the stop words\n",
    "    stop_words = stopwords.words(\"english\")\n",
    "    stop_words.extend([\"don\", \"people\", \"bill\", \"step\", \"act\", \"first\", \"u\", \"n\", \n",
    "                       \"na\", \"non\"]+extrastopword)\n",
    "    yesnno = [\"yes\", \"no\"]\n",
    "    stop_words =  [word for word in stop_words if word not in yesnno]\n",
    "    # remove stop words\n",
    "    r_effect = [[word for word in simple_preprocess(str(doc)) if word not in stop_words] for doc in str_data[\"r_effect\"]]\n",
    "    r_effect = pd.DataFrame([x for x in r_effect if x])\n",
    "    \n",
    "    # create index variable for whether a row is left\n",
    "    r_effect2 = []\n",
    "    for doc in str_data[\"r_effect\"]:\n",
    "        if all(word in stop_words for word in simple_preprocess(doc)):\n",
    "               i_str = False\n",
    "        else: \n",
    "               i_str = True\n",
    "        r_effect2.append(i_str)\n",
    "    inBTM = pd.DataFrame(r_effect2, columns=[\"inBTM\"])\n",
    "    # filter str_data based on inBTM result into str_datar\n",
    "    str_datar = pd.concat([str_data.reset_index(drop=True), inBTM], axis=1)\n",
    "    str_datar = str_datar[str_datar[\"inBTM\"]==True]\n",
    "    \n",
    "    # read in the topicmatrix file\n",
    "    matrix = pd.read_csv(csvfile, \n",
    "                         names=[\"topic 1\", \"topic 2\", \"topic 3\", \"topic 4\", \"topic 5\", \"topic 6\"])\n",
    "    a = matrix.idxmax(axis=1)\n",
    "    b = matrix.T.apply(lambda x: x.nlargest(2).idxmin())\n",
    "    c = matrix.T.apply(lambda x: x.nlargest(3).idxmin())\n",
    "    topic = pd.concat([a, b, c], axis=1, ignore_index=False)\n",
    "\n",
    "    # concatenate topic matrix and str_datar as str_datar\n",
    "    str_datar2 = pd.concat([str_datar.reset_index(drop=True), topic], axis=1)\n",
    "    str_datar2 = str_datar2.rename(columns={0:\"fsttopic\", 1:\"sndtopic\", 2:\"trdtopic\"})\n",
    "\n",
    "    # CREATE THE CHISQUARE DATAFRAME\n",
    "    race = [\"black\", \"white\", \"native\", \"asian\", \"hawaiian\", \"other_race\", \"unsure_race\", \"latinx\"]\n",
    "    topic = [\"fsttopic\", \"sndtopic\", \"trdtopic\"]\n",
    "    chisq = str_datar2.loc[:, [\"Survey_ID\"]+race+topic].dropna()\n",
    "        ## clean the race variable a little bit\n",
    "    chisq.loc[:, race] = chisq.loc[:, race].astype(int)\n",
    "    chisq[\"Race\"] = chisq.loc[:, race].idxmax(axis=1)\n",
    "    \n",
    "    # CREATE THE REGRESSION DATAFRAME\n",
    "    chisq[\"fst1n2\"] = chisq[\"fsttopic\"].isin(tlist)\n",
    "    chisq[\"snd1n2\"] = chisq[\"sndtopic\"].isin(tlist)\n",
    "    chisq[\"trd1n2\"] = chisq[\"trdtopic\"].isin(tlist)\n",
    "    cor = chisq.drop([\"fsttopic\", \"sndtopic\", \"trdtopic\", \"Race\"], axis=1)\n",
    "    cov = str_data[[\"Survey_ID\", \"age\", \"gender\"]]\n",
    "    cov = pd.get_dummies(cov, columns=[\"age\", \"gender\"])\n",
    "    lrdata = cor.merge(cov, on=\"Survey_ID\")\n",
    "    \n",
    "    return chisq, lrdata"
   ]
  },
  {
   "cell_type": "code",
   "execution_count": 37,
   "metadata": {},
   "outputs": [],
   "source": [
    "common_csv = \"~/Google Drive/Research Assistant/Work With David Knight/Survey of the Incarcerated/BTM/BTM_Regression_Exploration/\"\n",
    "extra1 = []\n",
    "csv1 = \"All_3095/topicmatrix.csv\"\n",
    "\n",
    "extra2 = [\"violent\", \"race\"]\n",
    "csv2 = \"NoViloentRace_3082/topicmatrix_3082.csv\"\n",
    "\n",
    "extra3 = [\"violent\", \"race\", \"white\", \"black\"]\n",
    "csv3 = \"NoViloentRaceWhiteBlack_3053/topicmatrix_3053.csv\""
   ]
  },
  {
   "cell_type": "code",
   "execution_count": 46,
   "metadata": {},
   "outputs": [],
   "source": [
    "chisq1, lrdata1 = add_the_matrix(extra1, common_csv+csv1, tlist=[\"topic 1\", \"topic 2\"])\n",
    "chisq2, lrdata2 = add_the_matrix(extra2, common_csv+csv2, tlist=[\"topic 1\", \"topic 2\"])\n",
    "chisq3, lrdata3 = add_the_matrix(extra3, common_csv+csv3, tlist=[\"topic 1\", \"topic 2\"])"
   ]
  },
  {
   "cell_type": "code",
   "execution_count": 51,
   "metadata": {},
   "outputs": [],
   "source": [
    "chisq4, lrdata4 = add_the_matrix(extra1, common_csv+csv1, tlist=[\"topic 4\", \"topic 5\"])\n",
    "chisq5, lrdata5 = add_the_matrix(extra2, common_csv+csv2, tlist=[\"topic 4\", \"topic 5\"])\n",
    "chisq6, lrdata6 = add_the_matrix(extra3, common_csv+csv3, tlist=[\"topic 4\", \"topic 5\"])"
   ]
  },
  {
   "cell_type": "markdown",
   "metadata": {},
   "source": [
    "# Chisq Test"
   ]
  },
  {
   "cell_type": "code",
   "execution_count": 16,
   "metadata": {},
   "outputs": [],
   "source": [
    "def to_obs(ct):\n",
    "    obs = np.array([ct.iloc[0][0:7].values,\n",
    "                    ct.iloc[1][0:7].values,\n",
    "                    ct.iloc[2][0:7].values,\n",
    "                    ct.iloc[3][0:7].values,\n",
    "                    ct.iloc[4][0:7].values,\n",
    "                    ct.iloc[5][0:7].values,\n",
    "                    ct.iloc[6][0:7].values,\n",
    "                    ct.iloc[7][0:7].values])\n",
    "    return obs\n",
    "\n",
    "def ctest_race_topic(dataset4chisq):\n",
    "    ct = pd.crosstab(dataset4chisq.Race, dataset4chisq.fsttopic, margins=True)\n",
    "    obs = to_obs(ct)\n",
    "    fst_p = stats.chi2_contingency(obs)[1]\n",
    "    \n",
    "    ct = pd.crosstab(dataset4chisq.Race, dataset4chisq.sndtopic, margins=True)\n",
    "    obs = to_obs(ct)\n",
    "    snd_p = stats.chi2_contingency(obs)[1]\n",
    "    \n",
    "    ct = pd.crosstab(dataset4chisq.Race, dataset4chisq.trdtopic, margins=True)\n",
    "    obs = to_obs(ct)\n",
    "    trd_p = stats.chi2_contingency(obs)[1]\n",
    "    \n",
    "    result_dic = {\"fst_p\":fst_p, \"snd_p\":snd_p, \"trd_p\":trd_p}\n",
    "    print(result_dic)\n",
    "    \n",
    "    pass"
   ]
  },
  {
   "cell_type": "code",
   "execution_count": 17,
   "metadata": {},
   "outputs": [
    {
     "name": "stdout",
     "output_type": "stream",
     "text": [
      "{'fst_p': 0.17109029598139353, 'snd_p': 0.7045522545000066, 'trd_p': 0.48030336122960393}\n",
      "{'fst_p': 0.42256702623846903, 'snd_p': 0.11625244726651981, 'trd_p': 0.7062211537874308}\n",
      "{'fst_p': 0.08546534195459222, 'snd_p': 0.12271514999840784, 'trd_p': 0.6616777543145637}\n"
     ]
    }
   ],
   "source": [
    "# All_3095\n",
    "ctest_race_topic(chisq1)\n",
    "# NoViloentRace_3082\n",
    "ctest_race_topic(chisq2)\n",
    "# NoViloentRaceWhiteBlack_3053\n",
    "ctest_race_topic(chisq3)"
   ]
  },
  {
   "cell_type": "code",
   "execution_count": 35,
   "metadata": {},
   "outputs": [
    {
     "name": "stdout",
     "output_type": "stream",
     "text": [
      "{'fst_p': 0.17109029598139353, 'snd_p': 0.7045522545000066, 'trd_p': 0.48030336122960393}\n",
      "{'fst_p': 0.42256702623846903, 'snd_p': 0.11625244726651981, 'trd_p': 0.7062211537874308}\n",
      "{'fst_p': 0.08546534195459222, 'snd_p': 0.12271514999840784, 'trd_p': 0.6616777543145637}\n"
     ]
    }
   ],
   "source": [
    "# All_3095\n",
    "ctest_race_topic(chisq4)\n",
    "# NoViloentRace_3082\n",
    "ctest_race_topic(chisq5)\n",
    "# NoViloentRaceWhiteBlack_3053\n",
    "ctest_race_topic(chisq6)"
   ]
  },
  {
   "cell_type": "markdown",
   "metadata": {},
   "source": [
    "# Linear Regression"
   ]
  },
  {
   "cell_type": "code",
   "execution_count": 53,
   "metadata": {},
   "outputs": [
    {
     "data": {
      "text/plain": [
       "Index(['Survey_ID', 'black', 'white', 'native', 'asian', 'hawaiian',\n",
       "       'other_race', 'unsure_race', 'latinx', 'fst4o5', 'snd4o5', 'trd4o5',\n",
       "       'age_18-25', 'age_26-35', 'age_36-45', 'age_46-55', 'age_56-65',\n",
       "       'age_66+', 'age_Under 18',\n",
       "       'gender_Gender non-conforming or non-binary or other', 'gender_Man',\n",
       "       'gender_Prefer not to say', 'gender_Woman'],\n",
       "      dtype='object')"
      ]
     },
     "execution_count": 53,
     "metadata": {},
     "output_type": "execute_result"
    }
   ],
   "source": [
    "lrdata4.columns"
   ]
  },
  {
   "cell_type": "code",
   "execution_count": 54,
   "metadata": {},
   "outputs": [],
   "source": [
    "def reg_on_123(dataset4lr, dropX=[]):\n",
    "    y1 = dataset4lr[\"fst1n2\"]\n",
    "    y2 = dataset4lr[\"snd1n2\"]\n",
    "    y3 = dataset4lr[\"trd1n2\"]\n",
    "\n",
    "    X = dataset4lr.drop([\"Survey_ID\", \"fst1n2\", \"snd1n2\", \"trd1n2\", \"unsure_race\", \"age_Under 18\",\n",
    "                         \"gender_Gender non-conforming or non-binary or other\"]+dropX, axis=1)\n",
    "    X = sm.add_constant(X)\n",
    "    \n",
    "    model1 = sm.OLS(y1, X).fit()\n",
    "    model2 = sm.OLS(y2, X).fit()\n",
    "    model3 = sm.OLS(y3, X).fit()\n",
    "    \n",
    "    return model1, model2, model3\n",
    "\n",
    "def return_plist(dataset4lr, dropX=[]):\n",
    "    model1, model2, model3 = reg_on_123(dataset4lr, dropX)\n",
    "    \n",
    "    a = (model1.summary2().tables[1]['P>|t|'] <= 0.05) | (model1.summary2().tables[1]['P>|t|'] >= 0.95)\n",
    "    a1 = model1.summary2().tables[1][\"Coef.\"]\n",
    "    b = (model2.summary2().tables[1]['P>|t|'] <= 0.05) | (model2.summary2().tables[1]['P>|t|'] >= 0.95)\n",
    "    b1 = model2.summary2().tables[1][\"Coef.\"]\n",
    "    c = (model3.summary2().tables[1]['P>|t|'] <= 0.05) | (model3.summary2().tables[1]['P>|t|'] >= 0.95)\n",
    "    c1 = model3.summary2().tables[1][\"Coef.\"]\n",
    "    \n",
    "    p_df = pd.concat([a1, a, b1, b, c1, c], axis=1)\n",
    "    p_df.columns = [\"fst_inlist_coef\", \"p<=0.05\", \"snd_inlist_coef\", \"p<=0.05\", \"trd_inlist_coef\", \"p<=0.05\"]\n",
    "    \n",
    "    return p_df"
   ]
  },
  {
   "cell_type": "markdown",
   "metadata": {},
   "source": [
    "### Keep All\n",
    "These groups of models only excluded some variables to clear perfect multicollinearity.\n",
    "The variables excluded for perfect multicollinearity include \"Survey_ID\", \"fst1n2\", \"snd1n2\", \"trd1n2\", \"unsure_race\",\"age_Under 18\", \"gender_Gender non-conforming or non-binary or other\"."
   ]
  },
  {
   "cell_type": "code",
   "execution_count": 19,
   "metadata": {},
   "outputs": [
    {
     "name": "stderr",
     "output_type": "stream",
     "text": [
      "/opt/anaconda3/lib/python3.7/site-packages/numpy/core/fromnumeric.py:2542: FutureWarning: Method .ptp is deprecated and will be removed in a future version. Use numpy.ptp instead.\n",
      "  return ptp(axis=axis, out=out, **kwargs)\n"
     ]
    }
   ],
   "source": [
    "# All_3095\n",
    "S3095_all = return_plist(lrdata1)\n",
    "# NoViloentRace_3082\n",
    "S3082_all = return_plist(lrdata2)\n",
    "# NoViloentRaceWhiteBlack_3053\n",
    "S3053_all = return_plist(lrdata3)"
   ]
  },
  {
   "cell_type": "code",
   "execution_count": 20,
   "metadata": {},
   "outputs": [
    {
     "name": "stdout",
     "output_type": "stream",
     "text": [
      "                          fst_inlist_coef  p<=0.05  snd_inlist_coef  p<=0.05  \\\n",
      "const                            0.330459    False         0.497500     True   \n",
      "black                           -0.064964     True        -0.013731    False   \n",
      "white                           -0.044428    False         0.014362    False   \n",
      "native                           0.002763    False        -0.020901    False   \n",
      "asian                           -0.087620    False        -0.029027    False   \n",
      "hawaiian                        -0.112141    False         0.171627     True   \n",
      "other_race                      -0.072576     True        -0.019355    False   \n",
      "latinx                          -0.001159     True         0.043967    False   \n",
      "age_18-25                       -0.112401    False        -0.002456     True   \n",
      "age_26-35                       -0.074564    False        -0.024042    False   \n",
      "age_36-45                       -0.076951    False        -0.009518     True   \n",
      "age_46-55                       -0.077342    False        -0.036106    False   \n",
      "age_56-65                       -0.101440    False         0.042325    False   \n",
      "age_66+                         -0.112503    False         0.005080     True   \n",
      "gender_Man                       0.177065     True        -0.125406    False   \n",
      "gender_Prefer not to say         0.252113     True        -0.026287    False   \n",
      "gender_Woman                     0.201310     True        -0.122167    False   \n",
      "\n",
      "                          trd_inlist_coef  p<=0.05  \n",
      "const                            0.230466    False  \n",
      "black                            0.017236    False  \n",
      "white                           -0.004360    False  \n",
      "native                          -0.009388    False  \n",
      "asian                            0.054464    False  \n",
      "hawaiian                        -0.038636    False  \n",
      "other_race                       0.031942    False  \n",
      "latinx                          -0.017109    False  \n",
      "age_18-25                        0.142664    False  \n",
      "age_26-35                        0.154824    False  \n",
      "age_36-45                        0.174842    False  \n",
      "age_46-55                        0.170413    False  \n",
      "age_56-65                        0.202454    False  \n",
      "age_66+                          0.159807    False  \n",
      "gender_Man                      -0.096047    False  \n",
      "gender_Prefer not to say        -0.118643    False  \n",
      "gender_Woman                    -0.055484    False  \n"
     ]
    }
   ],
   "source": [
    "print(S3095_all)"
   ]
  },
  {
   "cell_type": "code",
   "execution_count": 21,
   "metadata": {},
   "outputs": [
    {
     "name": "stdout",
     "output_type": "stream",
     "text": [
      "                          fst_inlist_coef  p<=0.05  snd_inlist_coef  p<=0.05  \\\n",
      "const                            0.031967    False         0.127324    False   \n",
      "black                           -0.000502     True         0.059361     True   \n",
      "white                           -0.075297     True         0.036983    False   \n",
      "native                          -0.010056    False        -0.004628    False   \n",
      "asian                           -0.019138    False         0.060123    False   \n",
      "hawaiian                        -0.112787    False        -0.003725     True   \n",
      "other_race                      -0.043474    False         0.003934    False   \n",
      "latinx                           0.022591    False         0.014531    False   \n",
      "age_18-25                        0.195433    False         0.122615    False   \n",
      "age_26-35                        0.255657    False         0.106598    False   \n",
      "age_36-45                        0.269609    False         0.103145    False   \n",
      "age_46-55                        0.268767    False         0.110343    False   \n",
      "age_56-65                        0.261078    False         0.098624    False   \n",
      "age_66+                          0.166892    False         0.132689    False   \n",
      "gender_Man                       0.006402    False        -0.016629    False   \n",
      "gender_Prefer not to say        -0.005719     True        -0.162104    False   \n",
      "gender_Woman                    -0.008116    False        -0.045257    False   \n",
      "\n",
      "                          trd_inlist_coef  p<=0.05  \n",
      "const                            0.610424     True  \n",
      "black                           -0.044769    False  \n",
      "white                           -0.048715     True  \n",
      "native                           0.014290    False  \n",
      "asian                            0.050700    False  \n",
      "hawaiian                        -0.010455    False  \n",
      "other_race                      -0.028899    False  \n",
      "latinx                           0.003724    False  \n",
      "age_18-25                       -0.279971    False  \n",
      "age_26-35                       -0.233445    False  \n",
      "age_36-45                       -0.210818    False  \n",
      "age_46-55                       -0.260016    False  \n",
      "age_56-65                       -0.235878    False  \n",
      "age_66+                         -0.218409    False  \n",
      "gender_Man                      -0.019885    False  \n",
      "gender_Prefer not to say         0.035957    False  \n",
      "gender_Woman                    -0.004984     True  \n"
     ]
    }
   ],
   "source": [
    "print(S3053_all)"
   ]
  },
  {
   "cell_type": "markdown",
   "metadata": {},
   "source": [
    "### No White\n",
    "Other than same variables above to clear perfect multicollinearity, these groups of models also excluded \"white\"."
   ]
  },
  {
   "cell_type": "code",
   "execution_count": 22,
   "metadata": {},
   "outputs": [],
   "source": [
    "nw = [\"white\"]"
   ]
  },
  {
   "cell_type": "code",
   "execution_count": 23,
   "metadata": {},
   "outputs": [],
   "source": [
    "# All_3095\n",
    "S3095_nw = return_plist(lrdata1, nw)\n",
    "# NoRace_3082\n",
    "S3082_nw = return_plist(lrdata2, nw)\n",
    "# NoRaceWhiteBlack_3053\n",
    "S3053_nw = return_plist(lrdata3, nw)"
   ]
  },
  {
   "cell_type": "code",
   "execution_count": 24,
   "metadata": {},
   "outputs": [
    {
     "name": "stdout",
     "output_type": "stream",
     "text": [
      "                          fst_inlist_coef  p<=0.05  snd_inlist_coef  p<=0.05  \\\n",
      "const                           -0.029989    False         0.157755    False   \n",
      "black                            0.054021     True         0.032581    False   \n",
      "native                          -0.000144     True        -0.009496    False   \n",
      "asian                           -0.021448    False         0.061258    False   \n",
      "hawaiian                        -0.127760    False         0.003629     True   \n",
      "other_race                      -0.016366    False        -0.009381    False   \n",
      "latinx                           0.044470    False         0.003784    False   \n",
      "age_18-25                        0.183329    False         0.128560    False   \n",
      "age_26-35                        0.242781    False         0.112922    False   \n",
      "age_36-45                        0.256577    False         0.109546    False   \n",
      "age_46-55                        0.255326    False         0.116944    False   \n",
      "age_56-65                        0.247662    False         0.105213    False   \n",
      "age_66+                          0.153652    False         0.139192    False   \n",
      "gender_Man                       0.014917    False        -0.020812    False   \n",
      "gender_Prefer not to say         0.014078    False        -0.171827    False   \n",
      "gender_Woman                    -0.006023    False        -0.046284    False   \n",
      "\n",
      "                          trd_inlist_coef  p<=0.05  \n",
      "const                            0.570340     True  \n",
      "black                           -0.009494    False  \n",
      "native                           0.020703    False  \n",
      "asian                            0.049205    False  \n",
      "hawaiian                        -0.020142    False  \n",
      "other_race                      -0.011361    False  \n",
      "latinx                           0.017879    False  \n",
      "age_18-25                       -0.287802    False  \n",
      "age_26-35                       -0.241776    False  \n",
      "age_36-45                       -0.219249    False  \n",
      "age_46-55                       -0.268712    False  \n",
      "age_56-65                       -0.244557    False  \n",
      "age_66+                         -0.226975    False  \n",
      "gender_Man                      -0.014376    False  \n",
      "gender_Prefer not to say         0.048765    False  \n",
      "gender_Woman                    -0.003630     True  \n"
     ]
    }
   ],
   "source": [
    "print(S3053_nw)"
   ]
  },
  {
   "cell_type": "markdown",
   "metadata": {},
   "source": [
    "### Only White\n",
    "Other than same variables above to clear perfect multicollinearity, these groups of models also excluded all race binary variables excpet \"white\"."
   ]
  },
  {
   "cell_type": "code",
   "execution_count": 25,
   "metadata": {},
   "outputs": [],
   "source": [
    "ow = [\"black\", \"native\", \"asian\", \"hawaiian\", \"other_race\", \"unsure_race\", \"latinx\"]"
   ]
  },
  {
   "cell_type": "code",
   "execution_count": 26,
   "metadata": {},
   "outputs": [],
   "source": [
    "# All_3095\n",
    "S3095_ow = return_plist(lrdata1, ow)\n",
    "# NoRace_3082\n",
    "S3082_ow = return_plist(lrdata2, ow)\n",
    "# NoRaceWhiteBlack_3053\n",
    "S3053_ow = return_plist(lrdata3, ow)"
   ]
  },
  {
   "cell_type": "code",
   "execution_count": 27,
   "metadata": {},
   "outputs": [
    {
     "name": "stdout",
     "output_type": "stream",
     "text": [
      "                          fst_inlist_coef  p<=0.05  snd_inlist_coef  p<=0.05  \\\n",
      "const                            0.011776    False         0.159626    False   \n",
      "white                           -0.069152     True         0.004631    False   \n",
      "age_18-25                        0.199440    False         0.130044    False   \n",
      "age_26-35                        0.257962    False         0.109881    False   \n",
      "age_36-45                        0.271032    False         0.105776    False   \n",
      "age_46-55                        0.273418    False         0.113681    False   \n",
      "age_56-65                        0.266042    False         0.101780    False   \n",
      "age_66+                          0.169449    False         0.135307    False   \n",
      "gender_Man                       0.011635    False        -0.016324    False   \n",
      "gender_Prefer not to say        -0.016689    False        -0.163085    False   \n",
      "gender_Woman                    -0.002304     True        -0.045024    False   \n",
      "\n",
      "                          trd_inlist_coef  p<=0.05  \n",
      "const                            0.592215     True  \n",
      "white                           -0.021934    False  \n",
      "age_18-25                       -0.291139    False  \n",
      "age_26-35                       -0.243105    False  \n",
      "age_36-45                       -0.220991    False  \n",
      "age_46-55                       -0.270185    False  \n",
      "age_56-65                       -0.246552    False  \n",
      "age_66+                         -0.227577    False  \n",
      "gender_Man                      -0.019530    False  \n",
      "gender_Prefer not to say         0.039857    False  \n",
      "gender_Woman                    -0.003991     True  \n"
     ]
    }
   ],
   "source": [
    "print(S3053_ow)"
   ]
  },
  {
   "cell_type": "markdown",
   "metadata": {},
   "source": [
    "### No Black\n",
    "Other than same variables above to clear perfect multicollinearity, these groups of models also excluded \"black\"."
   ]
  },
  {
   "cell_type": "code",
   "execution_count": 28,
   "metadata": {},
   "outputs": [],
   "source": [
    "nb = [\"black\"]"
   ]
  },
  {
   "cell_type": "code",
   "execution_count": 29,
   "metadata": {},
   "outputs": [],
   "source": [
    "# All_3095\n",
    "S3095_nb = return_plist(lrdata1, nb)\n",
    "# NoRace_3082\n",
    "S3082_nb = return_plist(lrdata2, nb)\n",
    "# NoRaceWhiteBlack_3053\n",
    "S3053_nb = return_plist(lrdata3, nb)"
   ]
  },
  {
   "cell_type": "code",
   "execution_count": 30,
   "metadata": {},
   "outputs": [
    {
     "name": "stdout",
     "output_type": "stream",
     "text": [
      "                          fst_inlist_coef  p<=0.05  snd_inlist_coef  p<=0.05  \\\n",
      "const                            0.031616    False         0.168743    False   \n",
      "white                           -0.074998     True         0.001729    False   \n",
      "native                          -0.009985    False        -0.013032    False   \n",
      "asian                           -0.019177    False         0.064729    False   \n",
      "hawaiian                        -0.112875    False         0.006644    False   \n",
      "other_race                      -0.043337    False        -0.012288    False   \n",
      "latinx                           0.022709    False         0.000640     True   \n",
      "age_18-25                        0.195388    False         0.128015    False   \n",
      "age_26-35                        0.255639    False         0.108741    False   \n",
      "age_36-45                        0.269593    False         0.104999    False   \n",
      "age_46-55                        0.268754    False         0.111834    False   \n",
      "age_56-65                        0.261061    False         0.100692    False   \n",
      "age_66+                          0.166893    False         0.132580    False   \n",
      "gender_Man                       0.006422    False        -0.019066    False   \n",
      "gender_Prefer not to say        -0.005659     True        -0.169202    False   \n",
      "gender_Woman                    -0.008100    False        -0.047146    False   \n",
      "\n",
      "                          trd_inlist_coef  p<=0.05  \n",
      "const                            0.579186     True  \n",
      "white                           -0.022127    False  \n",
      "native                           0.020628    False  \n",
      "asian                            0.047226    False  \n",
      "hawaiian                        -0.018276    False  \n",
      "other_race                      -0.016664    False  \n",
      "latinx                           0.014200    False  \n",
      "age_18-25                       -0.284043    False  \n",
      "age_26-35                       -0.235061    False  \n",
      "age_36-45                       -0.212216    False  \n",
      "age_46-55                       -0.261142    False  \n",
      "age_56-65                       -0.237438    False  \n",
      "age_66+                         -0.218327    False  \n",
      "gender_Man                      -0.018047    False  \n",
      "gender_Prefer not to say         0.041311    False  \n",
      "gender_Woman                    -0.003559     True  \n"
     ]
    }
   ],
   "source": [
    "print(S3053_nb)"
   ]
  },
  {
   "cell_type": "markdown",
   "metadata": {},
   "source": [
    "### Only Black\n",
    "Other than same variables above to clear perfect multicollinearity, these groups of models also excluded all race binary variables excpet \"black\"."
   ]
  },
  {
   "cell_type": "code",
   "execution_count": 31,
   "metadata": {},
   "outputs": [],
   "source": [
    "ob = [\"white\", \"native\", \"asian\", \"hawaiian\", \"other_race\", \"unsure_race\", \"latinx\"]"
   ]
  },
  {
   "cell_type": "code",
   "execution_count": 32,
   "metadata": {},
   "outputs": [],
   "source": [
    "# All_3095\n",
    "S3095_ob = return_plist(lrdata1, ob)\n",
    "# NoRace_3082\n",
    "S3082_ob = return_plist(lrdata2, ob)\n",
    "# NoRaceWhiteBlack_3053\n",
    "S3053_ob = return_plist(lrdata3, ob)"
   ]
  },
  {
   "cell_type": "code",
   "execution_count": 33,
   "metadata": {},
   "outputs": [
    {
     "name": "stdout",
     "output_type": "stream",
     "text": [
      "                          fst_inlist_coef  p<=0.05  snd_inlist_coef  p<=0.05  \\\n",
      "const                           -0.023210    False         0.153271    False   \n",
      "black                            0.050298     True         0.034651    False   \n",
      "age_18-25                        0.183623    False         0.129839    False   \n",
      "age_26-35                        0.240157    False         0.113669    False   \n",
      "age_36-45                        0.252191    False         0.109879    False   \n",
      "age_46-55                        0.250681    False         0.117972    False   \n",
      "age_56-65                        0.243545    False         0.105505    False   \n",
      "age_66+                          0.146813    False         0.141151    False   \n",
      "gender_Man                       0.013843    False        -0.019439    False   \n",
      "gender_Prefer not to say        -0.002030     True        -0.167692    False   \n",
      "gender_Woman                    -0.007344    False        -0.045006    False   \n",
      "\n",
      "                          trd_inlist_coef  p<=0.05  \n",
      "const                            0.587452     True  \n",
      "black                           -0.011730    False  \n",
      "age_18-25                       -0.295235    False  \n",
      "age_26-35                       -0.250642    False  \n",
      "age_36-45                       -0.229036    False  \n",
      "age_46-55                       -0.279413    False  \n",
      "age_56-65                       -0.255303    False  \n",
      "age_66+                         -0.237909    False  \n",
      "gender_Man                      -0.016669    False  \n",
      "gender_Prefer not to say         0.047146    False  \n",
      "gender_Woman                    -0.005356    False  \n"
     ]
    }
   ],
   "source": [
    "print(S3053_ob)"
   ]
  },
  {
   "cell_type": "code",
   "execution_count": 34,
   "metadata": {},
   "outputs": [],
   "source": [
    "S3053_ob.to_csv(\"~/Desktop/b.csv\")"
   ]
  },
  {
   "cell_type": "code",
   "execution_count": null,
   "metadata": {},
   "outputs": [],
   "source": []
  }
 ],
 "metadata": {
  "kernelspec": {
   "display_name": "geo_env",
   "language": "python",
   "name": "geo_env"
  },
  "language_info": {
   "codemirror_mode": {
    "name": "ipython",
    "version": 3
   },
   "file_extension": ".py",
   "mimetype": "text/x-python",
   "name": "python",
   "nbconvert_exporter": "python",
   "pygments_lexer": "ipython3",
   "version": "3.7.6"
  }
 },
 "nbformat": 4,
 "nbformat_minor": 4
}
