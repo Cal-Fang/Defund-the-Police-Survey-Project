{
 "cells": [
  {
   "cell_type": "markdown",
   "metadata": {},
   "source": [
    "# Data Importing"
   ]
  },
  {
   "cell_type": "code",
   "execution_count": 1,
   "metadata": {},
   "outputs": [],
   "source": [
    "# Importing modules\n",
    "import pandas as pd\n",
    "import numpy as np\n",
    "import scipy.stats as stats\n",
    "import statsmodels.api as sm\n",
    "\n",
    "from sklearn.linear_model import LinearRegression\n",
    "\n",
    "# Read data into papers\n",
    "data = pd.read_csv(\"/Users/atchoo/Google Drive/Research Assistant/Work With David Knight/Survey of the Incarcerated/TMPPoliticalSurveyFULL_ForDavid.csv\", encoding = \"ISO-8859-1\")\n",
    "\n",
    "# Print head\n",
    "# print(data.columns)"
   ]
  },
  {
   "cell_type": "code",
   "execution_count": 2,
   "metadata": {},
   "outputs": [],
   "source": [
    "# Insert an id index for future work\n",
    "data[\"Survey_ID\"] = data.index + 1\n",
    "\n",
    "# Remove the columns\n",
    "str_data = data[[\"Survey_ID\", \"explain_politics_changed_since_incarcerated\",\\\n",
    "                 \"explain_race_affects_politics\", 'identifies_as_black', 'identifies_as_white',\n",
    "                 \"identifies_as_native\", 'identifies_as_asian', \n",
    "                 'identifies_as_hawaiian_or_pac_islander', 'identifies_as_other_race',\n",
    "                 'identifies_as_not_sure_of_race', 'identifies_as_hispanic_or_latinx',\n",
    "                 \"age\", \"gender\"]]\n",
    "# Print out the first rows of papers\n",
    "str_data.columns = [\"Survey_ID\", \"p_change\", \"r_effect\", \"black\", \"white\", \"native\", \"asian\",\n",
    "                   \"hawaiian\", \"other_race\", \"unsure_race\", \"latinx\", \"age\", \"gender\"]\n",
    "str_data = str_data.dropna()"
   ]
  },
  {
   "cell_type": "markdown",
   "metadata": {},
   "source": [
    "# Make Remove Stopword Functions"
   ]
  },
  {
   "cell_type": "code",
   "execution_count": 3,
   "metadata": {},
   "outputs": [],
   "source": [
    "# Load the regular expression library and the nltk word library\n",
    "import re\n",
    "import nltk\n",
    "\n",
    "# Create a function to remove nonsense words\n",
    "words = set(nltk.corpus.words.words())\n",
    "def clean_sent(sent):\n",
    "    return \" \".join(w for w in nltk.wordpunct_tokenize(sent) \\\n",
    "     if w.lower() in words or not w.isalpha())\n",
    "\n",
    "strv_list = [\"p_change\", \"r_effect\"]\n",
    "for strv in strv_list:\n",
    "    # Remove punctuation & Convert the titles to lowercase\n",
    "    str_data[strv] = str_data[strv].map(lambda x: re.sub(r'[^\\w\\s]', \"\", x)).map(lambda x: x.lower())\n",
    "    # Remove nonsense words\n",
    "    str_data[strv] = str_data[strv].apply(clean_sent)\n",
    "    # Transform blank cells to NaN & Drop NaN\n",
    "    str_data = str_data.replace(r'^\\s*$', np.nan, regex=True).dropna()"
   ]
  },
  {
   "cell_type": "code",
   "execution_count": 4,
   "metadata": {},
   "outputs": [
    {
     "data": {
      "text/html": [
       "<div>\n",
       "<style scoped>\n",
       "    .dataframe tbody tr th:only-of-type {\n",
       "        vertical-align: middle;\n",
       "    }\n",
       "\n",
       "    .dataframe tbody tr th {\n",
       "        vertical-align: top;\n",
       "    }\n",
       "\n",
       "    .dataframe thead th {\n",
       "        text-align: right;\n",
       "    }\n",
       "</style>\n",
       "<table border=\"1\" class=\"dataframe\">\n",
       "  <thead>\n",
       "    <tr style=\"text-align: right;\">\n",
       "      <th></th>\n",
       "      <th>Survey_ID</th>\n",
       "      <th>p_change</th>\n",
       "      <th>r_effect</th>\n",
       "      <th>black</th>\n",
       "      <th>white</th>\n",
       "      <th>native</th>\n",
       "      <th>asian</th>\n",
       "      <th>hawaiian</th>\n",
       "      <th>other_race</th>\n",
       "      <th>unsure_race</th>\n",
       "      <th>latinx</th>\n",
       "      <th>age</th>\n",
       "      <th>gender</th>\n",
       "    </tr>\n",
       "  </thead>\n",
       "  <tbody>\n",
       "    <tr>\n",
       "      <th>0</th>\n",
       "      <td>1</td>\n",
       "      <td>no</td>\n",
       "      <td>not at all not racist all of the human race is...</td>\n",
       "      <td>False</td>\n",
       "      <td>True</td>\n",
       "      <td>False</td>\n",
       "      <td>False</td>\n",
       "      <td>False</td>\n",
       "      <td>False</td>\n",
       "      <td>False</td>\n",
       "      <td>False</td>\n",
       "      <td>46-55</td>\n",
       "      <td>Man</td>\n",
       "    </tr>\n",
       "    <tr>\n",
       "      <th>2</th>\n",
       "      <td>3</td>\n",
       "      <td>i feel that the parole board the some of the p...</td>\n",
       "      <td>not sure about that</td>\n",
       "      <td>False</td>\n",
       "      <td>True</td>\n",
       "      <td>False</td>\n",
       "      <td>False</td>\n",
       "      <td>False</td>\n",
       "      <td>False</td>\n",
       "      <td>False</td>\n",
       "      <td>False</td>\n",
       "      <td>46-55</td>\n",
       "      <td>Woman</td>\n",
       "    </tr>\n",
       "    <tr>\n",
       "      <th>3</th>\n",
       "      <td>4</td>\n",
       "      <td>yes bit</td>\n",
       "      <td>i am not really sure about that one</td>\n",
       "      <td>False</td>\n",
       "      <td>True</td>\n",
       "      <td>False</td>\n",
       "      <td>False</td>\n",
       "      <td>False</td>\n",
       "      <td>False</td>\n",
       "      <td>False</td>\n",
       "      <td>False</td>\n",
       "      <td>36-45</td>\n",
       "      <td>Woman</td>\n",
       "    </tr>\n",
       "    <tr>\n",
       "      <th>5</th>\n",
       "      <td>6</td>\n",
       "      <td>most are full of</td>\n",
       "      <td>i do not understand this question maybe theres...</td>\n",
       "      <td>True</td>\n",
       "      <td>False</td>\n",
       "      <td>False</td>\n",
       "      <td>False</td>\n",
       "      <td>False</td>\n",
       "      <td>False</td>\n",
       "      <td>False</td>\n",
       "      <td>False</td>\n",
       "      <td>26-35</td>\n",
       "      <td>Woman</td>\n",
       "    </tr>\n",
       "    <tr>\n",
       "      <th>6</th>\n",
       "      <td>7</td>\n",
       "      <td>i never considered the prison population or pr...</td>\n",
       "      <td>i try to vote based on the but i am and many i...</td>\n",
       "      <td>False</td>\n",
       "      <td>True</td>\n",
       "      <td>False</td>\n",
       "      <td>False</td>\n",
       "      <td>False</td>\n",
       "      <td>False</td>\n",
       "      <td>False</td>\n",
       "      <td>False</td>\n",
       "      <td>46-55</td>\n",
       "      <td>Woman</td>\n",
       "    </tr>\n",
       "  </tbody>\n",
       "</table>\n",
       "</div>"
      ],
      "text/plain": [
       "   Survey_ID                                           p_change  \\\n",
       "0          1                                                 no   \n",
       "2          3  i feel that the parole board the some of the p...   \n",
       "3          4                                            yes bit   \n",
       "5          6                                   most are full of   \n",
       "6          7  i never considered the prison population or pr...   \n",
       "\n",
       "                                            r_effect  black  white  native  \\\n",
       "0  not at all not racist all of the human race is...  False   True   False   \n",
       "2                                not sure about that  False   True   False   \n",
       "3                i am not really sure about that one  False   True   False   \n",
       "5  i do not understand this question maybe theres...   True  False   False   \n",
       "6  i try to vote based on the but i am and many i...  False   True   False   \n",
       "\n",
       "   asian  hawaiian  other_race  unsure_race  latinx    age gender  \n",
       "0  False     False       False        False   False  46-55    Man  \n",
       "2  False     False       False        False   False  46-55  Woman  \n",
       "3  False     False       False        False   False  36-45  Woman  \n",
       "5  False     False       False        False   False  26-35  Woman  \n",
       "6  False     False       False        False   False  46-55  Woman  "
      ]
     },
     "execution_count": 4,
     "metadata": {},
     "output_type": "execute_result"
    }
   ],
   "source": [
    "str_data.head()"
   ]
  },
  {
   "cell_type": "code",
   "execution_count": 5,
   "metadata": {},
   "outputs": [],
   "source": [
    "# remove stop words\n",
    "# nltk.download('stopwords')\n",
    "from nltk.corpus import stopwords\n",
    "from gensim.utils import simple_preprocess\n",
    "\n",
    "def remove_stopwords(texts):\n",
    "    return [[word for word in simple_preprocess(str(doc)) if word not in stop_words] for doc in texts]"
   ]
  },
  {
   "cell_type": "markdown",
   "metadata": {},
   "source": [
    "# Include the Topic info"
   ]
  },
  {
   "cell_type": "code",
   "execution_count": 6,
   "metadata": {},
   "outputs": [],
   "source": [
    "def add_the_matrix(extrastopword, csvfile, tlist=[\"topic 4\", \"topic 5\"]):\n",
    "    \n",
    "    assert isinstance(extrastopword, list), \"Should be a list of the extra stop words.\"\n",
    "    assert isinstance(csvfile, str), \"Should be the path of the matrix file.\"\n",
    "    \n",
    "    # change the stop words\n",
    "    stop_words = stopwords.words(\"english\")\n",
    "    stop_words.extend([\"don\", \"people\", \"bill\", \"step\", \"act\", \"first\", \"u\", \"n\", \n",
    "                       \"na\", \"non\"]+extrastopword)\n",
    "    yesnno = [\"yes\", \"no\"]\n",
    "    stop_words =  [word for word in stop_words if word not in yesnno]\n",
    "    # remove stop words\n",
    "    r_effect = [[word for word in simple_preprocess(str(doc)) if word not in stop_words] for doc in str_data[\"r_effect\"]]\n",
    "    r_effect = pd.DataFrame([x for x in r_effect if x])\n",
    "    \n",
    "    # create index variable for whether a row is left\n",
    "    r_effect2 = []\n",
    "    for doc in str_data[\"r_effect\"]:\n",
    "        if all(word in stop_words for word in simple_preprocess(doc)):\n",
    "               i_str = False\n",
    "        else: \n",
    "               i_str = True\n",
    "        r_effect2.append(i_str)\n",
    "    inBTM = pd.DataFrame(r_effect2, columns=[\"inBTM\"])\n",
    "    # filter str_data based on inBTM result into str_datar\n",
    "    str_datar = pd.concat([str_data.reset_index(drop=True), inBTM], axis=1)\n",
    "    str_datar = str_datar[str_datar[\"inBTM\"]==True]\n",
    "    \n",
    "    # read in the topicmatrix file\n",
    "    matrix = pd.read_csv(csvfile, \n",
    "                         names=[\"topic 1\", \"topic 2\", \"topic 3\", \"topic 4\", \"topic 5\", \"topic 6\"])\n",
    "    a = matrix.idxmax(axis=1)\n",
    "    b = matrix.T.apply(lambda x: x.nlargest(2).idxmin())\n",
    "    c = matrix.T.apply(lambda x: x.nlargest(3).idxmin())\n",
    "    topic = pd.concat([a, b, c], axis=1, ignore_index=False)\n",
    "\n",
    "    # concatenate topic matrix and str_datar as str_datar\n",
    "    str_datar2 = pd.concat([str_datar.reset_index(drop=True), topic], axis=1)\n",
    "    str_datar2 = str_datar2.rename(columns={0:\"fsttopic\", 1:\"sndtopic\", 2:\"trdtopic\"})\n",
    "\n",
    "    # CREATE THE CHISQUARE DATAFRAME\n",
    "    race = [\"black\", \"white\", \"native\", \"asian\", \"hawaiian\", \"other_race\", \"unsure_race\", \"latinx\"]\n",
    "    topic = [\"fsttopic\", \"sndtopic\", \"trdtopic\"]\n",
    "    chisq = str_datar2.loc[:, [\"Survey_ID\"]+race+topic].dropna()\n",
    "        ## clean the race variable a little bit\n",
    "    chisq.loc[:, race] = chisq.loc[:, race].astype(int)\n",
    "    chisq[\"Race\"] = chisq.loc[:, race].idxmax(axis=1)\n",
    "    \n",
    "    # CREATE THE REGRESSION DATAFRAME\n",
    "    chisq[\"fst4o5\"] = chisq[\"fsttopic\"].isin(tlist)\n",
    "    chisq[\"snd4o5\"] = chisq[\"sndtopic\"].isin(tlist)\n",
    "    chisq[\"trd4o5\"] = chisq[\"trdtopic\"].isin(tlist)\n",
    "    cor = chisq.drop([\"fsttopic\", \"sndtopic\", \"trdtopic\", \"Race\"], axis=1)\n",
    "    cov = str_data[[\"Survey_ID\", \"age\", \"gender\"]]\n",
    "    cov = pd.get_dummies(cov, columns=[\"age\", \"gender\"])\n",
    "    lrdata = cor.merge(cov, on=\"Survey_ID\")\n",
    "    \n",
    "    return chisq, lrdata"
   ]
  },
  {
   "cell_type": "code",
   "execution_count": 7,
   "metadata": {},
   "outputs": [],
   "source": [
    "common_csv = \"~/Google Drive/Research Assistant/Work With David Knight/Survey of the Incarcerated/BTM/BTM_Regression_Exploration/\"\n",
    "extra1 = []\n",
    "csv1 = \"All_3095/topicmatrix.csv\"\n",
    "\n",
    "extra2 = [\"violent\", \"race\"]\n",
    "csv2 = \"NoViloentRace_3082/topicmatrix_3082.csv\"\n",
    "\n",
    "extra3 = [\"violent\", \"race\", \"white\", \"black\"]\n",
    "csv3 = \"NoViloentRaceWhiteBlack_3053/topicmatrix_3053.csv\""
   ]
  },
  {
   "cell_type": "code",
   "execution_count": 8,
   "metadata": {},
   "outputs": [],
   "source": [
    "# All_3095\n",
    "chisq4, lrdata4 = add_the_matrix(extra1, common_csv+csv1)\n",
    "# NoViloentRace_3082\n",
    "chisq5, lrdata5 = add_the_matrix(extra2, common_csv+csv2)\n",
    "# NoViloentRaceWhiteBlack_3053\n",
    "# Most Important One\n",
    "chisq6, lrdata6 = add_the_matrix(extra3, common_csv+csv3)"
   ]
  },
  {
   "cell_type": "code",
   "execution_count": 9,
   "metadata": {},
   "outputs": [
    {
     "data": {
      "text/plain": [
       "(3082, 23)"
      ]
     },
     "execution_count": 9,
     "metadata": {},
     "output_type": "execute_result"
    }
   ],
   "source": [
    "lrdata5.shape"
   ]
  },
  {
   "cell_type": "code",
   "execution_count": 10,
   "metadata": {},
   "outputs": [
    {
     "data": {
      "text/html": [
       "<div>\n",
       "<style scoped>\n",
       "    .dataframe tbody tr th:only-of-type {\n",
       "        vertical-align: middle;\n",
       "    }\n",
       "\n",
       "    .dataframe tbody tr th {\n",
       "        vertical-align: top;\n",
       "    }\n",
       "\n",
       "    .dataframe thead th {\n",
       "        text-align: right;\n",
       "    }\n",
       "</style>\n",
       "<table border=\"1\" class=\"dataframe\">\n",
       "  <thead>\n",
       "    <tr style=\"text-align: right;\">\n",
       "      <th></th>\n",
       "      <th>Survey_ID</th>\n",
       "      <th>black</th>\n",
       "      <th>white</th>\n",
       "      <th>native</th>\n",
       "      <th>asian</th>\n",
       "      <th>hawaiian</th>\n",
       "      <th>other_race</th>\n",
       "      <th>unsure_race</th>\n",
       "      <th>latinx</th>\n",
       "      <th>fst4o5</th>\n",
       "      <th>...</th>\n",
       "      <th>age_26-35</th>\n",
       "      <th>age_36-45</th>\n",
       "      <th>age_46-55</th>\n",
       "      <th>age_56-65</th>\n",
       "      <th>age_66+</th>\n",
       "      <th>age_Under 18</th>\n",
       "      <th>gender_Gender non-conforming or non-binary or other</th>\n",
       "      <th>gender_Man</th>\n",
       "      <th>gender_Prefer not to say</th>\n",
       "      <th>gender_Woman</th>\n",
       "    </tr>\n",
       "  </thead>\n",
       "  <tbody>\n",
       "    <tr>\n",
       "      <th>0</th>\n",
       "      <td>1</td>\n",
       "      <td>0</td>\n",
       "      <td>1</td>\n",
       "      <td>0</td>\n",
       "      <td>0</td>\n",
       "      <td>0</td>\n",
       "      <td>0</td>\n",
       "      <td>0</td>\n",
       "      <td>0</td>\n",
       "      <td>True</td>\n",
       "      <td>...</td>\n",
       "      <td>0</td>\n",
       "      <td>0</td>\n",
       "      <td>1</td>\n",
       "      <td>0</td>\n",
       "      <td>0</td>\n",
       "      <td>0</td>\n",
       "      <td>0</td>\n",
       "      <td>1</td>\n",
       "      <td>0</td>\n",
       "      <td>0</td>\n",
       "    </tr>\n",
       "    <tr>\n",
       "      <th>1</th>\n",
       "      <td>3</td>\n",
       "      <td>0</td>\n",
       "      <td>1</td>\n",
       "      <td>0</td>\n",
       "      <td>0</td>\n",
       "      <td>0</td>\n",
       "      <td>0</td>\n",
       "      <td>0</td>\n",
       "      <td>0</td>\n",
       "      <td>True</td>\n",
       "      <td>...</td>\n",
       "      <td>0</td>\n",
       "      <td>0</td>\n",
       "      <td>1</td>\n",
       "      <td>0</td>\n",
       "      <td>0</td>\n",
       "      <td>0</td>\n",
       "      <td>0</td>\n",
       "      <td>0</td>\n",
       "      <td>0</td>\n",
       "      <td>1</td>\n",
       "    </tr>\n",
       "    <tr>\n",
       "      <th>2</th>\n",
       "      <td>4</td>\n",
       "      <td>0</td>\n",
       "      <td>1</td>\n",
       "      <td>0</td>\n",
       "      <td>0</td>\n",
       "      <td>0</td>\n",
       "      <td>0</td>\n",
       "      <td>0</td>\n",
       "      <td>0</td>\n",
       "      <td>True</td>\n",
       "      <td>...</td>\n",
       "      <td>0</td>\n",
       "      <td>1</td>\n",
       "      <td>0</td>\n",
       "      <td>0</td>\n",
       "      <td>0</td>\n",
       "      <td>0</td>\n",
       "      <td>0</td>\n",
       "      <td>0</td>\n",
       "      <td>0</td>\n",
       "      <td>1</td>\n",
       "    </tr>\n",
       "    <tr>\n",
       "      <th>3</th>\n",
       "      <td>6</td>\n",
       "      <td>1</td>\n",
       "      <td>0</td>\n",
       "      <td>0</td>\n",
       "      <td>0</td>\n",
       "      <td>0</td>\n",
       "      <td>0</td>\n",
       "      <td>0</td>\n",
       "      <td>0</td>\n",
       "      <td>False</td>\n",
       "      <td>...</td>\n",
       "      <td>1</td>\n",
       "      <td>0</td>\n",
       "      <td>0</td>\n",
       "      <td>0</td>\n",
       "      <td>0</td>\n",
       "      <td>0</td>\n",
       "      <td>0</td>\n",
       "      <td>0</td>\n",
       "      <td>0</td>\n",
       "      <td>1</td>\n",
       "    </tr>\n",
       "    <tr>\n",
       "      <th>4</th>\n",
       "      <td>7</td>\n",
       "      <td>0</td>\n",
       "      <td>1</td>\n",
       "      <td>0</td>\n",
       "      <td>0</td>\n",
       "      <td>0</td>\n",
       "      <td>0</td>\n",
       "      <td>0</td>\n",
       "      <td>0</td>\n",
       "      <td>True</td>\n",
       "      <td>...</td>\n",
       "      <td>0</td>\n",
       "      <td>0</td>\n",
       "      <td>1</td>\n",
       "      <td>0</td>\n",
       "      <td>0</td>\n",
       "      <td>0</td>\n",
       "      <td>0</td>\n",
       "      <td>0</td>\n",
       "      <td>0</td>\n",
       "      <td>1</td>\n",
       "    </tr>\n",
       "  </tbody>\n",
       "</table>\n",
       "<p>5 rows × 23 columns</p>\n",
       "</div>"
      ],
      "text/plain": [
       "   Survey_ID  black  white  native  asian  hawaiian  other_race  unsure_race  \\\n",
       "0          1      0      1       0      0         0           0            0   \n",
       "1          3      0      1       0      0         0           0            0   \n",
       "2          4      0      1       0      0         0           0            0   \n",
       "3          6      1      0       0      0         0           0            0   \n",
       "4          7      0      1       0      0         0           0            0   \n",
       "\n",
       "   latinx  fst4o5  ...  age_26-35  age_36-45  age_46-55  age_56-65  age_66+  \\\n",
       "0       0    True  ...          0          0          1          0        0   \n",
       "1       0    True  ...          0          0          1          0        0   \n",
       "2       0    True  ...          0          1          0          0        0   \n",
       "3       0   False  ...          1          0          0          0        0   \n",
       "4       0    True  ...          0          0          1          0        0   \n",
       "\n",
       "   age_Under 18  gender_Gender non-conforming or non-binary or other  \\\n",
       "0             0                                                  0     \n",
       "1             0                                                  0     \n",
       "2             0                                                  0     \n",
       "3             0                                                  0     \n",
       "4             0                                                  0     \n",
       "\n",
       "   gender_Man  gender_Prefer not to say  gender_Woman  \n",
       "0           1                         0             0  \n",
       "1           0                         0             1  \n",
       "2           0                         0             1  \n",
       "3           0                         0             1  \n",
       "4           0                         0             1  \n",
       "\n",
       "[5 rows x 23 columns]"
      ]
     },
     "execution_count": 10,
     "metadata": {},
     "output_type": "execute_result"
    }
   ],
   "source": [
    "lrdata6.head()"
   ]
  },
  {
   "cell_type": "code",
   "execution_count": 11,
   "metadata": {},
   "outputs": [],
   "source": [
    "lrdata6.to_csv(\"~/Desktop/lrdata6.csv\")"
   ]
  },
  {
   "cell_type": "markdown",
   "metadata": {},
   "source": [
    "### Clear out all the white samples"
   ]
  },
  {
   "cell_type": "code",
   "execution_count": 10,
   "metadata": {},
   "outputs": [],
   "source": [
    "def clear_some(dataset):\n",
    "    dataset_post = dataset[dataset[\"white\"]!=1].drop([\"white\"], axis=1)\n",
    "    \n",
    "    return dataset_post"
   ]
  },
  {
   "cell_type": "code",
   "execution_count": 11,
   "metadata": {},
   "outputs": [],
   "source": [
    "# All_3095\n",
    "chisq4, lrdata4 = (df.pipe(clear_some) for df in [chisq4, lrdata4])\n",
    "# NoViloentRace_3082\n",
    "chisq5, lrdata5 = (df.pipe(clear_some) for df in [chisq5, lrdata5])\n",
    "# NoViloentRaceWhiteBlack_3053\n",
    "# Most Important One\n",
    "chisq6, lrdata6 = (df.pipe(clear_some) for df in [chisq6, lrdata6])"
   ]
  },
  {
   "cell_type": "markdown",
   "metadata": {},
   "source": [
    "# Chisq Test"
   ]
  },
  {
   "cell_type": "code",
   "execution_count": 12,
   "metadata": {},
   "outputs": [],
   "source": [
    "def to_obs(ct):\n",
    "    obs = np.array([ct.iloc[0][0:7].values,\n",
    "                    ct.iloc[1][0:7].values,\n",
    "                    ct.iloc[2][0:7].values,\n",
    "                    ct.iloc[3][0:7].values,\n",
    "                    ct.iloc[4][0:7].values,\n",
    "                    ct.iloc[5][0:7].values,\n",
    "                    ct.iloc[6][0:7].values,\n",
    "                    ct.iloc[7][0:7].values])\n",
    "    return obs\n",
    "\n",
    "def ctest_race_topic(dataset4chisq):\n",
    "    ct = pd.crosstab(dataset4chisq.Race, dataset4chisq.fsttopic, margins=True)\n",
    "    obs = to_obs(ct)\n",
    "    fst_p = stats.chi2_contingency(obs)[1]\n",
    "    \n",
    "    ct = pd.crosstab(dataset4chisq.Race, dataset4chisq.sndtopic, margins=True)\n",
    "    obs = to_obs(ct)\n",
    "    snd_p = stats.chi2_contingency(obs)[1]\n",
    "    \n",
    "    ct = pd.crosstab(dataset4chisq.Race, dataset4chisq.trdtopic, margins=True)\n",
    "    obs = to_obs(ct)\n",
    "    trd_p = stats.chi2_contingency(obs)[1]\n",
    "    \n",
    "    result_dic = {\"fst_p\":fst_p, \"snd_p\":snd_p, \"trd_p\":trd_p}\n",
    "    print(result_dic)\n",
    "    \n",
    "    pass"
   ]
  },
  {
   "cell_type": "code",
   "execution_count": 13,
   "metadata": {},
   "outputs": [
    {
     "name": "stdout",
     "output_type": "stream",
     "text": [
      "{'fst_p': 0.470032583527888, 'snd_p': 0.9104208428669956, 'trd_p': 0.9073542450770896}\n",
      "{'fst_p': 0.746707133848953, 'snd_p': 0.11252130667121901, 'trd_p': 0.8289105185202188}\n",
      "{'fst_p': 0.6992108535700728, 'snd_p': 0.2455552954685574, 'trd_p': 0.8313992598916121}\n"
     ]
    }
   ],
   "source": [
    "# All_3095\n",
    "ctest_race_topic(chisq4)\n",
    "# NoViloentRace_3082\n",
    "ctest_race_topic(chisq5)\n",
    "# NoViloentRaceWhiteBlack_3053\n",
    "ctest_race_topic(chisq6)"
   ]
  },
  {
   "cell_type": "markdown",
   "metadata": {},
   "source": [
    "# Linear Regression"
   ]
  },
  {
   "cell_type": "code",
   "execution_count": 27,
   "metadata": {},
   "outputs": [
    {
     "data": {
      "text/plain": [
       "Index(['Survey_ID', 'black', 'native', 'asian', 'hawaiian', 'other_race',\n",
       "       'unsure_race', 'latinx', 'fst4o5', 'snd4o5', 'trd4o5', 'age_18-25',\n",
       "       'age_26-35', 'age_36-45', 'age_46-55', 'age_56-65', 'age_66+',\n",
       "       'age_Under 18', 'gender_Gender non-conforming or non-binary or other',\n",
       "       'gender_Man', 'gender_Prefer not to say', 'gender_Woman'],\n",
       "      dtype='object')"
      ]
     },
     "execution_count": 27,
     "metadata": {},
     "output_type": "execute_result"
    }
   ],
   "source": [
    "lrdata6.columns"
   ]
  },
  {
   "cell_type": "code",
   "execution_count": 15,
   "metadata": {},
   "outputs": [],
   "source": [
    "def reg_on_123(dataset4lr, dropX=[]):\n",
    "    y1 = dataset4lr[\"fst4o5\"]\n",
    "    y2 = dataset4lr[\"snd4o5\"]\n",
    "    y3 = dataset4lr[\"trd4o5\"]\n",
    "\n",
    "    X = dataset4lr.drop([\"Survey_ID\", \"fst4o5\", \"snd4o5\", \"trd4o5\", \"unsure_race\", \"age_Under 18\",\n",
    "                         \"gender_Gender non-conforming or non-binary or other\"]+dropX, axis=1)\n",
    "    X = sm.add_constant(X)\n",
    "    \n",
    "    model1 = sm.OLS(y1, X).fit()\n",
    "    model2 = sm.OLS(y2, X).fit()\n",
    "    model3 = sm.OLS(y3, X).fit()\n",
    "    \n",
    "    return model1, model2, model3\n",
    "\n",
    "def return_plist(dataset4lr, dropX=[]):\n",
    "    model1, model2, model3 = reg_on_123(dataset4lr, dropX)\n",
    "    \n",
    "    a = (model1.summary2().tables[1]['P>|t|'] <= 0.05) | (model1.summary2().tables[1]['P>|t|'] >= 0.95)\n",
    "    a1 = model1.summary2().tables[1][\"Coef.\"]\n",
    "    b = (model2.summary2().tables[1]['P>|t|'] <= 0.05) | (model2.summary2().tables[1]['P>|t|'] >= 0.95)\n",
    "    b1 = model2.summary2().tables[1][\"Coef.\"]\n",
    "    c = (model3.summary2().tables[1]['P>|t|'] <= 0.05) | (model3.summary2().tables[1]['P>|t|'] >= 0.95)\n",
    "    c1 = model3.summary2().tables[1][\"Coef.\"]\n",
    "    \n",
    "    p_df = pd.concat([a1, a, b1, b, c1, c], axis=1)\n",
    "    p_df.columns = [\"fst_inlist_coef\", \"p<=0.05\", \"snd_inlist_coef\", \"p<=0.05\", \"trd_inlist_coef\", \"p<=0.05\"]\n",
    "    \n",
    "    return p_df"
   ]
  },
  {
   "cell_type": "markdown",
   "metadata": {},
   "source": [
    "### Keep All\n",
    "These groups of models only excluded some variables to clear perfect multicollinearity.\n",
    "The variables excluded for perfect multicollinearity include \"Survey_ID\", \"fst1n2\", \"snd1n2\", \"trd1n2\", \"unsure_race\",\"age_Under 18\", \"gender_Gender non-conforming or non-binary or other\"."
   ]
  },
  {
   "cell_type": "code",
   "execution_count": 16,
   "metadata": {},
   "outputs": [
    {
     "name": "stderr",
     "output_type": "stream",
     "text": [
      "/opt/anaconda3/lib/python3.7/site-packages/numpy/core/fromnumeric.py:2542: FutureWarning: Method .ptp is deprecated and will be removed in a future version. Use numpy.ptp instead.\n",
      "  return ptp(axis=axis, out=out, **kwargs)\n"
     ]
    }
   ],
   "source": [
    "# All_3095\n",
    "S3095_all = return_plist(lrdata4)\n",
    "# NoViloentRace_3082\n",
    "S3082_all = return_plist(lrdata4)\n",
    "# NoViloentRaceWhiteBlack_3053\n",
    "S3053_all = return_plist(lrdata4)"
   ]
  },
  {
   "cell_type": "markdown",
   "metadata": {},
   "source": [
    "### No Black\n",
    "Other than same variables above to clear perfect multicollinearity, these groups of models also excluded \"black\"."
   ]
  },
  {
   "cell_type": "code",
   "execution_count": 17,
   "metadata": {},
   "outputs": [],
   "source": [
    "nb = [\"black\"]"
   ]
  },
  {
   "cell_type": "code",
   "execution_count": 18,
   "metadata": {},
   "outputs": [],
   "source": [
    "# All_3095\n",
    "S3095_nb = return_plist(lrdata4, nb)\n",
    "# NoRace_3082\n",
    "S3082_nb = return_plist(lrdata5, nb)\n",
    "# NoRaceWhiteBlack_3053\n",
    "S3053_nb = return_plist(lrdata6, nb)"
   ]
  },
  {
   "cell_type": "code",
   "execution_count": 30,
   "metadata": {},
   "outputs": [
    {
     "name": "stdout",
     "output_type": "stream",
     "text": [
      "                          fst_inlist_coef  p<=0.05  snd_inlist_coef  p<=0.05  \\\n",
      "const                            0.315607    False         0.440943    False   \n",
      "native                          -0.033740    False         0.013409    False   \n",
      "asian                            0.031956    False        -0.013342    False   \n",
      "hawaiian                        -0.115878    False        -0.183588    False   \n",
      "other_race                      -0.005656    False        -0.026332    False   \n",
      "latinx                          -0.038833    False        -0.025335    False   \n",
      "age_18-25                        0.038797    False         0.050544    False   \n",
      "age_26-35                        0.030327    False         0.103773    False   \n",
      "age_36-45                        0.055029    False         0.070134    False   \n",
      "age_46-55                        0.117291    False         0.059014    False   \n",
      "age_56-65                        0.057886    False         0.105152    False   \n",
      "age_66+                         -0.072418    False        -0.011396     True   \n",
      "gender_Man                      -0.048887    False        -0.197070    False   \n",
      "gender_Prefer not to say        -0.201422    False        -0.385817     True   \n",
      "gender_Woman                    -0.079329    False        -0.187351    False   \n",
      "\n",
      "                          trd_inlist_coef  p<=0.05  \n",
      "const                            0.494623    False  \n",
      "native                           0.075322     True  \n",
      "asian                           -0.170217    False  \n",
      "hawaiian                        -0.239467     True  \n",
      "other_race                       0.042591    False  \n",
      "latinx                          -0.001604     True  \n",
      "age_18-25                        0.012736     True  \n",
      "age_26-35                       -0.086299    False  \n",
      "age_36-45                       -0.035125    False  \n",
      "age_46-55                       -0.107476    False  \n",
      "age_56-65                       -0.134699    False  \n",
      "age_66+                          0.086829    False  \n",
      "gender_Man                      -0.090961    False  \n",
      "gender_Prefer not to say        -0.042318    False  \n",
      "gender_Woman                    -0.092440    False  \n"
     ]
    }
   ],
   "source": [
    "print(S3095_nb)"
   ]
  },
  {
   "cell_type": "code",
   "execution_count": 29,
   "metadata": {},
   "outputs": [],
   "source": [
    "S3095_nb.to_csv(\"~/Desktop/a.csv\")"
   ]
  },
  {
   "cell_type": "code",
   "execution_count": 20,
   "metadata": {},
   "outputs": [
    {
     "name": "stdout",
     "output_type": "stream",
     "text": [
      "                          fst_inlist_coef  p<=0.05  snd_inlist_coef  p<=0.05  \\\n",
      "const                            0.698016     True         0.174647    False   \n",
      "native                           0.100792     True        -0.074849     True   \n",
      "asian                           -0.138261    False        -0.002726     True   \n",
      "hawaiian                        -0.102507    False        -0.118629    False   \n",
      "other_race                       0.006899    False        -0.052864    False   \n",
      "latinx                          -0.003950    False         0.067500    False   \n",
      "age_18-25                       -0.258862    False         0.216146    False   \n",
      "age_26-35                       -0.216043    False         0.182460    False   \n",
      "age_36-45                       -0.237426    False         0.183463    False   \n",
      "age_46-55                       -0.269146    False         0.209129    False   \n",
      "age_56-65                       -0.247457    False         0.167197    False   \n",
      "age_66+                         -0.194363    False         0.196344    False   \n",
      "gender_Man                      -0.135620    False         0.053489    False   \n",
      "gender_Prefer not to say        -0.152996    False        -0.010327     True   \n",
      "gender_Woman                    -0.127359    False        -0.036421    False   \n",
      "\n",
      "                          trd_inlist_coef  p<=0.05  \n",
      "const                           -0.078181    False  \n",
      "native                          -0.006755    False  \n",
      "asian                            0.075777    False  \n",
      "hawaiian                         0.125213    False  \n",
      "other_race                       0.064282    False  \n",
      "latinx                          -0.037628    False  \n",
      "age_18-25                        0.314634    False  \n",
      "age_26-35                        0.327229    False  \n",
      "age_36-45                        0.303353    False  \n",
      "age_46-55                        0.347338    False  \n",
      "age_56-65                        0.318040    False  \n",
      "age_66+                          0.288295    False  \n",
      "gender_Man                       0.079769    False  \n",
      "gender_Prefer not to say         0.094162    False  \n",
      "gender_Woman                     0.057140    False  \n"
     ]
    }
   ],
   "source": [
    "print(S3082_nb)"
   ]
  },
  {
   "cell_type": "code",
   "execution_count": 21,
   "metadata": {},
   "outputs": [
    {
     "name": "stdout",
     "output_type": "stream",
     "text": [
      "                          fst_inlist_coef  p<=0.05  snd_inlist_coef  p<=0.05  \\\n",
      "const                            0.853299     True        -0.067230    False   \n",
      "native                           0.016983    False         0.105932     True   \n",
      "asian                           -0.035508    False         0.019854    False   \n",
      "hawaiian                        -0.050005    False         0.021050    False   \n",
      "other_race                       0.055838    False         0.051842    False   \n",
      "latinx                          -0.026643    False        -0.025640    False   \n",
      "age_18-25                       -0.227062    False         0.106393    False   \n",
      "age_26-35                       -0.323834    False         0.154139    False   \n",
      "age_36-45                       -0.368702    False         0.227718    False   \n",
      "age_46-55                       -0.262337    False         0.172522    False   \n",
      "age_56-65                       -0.288322    False         0.244652    False   \n",
      "age_66+                         -0.283708    False         0.160774    False   \n",
      "gender_Man                      -0.237502    False         0.214845    False   \n",
      "gender_Prefer not to say        -0.262477    False         0.302207    False   \n",
      "gender_Woman                    -0.273082    False         0.193260    False   \n",
      "\n",
      "                          trd_inlist_coef  p<=0.05  \n",
      "const                            0.131581    False  \n",
      "native                          -0.058340    False  \n",
      "asian                           -0.047683    False  \n",
      "hawaiian                        -0.011905    False  \n",
      "other_race                      -0.016146    False  \n",
      "latinx                           0.012771    False  \n",
      "age_18-25                        0.189277    False  \n",
      "age_26-35                        0.141462    False  \n",
      "age_36-45                        0.126575    False  \n",
      "age_46-55                        0.143031    False  \n",
      "age_56-65                        0.138525    False  \n",
      "age_66+                          0.000355     True  \n",
      "gender_Man                       0.098141    False  \n",
      "gender_Prefer not to say         0.146581    False  \n",
      "gender_Woman                     0.137102    False  \n"
     ]
    }
   ],
   "source": [
    "print(S3053_nb)"
   ]
  },
  {
   "cell_type": "markdown",
   "metadata": {},
   "source": [
    "### Only Black\n",
    "Other than same variables above to clear perfect multicollinearity, these groups of models also excluded all race binary variables excpet \"black\"."
   ]
  },
  {
   "cell_type": "code",
   "execution_count": 22,
   "metadata": {},
   "outputs": [],
   "source": [
    "ob = [\"native\", \"asian\", \"hawaiian\", \"other_race\", \"unsure_race\", \"latinx\"]"
   ]
  },
  {
   "cell_type": "code",
   "execution_count": 23,
   "metadata": {},
   "outputs": [],
   "source": [
    "# All_3095\n",
    "S3095_ob = return_plist(lrdata4, ob)\n",
    "# NoRace_3082\n",
    "S3082_ob = return_plist(lrdata5, ob)\n",
    "# NoRaceWhiteBlack_3053\n",
    "S3053_ob = return_plist(lrdata6, ob)"
   ]
  },
  {
   "cell_type": "code",
   "execution_count": 24,
   "metadata": {},
   "outputs": [
    {
     "name": "stdout",
     "output_type": "stream",
     "text": [
      "                          fst_inlist_coef  p<=0.05  snd_inlist_coef  p<=0.05  \\\n",
      "const                            0.236723    False         0.402009    False   \n",
      "black                            0.055592     True         0.020731    False   \n",
      "age_18-25                        0.066208    False         0.071407    False   \n",
      "age_26-35                        0.059067    False         0.124835    False   \n",
      "age_36-45                        0.084407    False         0.090989    False   \n",
      "age_46-55                        0.146614    False         0.085227    False   \n",
      "age_56-65                        0.087942    False         0.128073    False   \n",
      "age_66+                         -0.036405    False         0.018366    False   \n",
      "gender_Man                      -0.047842    False        -0.206155    False   \n",
      "gender_Prefer not to say        -0.189576    False        -0.394010     True   \n",
      "gender_Woman                    -0.080162    False        -0.194119    False   \n",
      "\n",
      "                          trd_inlist_coef  p<=0.05  \n",
      "const                            0.513535     True  \n",
      "black                           -0.015871    False  \n",
      "age_18-25                        0.041047    False  \n",
      "age_26-35                       -0.053611    False  \n",
      "age_36-45                       -0.004663     True  \n",
      "age_46-55                       -0.077131    False  \n",
      "age_56-65                       -0.105832    False  \n",
      "age_66+                          0.125092    False  \n",
      "gender_Man                      -0.110361    False  \n",
      "gender_Prefer not to say        -0.071764    False  \n",
      "gender_Woman                    -0.108629    False  \n"
     ]
    }
   ],
   "source": [
    "print(S3095_ob)"
   ]
  },
  {
   "cell_type": "code",
   "execution_count": 25,
   "metadata": {},
   "outputs": [
    {
     "name": "stdout",
     "output_type": "stream",
     "text": [
      "                          fst_inlist_coef  p<=0.05  snd_inlist_coef  p<=0.05  \\\n",
      "const                            0.768060     True         0.120787    False   \n",
      "black                           -0.037982    False        -0.004510    False   \n",
      "age_18-25                       -0.270322    False         0.239045    False   \n",
      "age_26-35                       -0.224036    False         0.196337    False   \n",
      "age_36-45                       -0.244780    False         0.191431    False   \n",
      "age_46-55                       -0.273849    False         0.223770    False   \n",
      "age_56-65                       -0.256920    False         0.182635    False   \n",
      "age_66+                         -0.195966    False         0.200394    False   \n",
      "gender_Man                      -0.160464    False         0.080115    False   \n",
      "gender_Prefer not to say        -0.187837    False        -0.001362     True   \n",
      "gender_Woman                    -0.144815    False        -0.014092    False   \n",
      "\n",
      "                          trd_inlist_coef  p<=0.05  \n",
      "const                           -0.080478    False  \n",
      "black                           -0.006752    False  \n",
      "age_18-25                        0.327810    False  \n",
      "age_26-35                        0.343658    False  \n",
      "age_36-45                        0.323211    False  \n",
      "age_46-55                        0.360661    False  \n",
      "age_56-65                        0.336080    False  \n",
      "age_66+                          0.306460    False  \n",
      "gender_Man                       0.081828    False  \n",
      "gender_Prefer not to say         0.109541    False  \n",
      "gender_Woman                     0.055493    False  \n"
     ]
    }
   ],
   "source": [
    "print(S3082_ob)"
   ]
  },
  {
   "cell_type": "code",
   "execution_count": 26,
   "metadata": {},
   "outputs": [
    {
     "name": "stdout",
     "output_type": "stream",
     "text": [
      "                          fst_inlist_coef  p<=0.05  snd_inlist_coef  p<=0.05  \\\n",
      "const                            0.841611     True         0.027370    False   \n",
      "black                           -0.023564    False        -0.066778     True   \n",
      "age_18-25                       -0.192775    False         0.102748    False   \n",
      "age_26-35                       -0.287422    False         0.153920    False   \n",
      "age_36-45                       -0.330507    False         0.232219    False   \n",
      "age_46-55                       -0.226177    False         0.175916    False   \n",
      "age_56-65                       -0.248657    False         0.244513    False   \n",
      "age_66+                         -0.241899    False         0.166192    False   \n",
      "gender_Man                      -0.236898    False         0.185985    False   \n",
      "gender_Prefer not to say        -0.261418    False         0.274823    False   \n",
      "gender_Woman                    -0.274334    False         0.168896    False   \n",
      "\n",
      "                          trd_inlist_coef  p<=0.05  \n",
      "const                            0.076439    False  \n",
      "black                            0.044186    False  \n",
      "age_18-25                        0.192023    False  \n",
      "age_26-35                        0.143657    False  \n",
      "age_36-45                        0.125936    False  \n",
      "age_46-55                        0.141047    False  \n",
      "age_56-65                        0.139700    False  \n",
      "age_66+                         -0.000478     True  \n",
      "gender_Man                       0.114724    False  \n",
      "gender_Prefer not to say         0.162538    False  \n",
      "gender_Woman                     0.150913    False  \n"
     ]
    }
   ],
   "source": [
    "print(S3053_ob)"
   ]
  },
  {
   "cell_type": "code",
   "execution_count": null,
   "metadata": {},
   "outputs": [],
   "source": []
  }
 ],
 "metadata": {
  "kernelspec": {
   "display_name": "geo_env",
   "language": "python",
   "name": "geo_env"
  },
  "language_info": {
   "codemirror_mode": {
    "name": "ipython",
    "version": 3
   },
   "file_extension": ".py",
   "mimetype": "text/x-python",
   "name": "python",
   "nbconvert_exporter": "python",
   "pygments_lexer": "ipython3",
   "version": "3.7.6"
  }
 },
 "nbformat": 4,
 "nbformat_minor": 4
}
