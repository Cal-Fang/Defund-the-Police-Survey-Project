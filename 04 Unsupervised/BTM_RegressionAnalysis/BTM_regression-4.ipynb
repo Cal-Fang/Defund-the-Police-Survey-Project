{
 "cells": [
  {
   "cell_type": "markdown",
   "metadata": {},
   "source": [
    "# Data Importing"
   ]
  },
  {
   "cell_type": "code",
   "execution_count": 1,
   "metadata": {},
   "outputs": [],
   "source": [
    "# Importing modules\n",
    "import pandas as pd\n",
    "import numpy as np\n",
    "import scipy.stats as stats\n",
    "import statsmodels.api as sm\n",
    "\n",
    "from sklearn.linear_model import LinearRegression\n",
    "\n",
    "# Read data into papers\n",
    "data = pd.read_csv(\"/Users/atchoo/Google Drive/Research Assistant/Work With David Knight/Survey of the Incarcerated/TMPPoliticalSurveyFULL_ForDavid.csv\", encoding = \"ISO-8859-1\")\n",
    "\n",
    "# Print head\n",
    "# print(data.columns)"
   ]
  },
  {
   "cell_type": "code",
   "execution_count": 2,
   "metadata": {},
   "outputs": [],
   "source": [
    "# Insert an id index for future work\n",
    "data[\"Survey_ID\"] = data.index + 1\n",
    "\n",
    "# Remove the columns\n",
    "str_data = data[[\"Survey_ID\", \"explain_politics_changed_since_incarcerated\",\\\n",
    "                 \"explain_race_affects_politics\", 'identifies_as_black', 'identifies_as_white',\n",
    "                 \"identifies_as_native\", 'identifies_as_asian', \n",
    "                 'identifies_as_hawaiian_or_pac_islander', 'identifies_as_other_race',\n",
    "                 'identifies_as_not_sure_of_race', 'identifies_as_hispanic_or_latinx',\n",
    "                 \"age\", \"gender\"]]\n",
    "# Print out the first rows of papers\n",
    "str_data.columns = [\"Survey_ID\", \"p_change\", \"r_effect\", \"black\", \"white\", \"native\", \"asian\",\n",
    "                   \"hawaiian\", \"other_race\", \"unsure_race\", \"latinx\", \"age\", \"gender\"]\n",
    "str_data = str_data.dropna()"
   ]
  },
  {
   "cell_type": "markdown",
   "metadata": {},
   "source": [
    "# Make Remove Stopword Functions"
   ]
  },
  {
   "cell_type": "code",
   "execution_count": 3,
   "metadata": {},
   "outputs": [],
   "source": [
    "# Load the regular expression library and the nltk word library\n",
    "import re\n",
    "import nltk\n",
    "\n",
    "# Create a function to remove nonsense words\n",
    "words = set(nltk.corpus.words.words())\n",
    "def clean_sent(sent):\n",
    "    return \" \".join(w for w in nltk.wordpunct_tokenize(sent) \\\n",
    "     if w.lower() in words or not w.isalpha())\n",
    "\n",
    "strv_list = [\"p_change\", \"r_effect\"]\n",
    "for strv in strv_list:\n",
    "    # Remove punctuation & Convert the titles to lowercase\n",
    "    str_data[strv] = str_data[strv].map(lambda x: re.sub(r'[^\\w\\s]', \"\", x)).map(lambda x: x.lower())\n",
    "    # Remove nonsense words\n",
    "    str_data[strv] = str_data[strv].apply(clean_sent)\n",
    "    # Transform blank cells to NaN & Drop NaN\n",
    "    str_data = str_data.replace(r'^\\s*$', np.nan, regex=True).dropna()"
   ]
  },
  {
   "cell_type": "code",
   "execution_count": 4,
   "metadata": {},
   "outputs": [
    {
     "data": {
      "text/html": [
       "<div>\n",
       "<style scoped>\n",
       "    .dataframe tbody tr th:only-of-type {\n",
       "        vertical-align: middle;\n",
       "    }\n",
       "\n",
       "    .dataframe tbody tr th {\n",
       "        vertical-align: top;\n",
       "    }\n",
       "\n",
       "    .dataframe thead th {\n",
       "        text-align: right;\n",
       "    }\n",
       "</style>\n",
       "<table border=\"1\" class=\"dataframe\">\n",
       "  <thead>\n",
       "    <tr style=\"text-align: right;\">\n",
       "      <th></th>\n",
       "      <th>Survey_ID</th>\n",
       "      <th>p_change</th>\n",
       "      <th>r_effect</th>\n",
       "      <th>black</th>\n",
       "      <th>white</th>\n",
       "      <th>native</th>\n",
       "      <th>asian</th>\n",
       "      <th>hawaiian</th>\n",
       "      <th>other_race</th>\n",
       "      <th>unsure_race</th>\n",
       "      <th>latinx</th>\n",
       "      <th>age</th>\n",
       "      <th>gender</th>\n",
       "    </tr>\n",
       "  </thead>\n",
       "  <tbody>\n",
       "    <tr>\n",
       "      <th>0</th>\n",
       "      <td>1</td>\n",
       "      <td>no</td>\n",
       "      <td>not at all not racist all of the human race is...</td>\n",
       "      <td>False</td>\n",
       "      <td>True</td>\n",
       "      <td>False</td>\n",
       "      <td>False</td>\n",
       "      <td>False</td>\n",
       "      <td>False</td>\n",
       "      <td>False</td>\n",
       "      <td>False</td>\n",
       "      <td>46-55</td>\n",
       "      <td>Man</td>\n",
       "    </tr>\n",
       "    <tr>\n",
       "      <th>2</th>\n",
       "      <td>3</td>\n",
       "      <td>i feel that the parole board the some of the p...</td>\n",
       "      <td>not sure about that</td>\n",
       "      <td>False</td>\n",
       "      <td>True</td>\n",
       "      <td>False</td>\n",
       "      <td>False</td>\n",
       "      <td>False</td>\n",
       "      <td>False</td>\n",
       "      <td>False</td>\n",
       "      <td>False</td>\n",
       "      <td>46-55</td>\n",
       "      <td>Woman</td>\n",
       "    </tr>\n",
       "    <tr>\n",
       "      <th>3</th>\n",
       "      <td>4</td>\n",
       "      <td>yes bit</td>\n",
       "      <td>i am not really sure about that one</td>\n",
       "      <td>False</td>\n",
       "      <td>True</td>\n",
       "      <td>False</td>\n",
       "      <td>False</td>\n",
       "      <td>False</td>\n",
       "      <td>False</td>\n",
       "      <td>False</td>\n",
       "      <td>False</td>\n",
       "      <td>36-45</td>\n",
       "      <td>Woman</td>\n",
       "    </tr>\n",
       "    <tr>\n",
       "      <th>5</th>\n",
       "      <td>6</td>\n",
       "      <td>most are full of</td>\n",
       "      <td>i do not understand this question maybe theres...</td>\n",
       "      <td>True</td>\n",
       "      <td>False</td>\n",
       "      <td>False</td>\n",
       "      <td>False</td>\n",
       "      <td>False</td>\n",
       "      <td>False</td>\n",
       "      <td>False</td>\n",
       "      <td>False</td>\n",
       "      <td>26-35</td>\n",
       "      <td>Woman</td>\n",
       "    </tr>\n",
       "    <tr>\n",
       "      <th>6</th>\n",
       "      <td>7</td>\n",
       "      <td>i never considered the prison population or pr...</td>\n",
       "      <td>i try to vote based on the but i am and many i...</td>\n",
       "      <td>False</td>\n",
       "      <td>True</td>\n",
       "      <td>False</td>\n",
       "      <td>False</td>\n",
       "      <td>False</td>\n",
       "      <td>False</td>\n",
       "      <td>False</td>\n",
       "      <td>False</td>\n",
       "      <td>46-55</td>\n",
       "      <td>Woman</td>\n",
       "    </tr>\n",
       "  </tbody>\n",
       "</table>\n",
       "</div>"
      ],
      "text/plain": [
       "   Survey_ID                                           p_change  \\\n",
       "0          1                                                 no   \n",
       "2          3  i feel that the parole board the some of the p...   \n",
       "3          4                                            yes bit   \n",
       "5          6                                   most are full of   \n",
       "6          7  i never considered the prison population or pr...   \n",
       "\n",
       "                                            r_effect  black  white  native  \\\n",
       "0  not at all not racist all of the human race is...  False   True   False   \n",
       "2                                not sure about that  False   True   False   \n",
       "3                i am not really sure about that one  False   True   False   \n",
       "5  i do not understand this question maybe theres...   True  False   False   \n",
       "6  i try to vote based on the but i am and many i...  False   True   False   \n",
       "\n",
       "   asian  hawaiian  other_race  unsure_race  latinx    age gender  \n",
       "0  False     False       False        False   False  46-55    Man  \n",
       "2  False     False       False        False   False  46-55  Woman  \n",
       "3  False     False       False        False   False  36-45  Woman  \n",
       "5  False     False       False        False   False  26-35  Woman  \n",
       "6  False     False       False        False   False  46-55  Woman  "
      ]
     },
     "execution_count": 4,
     "metadata": {},
     "output_type": "execute_result"
    }
   ],
   "source": [
    "str_data.head()"
   ]
  },
  {
   "cell_type": "code",
   "execution_count": 5,
   "metadata": {},
   "outputs": [],
   "source": [
    "# remove stop words\n",
    "# nltk.download('stopwords')\n",
    "from nltk.corpus import stopwords\n",
    "from gensim.utils import simple_preprocess\n",
    "\n",
    "def remove_stopwords(texts):\n",
    "    return [[word for word in simple_preprocess(str(doc)) if word not in stop_words] for doc in texts]"
   ]
  },
  {
   "cell_type": "markdown",
   "metadata": {},
   "source": [
    "# Data Exporting for C++"
   ]
  },
  {
   "cell_type": "code",
   "execution_count": 6,
   "metadata": {},
   "outputs": [],
   "source": [
    "extrastopword = []"
   ]
  },
  {
   "cell_type": "code",
   "execution_count": 7,
   "metadata": {},
   "outputs": [],
   "source": [
    "stop_words = stopwords.words(\"english\")\n",
    "stop_words.extend([\"don\", \"people\", \"bill\", \"step\", \"act\", \"first\", \"u\", \"n\", \n",
    "                   \"na\", \"non\"]+extrastopword)\n",
    "yesnno = [\"yes\", \"no\"]\n",
    "stop_words =  [word for word in stop_words if word not in yesnno]"
   ]
  },
  {
   "cell_type": "code",
   "execution_count": 8,
   "metadata": {},
   "outputs": [
    {
     "data": {
      "text/plain": [
       "3095"
      ]
     },
     "execution_count": 8,
     "metadata": {},
     "output_type": "execute_result"
    }
   ],
   "source": [
    "r_effect = remove_stopwords(str_data[\"r_effect\"])\n",
    "r_effect = pd.DataFrame([x for x in r_effect if x])\n",
    "len(r_effect)"
   ]
  },
  {
   "cell_type": "code",
   "execution_count": 9,
   "metadata": {},
   "outputs": [],
   "source": [
    "#r_effect.to_csv('/Users/atchoo/Desktop/r_effect_3082.txt', header=None, index=None, sep=' ', mode='a')"
   ]
  },
  {
   "cell_type": "markdown",
   "metadata": {},
   "source": [
    "# Include the Topic info"
   ]
  },
  {
   "cell_type": "code",
   "execution_count": 10,
   "metadata": {},
   "outputs": [],
   "source": [
    "def add_the_matrix(extrastopword, csvfile, tlist=[\"topic 4\"]):\n",
    "    \n",
    "    assert isinstance(extrastopword, list), \"Should be a list of the extra stop words.\"\n",
    "    assert isinstance(csvfile, str), \"Should be the path of the matrix file.\"\n",
    "    \n",
    "    # change the stop words\n",
    "    stop_words = stopwords.words(\"english\")\n",
    "    stop_words.extend([\"don\", \"people\", \"bill\", \"step\", \"act\", \"first\", \"u\", \"n\", \n",
    "                       \"na\", \"non\"]+extrastopword)\n",
    "    yesnno = [\"yes\", \"no\"]\n",
    "    stop_words =  [word for word in stop_words if word not in yesnno]\n",
    "    # remove stop words\n",
    "    r_effect = [[word for word in simple_preprocess(str(doc)) if word not in stop_words] for doc in str_data[\"r_effect\"]]\n",
    "    r_effect = pd.DataFrame([x for x in r_effect if x])\n",
    "    \n",
    "    # create index variable for whether a row is left\n",
    "    r_effect2 = []\n",
    "    for doc in str_data[\"r_effect\"]:\n",
    "        if all(word in stop_words for word in simple_preprocess(doc)):\n",
    "               i_str = False\n",
    "        else: \n",
    "               i_str = True\n",
    "        r_effect2.append(i_str)\n",
    "    inBTM = pd.DataFrame(r_effect2, columns=[\"inBTM\"])\n",
    "    # filter str_data based on inBTM result into str_datar\n",
    "    str_datar = pd.concat([str_data.reset_index(drop=True), inBTM], axis=1)\n",
    "    str_datar = str_datar[str_datar[\"inBTM\"]==True]\n",
    "    \n",
    "    # read in the topicmatrix file\n",
    "    matrix = pd.read_csv(csvfile, \n",
    "                         names=[\"topic 1\", \"topic 2\", \"topic 3\", \"topic 4\", \"topic 5\", \"topic 6\"])\n",
    "    a = matrix.idxmax(axis=1)\n",
    "    b = matrix.T.apply(lambda x: x.nlargest(2).idxmin())\n",
    "    c = matrix.T.apply(lambda x: x.nlargest(3).idxmin())\n",
    "    topic = pd.concat([a, b, c], axis=1, ignore_index=False)\n",
    "\n",
    "    # concatenate topic matrix and str_datar as str_datar\n",
    "    str_datar2 = pd.concat([str_datar.reset_index(drop=True), topic], axis=1)\n",
    "    str_datar2 = str_datar2.rename(columns={0:\"fsttopic\", 1:\"sndtopic\", 2:\"trdtopic\"})\n",
    "\n",
    "    # CREATE THE CHISQUARE DATAFRAME\n",
    "    race = [\"black\", \"white\", \"native\", \"asian\", \"hawaiian\", \"other_race\", \"unsure_race\", \"latinx\"]\n",
    "    topic = [\"fsttopic\", \"sndtopic\", \"trdtopic\"]\n",
    "    chisq = str_datar2.loc[:, [\"Survey_ID\"]+race+topic].dropna()\n",
    "        ## clean the race variable a little bit\n",
    "    chisq.loc[:, race] = chisq.loc[:, race].astype(int)\n",
    "    chisq[\"Race\"] = chisq.loc[:, race].idxmax(axis=1)\n",
    "    \n",
    "    # CREATE THE REGRESSION DATAFRAME\n",
    "    chisq[\"fst4\"] = chisq[\"fsttopic\"].isin(tlist)\n",
    "    chisq[\"snd4\"] = chisq[\"sndtopic\"].isin(tlist)\n",
    "    chisq[\"trd4\"] = chisq[\"trdtopic\"].isin(tlist)\n",
    "    cor = chisq.drop([\"fsttopic\", \"sndtopic\", \"trdtopic\", \"Race\"], axis=1)\n",
    "    cov = str_data[[\"Survey_ID\", \"age\", \"gender\"]]\n",
    "    cov = pd.get_dummies(cov, columns=[\"age\", \"gender\"])\n",
    "    lrdata = cor.merge(cov, on=\"Survey_ID\")\n",
    "    \n",
    "    return lrdata"
   ]
  },
  {
   "cell_type": "code",
   "execution_count": 11,
   "metadata": {},
   "outputs": [],
   "source": [
    "common_csv = \"~/Google Drive/Research Assistant/Work With David Knight/Survey of the Incarcerated/BTM/BTM_Regression_Exploration/\"\n",
    "extra1 = []\n",
    "csv1 = \"All_3095/topicmatrix.csv\"\n",
    "\n",
    "extra2 = [\"violent\", \"race\"]\n",
    "csv2 = \"NoViloentRace_3082/topicmatrix_3082.csv\"\n",
    "\n",
    "extra3 = [\"violent\", \"race\", \"white\", \"black\"]\n",
    "csv3 = \"NoViloentRaceWhiteBlack_3053/topicmatrix_3053.csv\""
   ]
  },
  {
   "cell_type": "code",
   "execution_count": 12,
   "metadata": {},
   "outputs": [],
   "source": [
    "lrdata4 = add_the_matrix(extra1, common_csv+csv1)\n",
    "lrdata5 = add_the_matrix(extra2, common_csv+csv2)\n",
    "lrdata6 = add_the_matrix(extra3, common_csv+csv3)"
   ]
  },
  {
   "cell_type": "code",
   "execution_count": 14,
   "metadata": {},
   "outputs": [
    {
     "data": {
      "text/html": [
       "<div>\n",
       "<style scoped>\n",
       "    .dataframe tbody tr th:only-of-type {\n",
       "        vertical-align: middle;\n",
       "    }\n",
       "\n",
       "    .dataframe tbody tr th {\n",
       "        vertical-align: top;\n",
       "    }\n",
       "\n",
       "    .dataframe thead th {\n",
       "        text-align: right;\n",
       "    }\n",
       "</style>\n",
       "<table border=\"1\" class=\"dataframe\">\n",
       "  <thead>\n",
       "    <tr style=\"text-align: right;\">\n",
       "      <th></th>\n",
       "      <th>Survey_ID</th>\n",
       "      <th>black</th>\n",
       "      <th>white</th>\n",
       "      <th>native</th>\n",
       "      <th>asian</th>\n",
       "      <th>hawaiian</th>\n",
       "      <th>other_race</th>\n",
       "      <th>unsure_race</th>\n",
       "      <th>latinx</th>\n",
       "      <th>fst4</th>\n",
       "      <th>...</th>\n",
       "      <th>age_26-35</th>\n",
       "      <th>age_36-45</th>\n",
       "      <th>age_46-55</th>\n",
       "      <th>age_56-65</th>\n",
       "      <th>age_66+</th>\n",
       "      <th>age_Under 18</th>\n",
       "      <th>gender_Gender non-conforming or non-binary or other</th>\n",
       "      <th>gender_Man</th>\n",
       "      <th>gender_Prefer not to say</th>\n",
       "      <th>gender_Woman</th>\n",
       "    </tr>\n",
       "  </thead>\n",
       "  <tbody>\n",
       "    <tr>\n",
       "      <th>0</th>\n",
       "      <td>1</td>\n",
       "      <td>0</td>\n",
       "      <td>1</td>\n",
       "      <td>0</td>\n",
       "      <td>0</td>\n",
       "      <td>0</td>\n",
       "      <td>0</td>\n",
       "      <td>0</td>\n",
       "      <td>0</td>\n",
       "      <td>True</td>\n",
       "      <td>...</td>\n",
       "      <td>0</td>\n",
       "      <td>0</td>\n",
       "      <td>1</td>\n",
       "      <td>0</td>\n",
       "      <td>0</td>\n",
       "      <td>0</td>\n",
       "      <td>0</td>\n",
       "      <td>1</td>\n",
       "      <td>0</td>\n",
       "      <td>0</td>\n",
       "    </tr>\n",
       "    <tr>\n",
       "      <th>1</th>\n",
       "      <td>3</td>\n",
       "      <td>0</td>\n",
       "      <td>1</td>\n",
       "      <td>0</td>\n",
       "      <td>0</td>\n",
       "      <td>0</td>\n",
       "      <td>0</td>\n",
       "      <td>0</td>\n",
       "      <td>0</td>\n",
       "      <td>False</td>\n",
       "      <td>...</td>\n",
       "      <td>0</td>\n",
       "      <td>0</td>\n",
       "      <td>1</td>\n",
       "      <td>0</td>\n",
       "      <td>0</td>\n",
       "      <td>0</td>\n",
       "      <td>0</td>\n",
       "      <td>0</td>\n",
       "      <td>0</td>\n",
       "      <td>1</td>\n",
       "    </tr>\n",
       "    <tr>\n",
       "      <th>2</th>\n",
       "      <td>4</td>\n",
       "      <td>0</td>\n",
       "      <td>1</td>\n",
       "      <td>0</td>\n",
       "      <td>0</td>\n",
       "      <td>0</td>\n",
       "      <td>0</td>\n",
       "      <td>0</td>\n",
       "      <td>0</td>\n",
       "      <td>False</td>\n",
       "      <td>...</td>\n",
       "      <td>0</td>\n",
       "      <td>1</td>\n",
       "      <td>0</td>\n",
       "      <td>0</td>\n",
       "      <td>0</td>\n",
       "      <td>0</td>\n",
       "      <td>0</td>\n",
       "      <td>0</td>\n",
       "      <td>0</td>\n",
       "      <td>1</td>\n",
       "    </tr>\n",
       "    <tr>\n",
       "      <th>3</th>\n",
       "      <td>6</td>\n",
       "      <td>1</td>\n",
       "      <td>0</td>\n",
       "      <td>0</td>\n",
       "      <td>0</td>\n",
       "      <td>0</td>\n",
       "      <td>0</td>\n",
       "      <td>0</td>\n",
       "      <td>0</td>\n",
       "      <td>False</td>\n",
       "      <td>...</td>\n",
       "      <td>1</td>\n",
       "      <td>0</td>\n",
       "      <td>0</td>\n",
       "      <td>0</td>\n",
       "      <td>0</td>\n",
       "      <td>0</td>\n",
       "      <td>0</td>\n",
       "      <td>0</td>\n",
       "      <td>0</td>\n",
       "      <td>1</td>\n",
       "    </tr>\n",
       "    <tr>\n",
       "      <th>4</th>\n",
       "      <td>7</td>\n",
       "      <td>0</td>\n",
       "      <td>1</td>\n",
       "      <td>0</td>\n",
       "      <td>0</td>\n",
       "      <td>0</td>\n",
       "      <td>0</td>\n",
       "      <td>0</td>\n",
       "      <td>0</td>\n",
       "      <td>False</td>\n",
       "      <td>...</td>\n",
       "      <td>0</td>\n",
       "      <td>0</td>\n",
       "      <td>1</td>\n",
       "      <td>0</td>\n",
       "      <td>0</td>\n",
       "      <td>0</td>\n",
       "      <td>0</td>\n",
       "      <td>0</td>\n",
       "      <td>0</td>\n",
       "      <td>1</td>\n",
       "    </tr>\n",
       "  </tbody>\n",
       "</table>\n",
       "<p>5 rows × 23 columns</p>\n",
       "</div>"
      ],
      "text/plain": [
       "   Survey_ID  black  white  native  asian  hawaiian  other_race  unsure_race  \\\n",
       "0          1      0      1       0      0         0           0            0   \n",
       "1          3      0      1       0      0         0           0            0   \n",
       "2          4      0      1       0      0         0           0            0   \n",
       "3          6      1      0       0      0         0           0            0   \n",
       "4          7      0      1       0      0         0           0            0   \n",
       "\n",
       "   latinx   fst4  ...  age_26-35  age_36-45  age_46-55  age_56-65  age_66+  \\\n",
       "0       0   True  ...          0          0          1          0        0   \n",
       "1       0  False  ...          0          0          1          0        0   \n",
       "2       0  False  ...          0          1          0          0        0   \n",
       "3       0  False  ...          1          0          0          0        0   \n",
       "4       0  False  ...          0          0          1          0        0   \n",
       "\n",
       "   age_Under 18  gender_Gender non-conforming or non-binary or other  \\\n",
       "0             0                                                  0     \n",
       "1             0                                                  0     \n",
       "2             0                                                  0     \n",
       "3             0                                                  0     \n",
       "4             0                                                  0     \n",
       "\n",
       "   gender_Man  gender_Prefer not to say  gender_Woman  \n",
       "0           1                         0             0  \n",
       "1           0                         0             1  \n",
       "2           0                         0             1  \n",
       "3           0                         0             1  \n",
       "4           0                         0             1  \n",
       "\n",
       "[5 rows x 23 columns]"
      ]
     },
     "execution_count": 14,
     "metadata": {},
     "output_type": "execute_result"
    }
   ],
   "source": [
    "lrdata6.head()"
   ]
  },
  {
   "cell_type": "code",
   "execution_count": 13,
   "metadata": {},
   "outputs": [],
   "source": [
    "lrdata6.to_csv(\"~/Desktop/lrdata4.csv\")"
   ]
  },
  {
   "cell_type": "markdown",
   "metadata": {},
   "source": [
    "# Linear Regression"
   ]
  },
  {
   "cell_type": "code",
   "execution_count": 13,
   "metadata": {},
   "outputs": [
    {
     "data": {
      "text/plain": [
       "Index(['Survey_ID', 'black', 'white', 'native', 'asian', 'hawaiian',\n",
       "       'other_race', 'unsure_race', 'latinx', 'fst4', 'snd4', 'trd4',\n",
       "       'age_18-25', 'age_26-35', 'age_36-45', 'age_46-55', 'age_56-65',\n",
       "       'age_66+', 'age_Under 18',\n",
       "       'gender_Gender non-conforming or non-binary or other', 'gender_Man',\n",
       "       'gender_Prefer not to say', 'gender_Woman'],\n",
       "      dtype='object')"
      ]
     },
     "execution_count": 13,
     "metadata": {},
     "output_type": "execute_result"
    }
   ],
   "source": [
    "lrdata4.columns"
   ]
  },
  {
   "cell_type": "code",
   "execution_count": 14,
   "metadata": {},
   "outputs": [],
   "source": [
    "def reg_on_123(dataset4lr, dropX=[]):\n",
    "    y1 = dataset4lr[\"fst4\"]\n",
    "    y2 = dataset4lr[\"snd4\"]\n",
    "    y3 = dataset4lr[\"trd4\"]\n",
    "\n",
    "    X = dataset4lr.drop([\"Survey_ID\", \"fst4\", \"snd4\", \"trd4\", \"unsure_race\", \"age_Under 18\",\n",
    "                         \"gender_Gender non-conforming or non-binary or other\"]+dropX, axis=1)\n",
    "    X = sm.add_constant(X)\n",
    "    \n",
    "    model1 = sm.OLS(y1, X).fit()\n",
    "    model2 = sm.OLS(y2, X).fit()\n",
    "    model3 = sm.OLS(y3, X).fit()\n",
    "    \n",
    "    return model1, model2, model3\n",
    "\n",
    "def return_plist(dataset4lr, dropX=[]):\n",
    "    model1, model2, model3 = reg_on_123(dataset4lr, dropX)\n",
    "    \n",
    "    a = (model1.summary2().tables[1]['P>|t|'] <= 0.05) | (model1.summary2().tables[1]['P>|t|'] >= 0.95)\n",
    "    a1 = model1.summary2().tables[1][\"Coef.\"]\n",
    "    b = (model2.summary2().tables[1]['P>|t|'] <= 0.05) | (model2.summary2().tables[1]['P>|t|'] >= 0.95)\n",
    "    b1 = model2.summary2().tables[1][\"Coef.\"]\n",
    "    c = (model3.summary2().tables[1]['P>|t|'] <= 0.05) | (model3.summary2().tables[1]['P>|t|'] >= 0.95)\n",
    "    c1 = model3.summary2().tables[1][\"Coef.\"]\n",
    "    \n",
    "    p_df = pd.concat([a1, a, b1, b, c1, c], axis=1)\n",
    "    p_df.columns = [\"fst_inlist_coef\", \"p<=0.05\", \"snd_inlist_coef\", \"p<=0.05\", \"trd_inlist_coef\", \"p<=0.05\"]\n",
    "    \n",
    "    return p_df"
   ]
  },
  {
   "cell_type": "markdown",
   "metadata": {},
   "source": [
    "### Keep All\n",
    "These groups of models only excluded some variables to clear perfect multicollinearity.\n",
    "The variables excluded for perfect multicollinearity include \"Survey_ID\", \"fst1n2\", \"snd1n2\", \"trd1n2\", \"unsure_race\",\"age_Under 18\", \"gender_Gender non-conforming or non-binary or other\"."
   ]
  },
  {
   "cell_type": "code",
   "execution_count": 15,
   "metadata": {},
   "outputs": [
    {
     "name": "stderr",
     "output_type": "stream",
     "text": [
      "/opt/anaconda3/lib/python3.7/site-packages/numpy/core/fromnumeric.py:2542: FutureWarning: Method .ptp is deprecated and will be removed in a future version. Use numpy.ptp instead.\n",
      "  return ptp(axis=axis, out=out, **kwargs)\n"
     ]
    }
   ],
   "source": [
    "# All_3095\n",
    "S3095_all = return_plist(lrdata4)\n",
    "# NoViloentRace_3082\n",
    "S3082_all = return_plist(lrdata4)\n",
    "# NoViloentRaceWhiteBlack_3053\n",
    "S3053_all = return_plist(lrdata4)"
   ]
  },
  {
   "cell_type": "code",
   "execution_count": 16,
   "metadata": {},
   "outputs": [
    {
     "name": "stdout",
     "output_type": "stream",
     "text": [
      "                          fst_inlist_coef  p<=0.05  snd_inlist_coef  p<=0.05  \\\n",
      "const                            0.202389    False        -0.033268    False   \n",
      "black                            0.050528     True         0.016237    False   \n",
      "white                            0.007279    False        -0.000618     True   \n",
      "native                           0.001438    False         0.012793    False   \n",
      "asian                            0.032519    False        -0.007964    False   \n",
      "hawaiian                         0.019515    False        -0.029256    False   \n",
      "other_race                       0.026854    False        -0.002255    False   \n",
      "latinx                          -0.013486    False         0.043019     True   \n",
      "age_18-25                        0.015869    False         0.161005    False   \n",
      "age_26-35                       -0.030309    False         0.180197    False   \n",
      "age_36-45                       -0.019465    False         0.182715    False   \n",
      "age_46-55                       -0.006500     True         0.173384    False   \n",
      "age_56-65                       -0.006878     True         0.183556    False   \n",
      "age_66+                          0.024429    False         0.113127    False   \n",
      "gender_Man                      -0.086376    False         0.000038     True   \n",
      "gender_Prefer not to say        -0.131041    False        -0.059678    False   \n",
      "gender_Woman                    -0.097194    False         0.022506    False   \n",
      "\n",
      "                          trd_inlist_coef  p<=0.05  \n",
      "const                           -0.004210     True  \n",
      "black                           -0.021435    False  \n",
      "white                            0.014490    False  \n",
      "native                           0.039681     True  \n",
      "asian                           -0.158521     True  \n",
      "hawaiian                         0.000767     True  \n",
      "other_race                       0.006396    False  \n",
      "latinx                          -0.000359     True  \n",
      "age_18-25                        0.191652    False  \n",
      "age_26-35                        0.159644    False  \n",
      "age_36-45                        0.183846    False  \n",
      "age_46-55                        0.178221    False  \n",
      "age_56-65                        0.154826    False  \n",
      "age_66+                          0.135330    False  \n",
      "gender_Man                      -0.007643    False  \n",
      "gender_Prefer not to say        -0.013191    False  \n",
      "gender_Woman                    -0.043196    False  \n"
     ]
    }
   ],
   "source": [
    "print(S3095_all)"
   ]
  },
  {
   "cell_type": "code",
   "execution_count": 17,
   "metadata": {},
   "outputs": [
    {
     "name": "stdout",
     "output_type": "stream",
     "text": [
      "                          fst_inlist_coef  p<=0.05  snd_inlist_coef  p<=0.05  \\\n",
      "const                            0.202389    False        -0.033268    False   \n",
      "black                            0.050528     True         0.016237    False   \n",
      "white                            0.007279    False        -0.000618     True   \n",
      "native                           0.001438    False         0.012793    False   \n",
      "asian                            0.032519    False        -0.007964    False   \n",
      "hawaiian                         0.019515    False        -0.029256    False   \n",
      "other_race                       0.026854    False        -0.002255    False   \n",
      "latinx                          -0.013486    False         0.043019     True   \n",
      "age_18-25                        0.015869    False         0.161005    False   \n",
      "age_26-35                       -0.030309    False         0.180197    False   \n",
      "age_36-45                       -0.019465    False         0.182715    False   \n",
      "age_46-55                       -0.006500     True         0.173384    False   \n",
      "age_56-65                       -0.006878     True         0.183556    False   \n",
      "age_66+                          0.024429    False         0.113127    False   \n",
      "gender_Man                      -0.086376    False         0.000038     True   \n",
      "gender_Prefer not to say        -0.131041    False        -0.059678    False   \n",
      "gender_Woman                    -0.097194    False         0.022506    False   \n",
      "\n",
      "                          trd_inlist_coef  p<=0.05  \n",
      "const                           -0.004210     True  \n",
      "black                           -0.021435    False  \n",
      "white                            0.014490    False  \n",
      "native                           0.039681     True  \n",
      "asian                           -0.158521     True  \n",
      "hawaiian                         0.000767     True  \n",
      "other_race                       0.006396    False  \n",
      "latinx                          -0.000359     True  \n",
      "age_18-25                        0.191652    False  \n",
      "age_26-35                        0.159644    False  \n",
      "age_36-45                        0.183846    False  \n",
      "age_46-55                        0.178221    False  \n",
      "age_56-65                        0.154826    False  \n",
      "age_66+                          0.135330    False  \n",
      "gender_Man                      -0.007643    False  \n",
      "gender_Prefer not to say        -0.013191    False  \n",
      "gender_Woman                    -0.043196    False  \n"
     ]
    }
   ],
   "source": [
    "print(S3082_all)"
   ]
  },
  {
   "cell_type": "code",
   "execution_count": 33,
   "metadata": {},
   "outputs": [
    {
     "name": "stdout",
     "output_type": "stream",
     "text": [
      "                          fst_inlist_coef  p<=0.05  snd_inlist_coef  p<=0.05  \\\n",
      "const                            0.202389    False        -0.033268    False   \n",
      "black                            0.050528     True         0.016237    False   \n",
      "white                            0.007279    False        -0.000618     True   \n",
      "native                           0.001438    False         0.012793    False   \n",
      "asian                            0.032519    False        -0.007964    False   \n",
      "hawaiian                         0.019515    False        -0.029256    False   \n",
      "other_race                       0.026854    False        -0.002255    False   \n",
      "latinx                          -0.013486    False         0.043019     True   \n",
      "age_18-25                        0.015869    False         0.161005    False   \n",
      "age_26-35                       -0.030309    False         0.180197    False   \n",
      "age_36-45                       -0.019465    False         0.182715    False   \n",
      "age_46-55                       -0.006500     True         0.173384    False   \n",
      "age_56-65                       -0.006878     True         0.183556    False   \n",
      "age_66+                          0.024429    False         0.113127    False   \n",
      "gender_Man                      -0.086376    False         0.000038     True   \n",
      "gender_Prefer not to say        -0.131041    False        -0.059678    False   \n",
      "gender_Woman                    -0.097194    False         0.022506    False   \n",
      "\n",
      "                          trd_inlist_coef  p<=0.05  \n",
      "const                           -0.004210     True  \n",
      "black                           -0.021435    False  \n",
      "white                            0.014490    False  \n",
      "native                           0.039681     True  \n",
      "asian                           -0.158521     True  \n",
      "hawaiian                         0.000767     True  \n",
      "other_race                       0.006396    False  \n",
      "latinx                          -0.000359     True  \n",
      "age_18-25                        0.191652    False  \n",
      "age_26-35                        0.159644    False  \n",
      "age_36-45                        0.183846    False  \n",
      "age_46-55                        0.178221    False  \n",
      "age_56-65                        0.154826    False  \n",
      "age_66+                          0.135330    False  \n",
      "gender_Man                      -0.007643    False  \n",
      "gender_Prefer not to say        -0.013191    False  \n",
      "gender_Woman                    -0.043196    False  \n"
     ]
    }
   ],
   "source": [
    "print(S3053_all)"
   ]
  },
  {
   "cell_type": "code",
   "execution_count": 18,
   "metadata": {},
   "outputs": [],
   "source": [
    "S3053_all.to_csv(\"S3053_all.csv\")"
   ]
  },
  {
   "cell_type": "markdown",
   "metadata": {},
   "source": [
    "### No White\n",
    "Other than same variables above to clear perfect multicollinearity, these groups of models also excluded \"white\"."
   ]
  },
  {
   "cell_type": "code",
   "execution_count": 19,
   "metadata": {},
   "outputs": [],
   "source": [
    "nw = [\"white\"]"
   ]
  },
  {
   "cell_type": "code",
   "execution_count": 20,
   "metadata": {},
   "outputs": [],
   "source": [
    "# All_3095\n",
    "S3095_nw = return_plist(lrdata4, nw)\n",
    "# NoRace_3082\n",
    "S3082_nw = return_plist(lrdata5, nw)\n",
    "# NoRaceWhiteBlack_3053\n",
    "S3053_nw = return_plist(lrdata6, nw)"
   ]
  },
  {
   "cell_type": "code",
   "execution_count": 35,
   "metadata": {},
   "outputs": [],
   "source": [
    "S3053_nw.to_csv(\"S3053_nw.csv\")"
   ]
  },
  {
   "cell_type": "markdown",
   "metadata": {},
   "source": [
    "### Only White\n",
    "Other than same variables above to clear perfect multicollinearity, these groups of models also excluded all race binary variables excpet \"white\"."
   ]
  },
  {
   "cell_type": "code",
   "execution_count": 22,
   "metadata": {},
   "outputs": [],
   "source": [
    "ow = [\"black\", \"native\", \"asian\", \"hawaiian\", \"other_race\", \"unsure_race\", \"latinx\"]"
   ]
  },
  {
   "cell_type": "code",
   "execution_count": 23,
   "metadata": {},
   "outputs": [],
   "source": [
    "# All_3095\n",
    "S3095_ow = return_plist(lrdata4, ow)\n",
    "# NoRace_3082\n",
    "S3082_ow = return_plist(lrdata5, ow)\n",
    "# NoRaceWhiteBlack_3053\n",
    "S3053_ow = return_plist(lrdata6, ow)"
   ]
  },
  {
   "cell_type": "code",
   "execution_count": 36,
   "metadata": {},
   "outputs": [],
   "source": [
    "S3053_ow.to_csv(\"S3053_ow.csv\")"
   ]
  },
  {
   "cell_type": "markdown",
   "metadata": {},
   "source": [
    "### No Black\n",
    "Other than same variables above to clear perfect multicollinearity, these groups of models also excluded \"black\"."
   ]
  },
  {
   "cell_type": "code",
   "execution_count": 26,
   "metadata": {},
   "outputs": [],
   "source": [
    "nb = [\"black\"]"
   ]
  },
  {
   "cell_type": "code",
   "execution_count": 27,
   "metadata": {},
   "outputs": [],
   "source": [
    "# All_3095\n",
    "S3095_nb = return_plist(lrdata4, nb)\n",
    "# NoRace_3082\n",
    "S3082_nb = return_plist(lrdata5, nb)\n",
    "# NoRaceWhiteBlack_3053\n",
    "S3053_nb = return_plist(lrdata6, nb)"
   ]
  },
  {
   "cell_type": "code",
   "execution_count": 28,
   "metadata": {},
   "outputs": [
    {
     "name": "stdout",
     "output_type": "stream",
     "text": [
      "                          fst_inlist_coef  p<=0.05  snd_inlist_coef  p<=0.05  \\\n",
      "const                            0.237605    False        -0.021951    False   \n",
      "white                           -0.022704    False        -0.010253    False   \n",
      "native                          -0.005685    False         0.010504    False   \n",
      "asian                            0.036516    False        -0.006679    False   \n",
      "hawaiian                         0.027886    False        -0.026566    False   \n",
      "other_race                       0.013173    False        -0.006651    False   \n",
      "latinx                          -0.025267    False         0.039233    False   \n",
      "age_18-25                        0.020372    False         0.162452    False   \n",
      "age_26-35                       -0.028459    False         0.180792    False   \n",
      "age_36-45                       -0.017950    False         0.183202    False   \n",
      "age_46-55                       -0.005274     True         0.173778    False   \n",
      "age_56-65                       -0.005170     True         0.184105    False   \n",
      "age_66+                          0.024233    False         0.113064    False   \n",
      "gender_Man                      -0.088380    False        -0.000606     True   \n",
      "gender_Prefer not to say        -0.137023    False        -0.061601    False   \n",
      "gender_Woman                    -0.098862    False         0.021970    False   \n",
      "\n",
      "                          trd_inlist_coef  p<=0.05  \n",
      "const                           -0.019149    False  \n",
      "white                            0.027209    False  \n",
      "native                           0.042703     True  \n",
      "asian                           -0.160217     True  \n",
      "hawaiian                        -0.002784     True  \n",
      "other_race                       0.012200    False  \n",
      "latinx                           0.004638    False  \n",
      "age_18-25                        0.189741    False  \n",
      "age_26-35                        0.158859    False  \n",
      "age_36-45                        0.183203    False  \n",
      "age_46-55                        0.177701    False  \n",
      "age_56-65                        0.154101    False  \n",
      "age_66+                          0.135413    False  \n",
      "gender_Man                      -0.006792    False  \n",
      "gender_Prefer not to say        -0.010653    False  \n",
      "gender_Woman                    -0.042488    False  \n"
     ]
    }
   ],
   "source": [
    "print(S3095_nb)"
   ]
  },
  {
   "cell_type": "code",
   "execution_count": 37,
   "metadata": {},
   "outputs": [],
   "source": [
    "S3053_nb.to_csv(\"S3053_nb.csv\")"
   ]
  },
  {
   "cell_type": "markdown",
   "metadata": {},
   "source": [
    "### Only Black\n",
    "Other than same variables above to clear perfect multicollinearity, these groups of models also excluded all race binary variables excpet \"black\"."
   ]
  },
  {
   "cell_type": "code",
   "execution_count": 30,
   "metadata": {},
   "outputs": [],
   "source": [
    "ob = [\"white\", \"native\", \"asian\", \"hawaiian\", \"other_race\", \"unsure_race\", \"latinx\"]"
   ]
  },
  {
   "cell_type": "code",
   "execution_count": 31,
   "metadata": {},
   "outputs": [],
   "source": [
    "# All_3095\n",
    "S3095_ob = return_plist(lrdata4, ob)\n",
    "# NoRace_3082\n",
    "S3082_ob = return_plist(lrdata5, ob)\n",
    "# NoRaceWhiteBlack_3053\n",
    "S3053_ob = return_plist(lrdata6, ob)"
   ]
  },
  {
   "cell_type": "code",
   "execution_count": 39,
   "metadata": {},
   "outputs": [],
   "source": [
    "S3053_ob.to_csv(\"S3053_ob.csv\")"
   ]
  },
  {
   "cell_type": "code",
   "execution_count": null,
   "metadata": {},
   "outputs": [],
   "source": []
  }
 ],
 "metadata": {
  "kernelspec": {
   "display_name": "geo_env",
   "language": "python",
   "name": "geo_env"
  },
  "language_info": {
   "codemirror_mode": {
    "name": "ipython",
    "version": 3
   },
   "file_extension": ".py",
   "mimetype": "text/x-python",
   "name": "python",
   "nbconvert_exporter": "python",
   "pygments_lexer": "ipython3",
   "version": "3.7.6"
  }
 },
 "nbformat": 4,
 "nbformat_minor": 4
}
