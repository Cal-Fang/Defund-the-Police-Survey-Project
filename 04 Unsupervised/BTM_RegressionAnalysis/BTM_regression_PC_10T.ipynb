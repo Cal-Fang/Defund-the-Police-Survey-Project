{
 "cells": [
  {
   "cell_type": "markdown",
   "metadata": {},
   "source": [
    "# Data Importing"
   ]
  },
  {
   "cell_type": "code",
   "execution_count": 1,
   "metadata": {},
   "outputs": [],
   "source": [
    "# Importing modules\n",
    "import pandas as pd\n",
    "import numpy as np\n",
    "import scipy.stats as stats\n",
    "import statsmodels.api as sm\n",
    "\n",
    "from sklearn.linear_model import LinearRegression\n",
    "\n",
    "# Read data into papers\n",
    "data = pd.read_csv(\"/Users/atchoo/Google Drive/Research Assistant/Work With David Knight/Survey of the Incarcerated/TMPPoliticalSurveyFULL_ForDavid.csv\", encoding = \"ISO-8859-1\")\n",
    "\n",
    "# Print head\n",
    "# print(data.columns)"
   ]
  },
  {
   "cell_type": "code",
   "execution_count": 2,
   "metadata": {},
   "outputs": [],
   "source": [
    "# Insert an id index for future work\n",
    "data[\"Survey_ID\"] = data.index + 1\n",
    "\n",
    "# Remove the columns\n",
    "str_data = data[[\"Survey_ID\", \"explain_politics_changed_since_incarcerated\",\\\n",
    "                 'identifies_as_black', 'identifies_as_white',\n",
    "                 \"identifies_as_native\", 'identifies_as_asian', \n",
    "                 'identifies_as_hawaiian_or_pac_islander', 'identifies_as_other_race',\n",
    "                 'identifies_as_not_sure_of_race', 'identifies_as_hispanic_or_latinx',\n",
    "                 \"age\", \"gender\"]]\n",
    "# Print out the first rows of papers\n",
    "str_data.columns = [\"Survey_ID\", \"p_change\", \"black\", \"white\", \"native\", \"asian\",\n",
    "                   \"hawaiian\", \"other_race\", \"unsure_race\", \"latinx\", \"age\", \"gender\"]\n",
    "str_data = str_data.dropna()"
   ]
  },
  {
   "cell_type": "markdown",
   "metadata": {},
   "source": [
    "# Make Remove Stopword Functions"
   ]
  },
  {
   "cell_type": "code",
   "execution_count": 3,
   "metadata": {},
   "outputs": [],
   "source": [
    "# Load the regular expression library and the nltk word library\n",
    "import re\n",
    "import nltk\n",
    "\n",
    "# Create a function to remove nonsense words\n",
    "words = set(nltk.corpus.words.words())\n",
    "def clean_sent(sent):\n",
    "    return \" \".join(w for w in nltk.wordpunct_tokenize(sent) \\\n",
    "     if w.lower() in words or not w.isalpha())\n",
    "\n",
    "strv_list = [\"p_change\"]\n",
    "for strv in strv_list:\n",
    "    # Remove punctuation & Convert the titles to lowercase\n",
    "    str_data[strv] = str_data[strv].map(lambda x: re.sub(r'[^\\w\\s]', \"\", x)).map(lambda x: x.lower())\n",
    "    # Remove nonsense words\n",
    "    str_data[strv] = str_data[strv].apply(clean_sent)\n",
    "    # Transform blank cells to NaN & Drop NaN\n",
    "    str_data = str_data.replace(r'^\\s*$', np.nan, regex=True).dropna()"
   ]
  },
  {
   "cell_type": "code",
   "execution_count": 4,
   "metadata": {},
   "outputs": [
    {
     "data": {
      "text/html": [
       "<div>\n",
       "<style scoped>\n",
       "    .dataframe tbody tr th:only-of-type {\n",
       "        vertical-align: middle;\n",
       "    }\n",
       "\n",
       "    .dataframe tbody tr th {\n",
       "        vertical-align: top;\n",
       "    }\n",
       "\n",
       "    .dataframe thead th {\n",
       "        text-align: right;\n",
       "    }\n",
       "</style>\n",
       "<table border=\"1\" class=\"dataframe\">\n",
       "  <thead>\n",
       "    <tr style=\"text-align: right;\">\n",
       "      <th></th>\n",
       "      <th>Survey_ID</th>\n",
       "      <th>p_change</th>\n",
       "      <th>black</th>\n",
       "      <th>white</th>\n",
       "      <th>native</th>\n",
       "      <th>asian</th>\n",
       "      <th>hawaiian</th>\n",
       "      <th>other_race</th>\n",
       "      <th>unsure_race</th>\n",
       "      <th>latinx</th>\n",
       "      <th>age</th>\n",
       "      <th>gender</th>\n",
       "    </tr>\n",
       "  </thead>\n",
       "  <tbody>\n",
       "    <tr>\n",
       "      <th>0</th>\n",
       "      <td>1</td>\n",
       "      <td>no</td>\n",
       "      <td>False</td>\n",
       "      <td>True</td>\n",
       "      <td>False</td>\n",
       "      <td>False</td>\n",
       "      <td>False</td>\n",
       "      <td>False</td>\n",
       "      <td>False</td>\n",
       "      <td>False</td>\n",
       "      <td>46-55</td>\n",
       "      <td>Man</td>\n",
       "    </tr>\n",
       "    <tr>\n",
       "      <th>2</th>\n",
       "      <td>3</td>\n",
       "      <td>i feel that the parole board the some of the p...</td>\n",
       "      <td>False</td>\n",
       "      <td>True</td>\n",
       "      <td>False</td>\n",
       "      <td>False</td>\n",
       "      <td>False</td>\n",
       "      <td>False</td>\n",
       "      <td>False</td>\n",
       "      <td>False</td>\n",
       "      <td>46-55</td>\n",
       "      <td>Woman</td>\n",
       "    </tr>\n",
       "    <tr>\n",
       "      <th>3</th>\n",
       "      <td>4</td>\n",
       "      <td>yes bit</td>\n",
       "      <td>False</td>\n",
       "      <td>True</td>\n",
       "      <td>False</td>\n",
       "      <td>False</td>\n",
       "      <td>False</td>\n",
       "      <td>False</td>\n",
       "      <td>False</td>\n",
       "      <td>False</td>\n",
       "      <td>36-45</td>\n",
       "      <td>Woman</td>\n",
       "    </tr>\n",
       "    <tr>\n",
       "      <th>5</th>\n",
       "      <td>6</td>\n",
       "      <td>most are full of</td>\n",
       "      <td>True</td>\n",
       "      <td>False</td>\n",
       "      <td>False</td>\n",
       "      <td>False</td>\n",
       "      <td>False</td>\n",
       "      <td>False</td>\n",
       "      <td>False</td>\n",
       "      <td>False</td>\n",
       "      <td>26-35</td>\n",
       "      <td>Woman</td>\n",
       "    </tr>\n",
       "    <tr>\n",
       "      <th>6</th>\n",
       "      <td>7</td>\n",
       "      <td>i never considered the prison population or pr...</td>\n",
       "      <td>False</td>\n",
       "      <td>True</td>\n",
       "      <td>False</td>\n",
       "      <td>False</td>\n",
       "      <td>False</td>\n",
       "      <td>False</td>\n",
       "      <td>False</td>\n",
       "      <td>False</td>\n",
       "      <td>46-55</td>\n",
       "      <td>Woman</td>\n",
       "    </tr>\n",
       "  </tbody>\n",
       "</table>\n",
       "</div>"
      ],
      "text/plain": [
       "   Survey_ID                                           p_change  black  white  \\\n",
       "0          1                                                 no  False   True   \n",
       "2          3  i feel that the parole board the some of the p...  False   True   \n",
       "3          4                                            yes bit  False   True   \n",
       "5          6                                   most are full of   True  False   \n",
       "6          7  i never considered the prison population or pr...  False   True   \n",
       "\n",
       "   native  asian  hawaiian  other_race  unsure_race  latinx    age gender  \n",
       "0   False  False     False       False        False   False  46-55    Man  \n",
       "2   False  False     False       False        False   False  46-55  Woman  \n",
       "3   False  False     False       False        False   False  36-45  Woman  \n",
       "5   False  False     False       False        False   False  26-35  Woman  \n",
       "6   False  False     False       False        False   False  46-55  Woman  "
      ]
     },
     "execution_count": 4,
     "metadata": {},
     "output_type": "execute_result"
    }
   ],
   "source": [
    "str_data.head()"
   ]
  },
  {
   "cell_type": "code",
   "execution_count": 5,
   "metadata": {},
   "outputs": [],
   "source": [
    "# remove stop words\n",
    "# nltk.download('stopwords')\n",
    "from nltk.corpus import stopwords\n",
    "from gensim.utils import simple_preprocess\n",
    "\n",
    "def remove_stopwords(texts):\n",
    "    return [[word for word in simple_preprocess(str(doc)) if word not in stop_words] for doc in texts]"
   ]
  },
  {
   "cell_type": "markdown",
   "metadata": {},
   "source": [
    "# Data Exporting for C++"
   ]
  },
  {
   "cell_type": "code",
   "execution_count": 6,
   "metadata": {},
   "outputs": [],
   "source": [
    "extrastopword = [\"prison\"]"
   ]
  },
  {
   "cell_type": "code",
   "execution_count": 7,
   "metadata": {},
   "outputs": [],
   "source": [
    "stop_words = stopwords.words(\"english\")\n",
    "stop_words.extend([\"don\", \"people\", \"bill\", \"step\", \"act\", \"first\", \"u\", \"n\", \n",
    "                   \"na\", \"non\"]+extrastopword)\n",
    "yesnno = [\"yes\", \"no\"]\n",
    "stop_words =  [word for word in stop_words if word not in yesnno]"
   ]
  },
  {
   "cell_type": "code",
   "execution_count": 8,
   "metadata": {},
   "outputs": [
    {
     "data": {
      "text/plain": [
       "3305"
      ]
     },
     "execution_count": 8,
     "metadata": {},
     "output_type": "execute_result"
    }
   ],
   "source": [
    "p_change = remove_stopwords(str_data[\"p_change\"])\n",
    "p_change = pd.DataFrame([x for x in p_change if x])\n",
    "len(p_change)"
   ]
  },
  {
   "cell_type": "code",
   "execution_count": 9,
   "metadata": {},
   "outputs": [],
   "source": [
    "#p_change.to_csv('/Users/atchoo/Desktop/p_change3305.txt', header=None, index=None, sep=' ', mode='a')"
   ]
  },
  {
   "cell_type": "markdown",
   "metadata": {},
   "source": [
    "# Include the Topic info"
   ]
  },
  {
   "cell_type": "code",
   "execution_count": 10,
   "metadata": {},
   "outputs": [],
   "source": [
    "def add_the_matrix(extrastopword, csvfile, tlist):\n",
    "    \n",
    "    assert isinstance(extrastopword, list), \"Should be a list of the extra stop words.\"\n",
    "    assert isinstance(csvfile, str), \"Should be the path of the matrix file.\"\n",
    "    \n",
    "    # change the stop words\n",
    "    stop_words = stopwords.words(\"english\")\n",
    "    stop_words.extend([\"don\", \"people\", \"bill\", \"step\", \"act\", \"first\", \"u\", \"n\", \n",
    "                       \"na\", \"non\"]+extrastopword)\n",
    "    yesnno = [\"yes\", \"no\"]\n",
    "    stop_words =  [word for word in stop_words if word not in yesnno]\n",
    "    # remove stop words\n",
    "    p_change = [[word for word in simple_preprocess(str(doc)) if word not in stop_words] for doc in str_data[\"p_change\"]]\n",
    "    p_change = pd.DataFrame([x for x in p_change if x])\n",
    "    \n",
    "    # create index variable for whether a row is left\n",
    "    p_change2 = []\n",
    "    for doc in str_data[\"p_change\"]:\n",
    "        if all(word in stop_words for word in simple_preprocess(doc)):\n",
    "               i_str = False\n",
    "        else: \n",
    "               i_str = True\n",
    "        p_change2.append(i_str)\n",
    "    inBTM = pd.DataFrame(p_change2, columns=[\"inBTM\"])\n",
    "    # filter str_data based on inBTM result into str_datar\n",
    "    str_datar = pd.concat([str_data.reset_index(drop=True), inBTM], axis=1)\n",
    "    str_datar = str_datar[str_datar[\"inBTM\"]==True]\n",
    "    \n",
    "    # read in the topicmatrix file\n",
    "    matrix = pd.read_csv(csvfile, \n",
    "                         names=[\"topic 1\", \"topic 2\", \"topic 3\", \"topic 4\", \"topic 5\", \n",
    "                                \"topic 6\", \"topic 7\", \"topic 8\", \"topic 9\", \"topic 10\"])\n",
    "    a = matrix.idxmax(axis=1)\n",
    "    b = matrix.T.apply(lambda x: x.nlargest(2).idxmin())\n",
    "    c = matrix.T.apply(lambda x: x.nlargest(3).idxmin())\n",
    "    topic = pd.concat([a, b, c], axis=1, ignore_index=False)\n",
    "\n",
    "    # concatenate topic matrix and str_datar as str_datar\n",
    "    str_datar2 = pd.concat([str_datar.reset_index(drop=True), topic], axis=1)\n",
    "    str_datar2 = str_datar2.rename(columns={0:\"fsttopic\", 1:\"sndtopic\", 2:\"trdtopic\"})\n",
    "\n",
    "    # CREATE THE CHISQUARE DATAFRAME\n",
    "    race = [\"black\", \"white\", \"native\", \"asian\", \"hawaiian\", \"other_race\", \"unsure_race\", \"latinx\"]\n",
    "    topic = [\"fsttopic\", \"sndtopic\", \"trdtopic\"]\n",
    "    chisq = str_datar2.loc[:, [\"Survey_ID\"]+race+topic].dropna()\n",
    "        ## clean the race variable a little bit\n",
    "    chisq.loc[:, race] = chisq.loc[:, race].astype(int)\n",
    "    chisq[\"Race\"] = chisq.loc[:, race].idxmax(axis=1)\n",
    "    \n",
    "    # CREATE THE REGRESSION DATAFRAME\n",
    "    chisq[\"fstinlist\"] = chisq[\"fsttopic\"].isin(tlist)\n",
    "    chisq[\"sndinlist\"] = chisq[\"sndtopic\"].isin(tlist)\n",
    "    chisq[\"trdinlist\"] = chisq[\"trdtopic\"].isin(tlist)\n",
    "    cor = chisq.drop([\"fsttopic\", \"sndtopic\", \"trdtopic\", \"Race\"], axis=1)\n",
    "    cov = str_data[[\"Survey_ID\", \"age\", \"gender\"]]\n",
    "    cov = pd.get_dummies(cov, columns=[\"age\", \"gender\"])\n",
    "    lrdata = cor.merge(cov, on=\"Survey_ID\")\n",
    "    \n",
    "    return str_datar2, chisq, lrdata"
   ]
  },
  {
   "cell_type": "code",
   "execution_count": 11,
   "metadata": {},
   "outputs": [],
   "source": [
    "common_csv = \"~/Google Drive/Research Assistant/Work With David Knight/Survey of the Incarcerated/BTM/BTM_Regression_Exploration_PC/\"\n",
    "extra1 = [\"prison\"]\n",
    "csv1 = \"10topics/topicmatrix.csv\""
   ]
  },
  {
   "cell_type": "code",
   "execution_count": 12,
   "metadata": {},
   "outputs": [],
   "source": [
    "strdata1, chisq1, lrdata1 = add_the_matrix(extra1, common_csv+csv1, tlist=[\"topic 5\"])"
   ]
  },
  {
   "cell_type": "code",
   "execution_count": 13,
   "metadata": {},
   "outputs": [],
   "source": [
    "#strdata1.to_csv(\"~/Desktop/10topic.csv\")"
   ]
  },
  {
   "cell_type": "code",
   "execution_count": 14,
   "metadata": {},
   "outputs": [
    {
     "data": {
      "text/plain": [
       "(3305, 23)"
      ]
     },
     "execution_count": 14,
     "metadata": {},
     "output_type": "execute_result"
    }
   ],
   "source": [
    "lrdata1.shape"
   ]
  },
  {
   "cell_type": "code",
   "execution_count": 15,
   "metadata": {},
   "outputs": [
    {
     "data": {
      "text/html": [
       "<div>\n",
       "<style scoped>\n",
       "    .dataframe tbody tr th:only-of-type {\n",
       "        vertical-align: middle;\n",
       "    }\n",
       "\n",
       "    .dataframe tbody tr th {\n",
       "        vertical-align: top;\n",
       "    }\n",
       "\n",
       "    .dataframe thead th {\n",
       "        text-align: right;\n",
       "    }\n",
       "</style>\n",
       "<table border=\"1\" class=\"dataframe\">\n",
       "  <thead>\n",
       "    <tr style=\"text-align: right;\">\n",
       "      <th></th>\n",
       "      <th>Survey_ID</th>\n",
       "      <th>black</th>\n",
       "      <th>white</th>\n",
       "      <th>native</th>\n",
       "      <th>asian</th>\n",
       "      <th>hawaiian</th>\n",
       "      <th>other_race</th>\n",
       "      <th>unsure_race</th>\n",
       "      <th>latinx</th>\n",
       "      <th>fstinlist</th>\n",
       "      <th>...</th>\n",
       "      <th>age_26-35</th>\n",
       "      <th>age_36-45</th>\n",
       "      <th>age_46-55</th>\n",
       "      <th>age_56-65</th>\n",
       "      <th>age_66+</th>\n",
       "      <th>age_Under 18</th>\n",
       "      <th>gender_Gender non-conforming or non-binary or other</th>\n",
       "      <th>gender_Man</th>\n",
       "      <th>gender_Prefer not to say</th>\n",
       "      <th>gender_Woman</th>\n",
       "    </tr>\n",
       "  </thead>\n",
       "  <tbody>\n",
       "    <tr>\n",
       "      <th>0</th>\n",
       "      <td>1</td>\n",
       "      <td>0</td>\n",
       "      <td>1</td>\n",
       "      <td>0</td>\n",
       "      <td>0</td>\n",
       "      <td>0</td>\n",
       "      <td>0</td>\n",
       "      <td>0</td>\n",
       "      <td>0</td>\n",
       "      <td>False</td>\n",
       "      <td>...</td>\n",
       "      <td>0</td>\n",
       "      <td>0</td>\n",
       "      <td>1</td>\n",
       "      <td>0</td>\n",
       "      <td>0</td>\n",
       "      <td>0</td>\n",
       "      <td>0</td>\n",
       "      <td>1</td>\n",
       "      <td>0</td>\n",
       "      <td>0</td>\n",
       "    </tr>\n",
       "    <tr>\n",
       "      <th>1</th>\n",
       "      <td>3</td>\n",
       "      <td>0</td>\n",
       "      <td>1</td>\n",
       "      <td>0</td>\n",
       "      <td>0</td>\n",
       "      <td>0</td>\n",
       "      <td>0</td>\n",
       "      <td>0</td>\n",
       "      <td>0</td>\n",
       "      <td>False</td>\n",
       "      <td>...</td>\n",
       "      <td>0</td>\n",
       "      <td>0</td>\n",
       "      <td>1</td>\n",
       "      <td>0</td>\n",
       "      <td>0</td>\n",
       "      <td>0</td>\n",
       "      <td>0</td>\n",
       "      <td>0</td>\n",
       "      <td>0</td>\n",
       "      <td>1</td>\n",
       "    </tr>\n",
       "    <tr>\n",
       "      <th>2</th>\n",
       "      <td>4</td>\n",
       "      <td>0</td>\n",
       "      <td>1</td>\n",
       "      <td>0</td>\n",
       "      <td>0</td>\n",
       "      <td>0</td>\n",
       "      <td>0</td>\n",
       "      <td>0</td>\n",
       "      <td>0</td>\n",
       "      <td>False</td>\n",
       "      <td>...</td>\n",
       "      <td>0</td>\n",
       "      <td>1</td>\n",
       "      <td>0</td>\n",
       "      <td>0</td>\n",
       "      <td>0</td>\n",
       "      <td>0</td>\n",
       "      <td>0</td>\n",
       "      <td>0</td>\n",
       "      <td>0</td>\n",
       "      <td>1</td>\n",
       "    </tr>\n",
       "    <tr>\n",
       "      <th>3</th>\n",
       "      <td>6</td>\n",
       "      <td>1</td>\n",
       "      <td>0</td>\n",
       "      <td>0</td>\n",
       "      <td>0</td>\n",
       "      <td>0</td>\n",
       "      <td>0</td>\n",
       "      <td>0</td>\n",
       "      <td>0</td>\n",
       "      <td>False</td>\n",
       "      <td>...</td>\n",
       "      <td>1</td>\n",
       "      <td>0</td>\n",
       "      <td>0</td>\n",
       "      <td>0</td>\n",
       "      <td>0</td>\n",
       "      <td>0</td>\n",
       "      <td>0</td>\n",
       "      <td>0</td>\n",
       "      <td>0</td>\n",
       "      <td>1</td>\n",
       "    </tr>\n",
       "    <tr>\n",
       "      <th>4</th>\n",
       "      <td>7</td>\n",
       "      <td>0</td>\n",
       "      <td>1</td>\n",
       "      <td>0</td>\n",
       "      <td>0</td>\n",
       "      <td>0</td>\n",
       "      <td>0</td>\n",
       "      <td>0</td>\n",
       "      <td>0</td>\n",
       "      <td>False</td>\n",
       "      <td>...</td>\n",
       "      <td>0</td>\n",
       "      <td>0</td>\n",
       "      <td>1</td>\n",
       "      <td>0</td>\n",
       "      <td>0</td>\n",
       "      <td>0</td>\n",
       "      <td>0</td>\n",
       "      <td>0</td>\n",
       "      <td>0</td>\n",
       "      <td>1</td>\n",
       "    </tr>\n",
       "  </tbody>\n",
       "</table>\n",
       "<p>5 rows × 23 columns</p>\n",
       "</div>"
      ],
      "text/plain": [
       "   Survey_ID  black  white  native  asian  hawaiian  other_race  unsure_race  \\\n",
       "0          1      0      1       0      0         0           0            0   \n",
       "1          3      0      1       0      0         0           0            0   \n",
       "2          4      0      1       0      0         0           0            0   \n",
       "3          6      1      0       0      0         0           0            0   \n",
       "4          7      0      1       0      0         0           0            0   \n",
       "\n",
       "   latinx  fstinlist  ...  age_26-35  age_36-45  age_46-55  age_56-65  \\\n",
       "0       0      False  ...          0          0          1          0   \n",
       "1       0      False  ...          0          0          1          0   \n",
       "2       0      False  ...          0          1          0          0   \n",
       "3       0      False  ...          1          0          0          0   \n",
       "4       0      False  ...          0          0          1          0   \n",
       "\n",
       "   age_66+  age_Under 18  gender_Gender non-conforming or non-binary or other  \\\n",
       "0        0             0                                                  0     \n",
       "1        0             0                                                  0     \n",
       "2        0             0                                                  0     \n",
       "3        0             0                                                  0     \n",
       "4        0             0                                                  0     \n",
       "\n",
       "   gender_Man  gender_Prefer not to say  gender_Woman  \n",
       "0           1                         0             0  \n",
       "1           0                         0             1  \n",
       "2           0                         0             1  \n",
       "3           0                         0             1  \n",
       "4           0                         0             1  \n",
       "\n",
       "[5 rows x 23 columns]"
      ]
     },
     "execution_count": 15,
     "metadata": {},
     "output_type": "execute_result"
    }
   ],
   "source": [
    "lrdata1.head()"
   ]
  },
  {
   "cell_type": "markdown",
   "metadata": {},
   "source": [
    "# Chisq Test"
   ]
  },
  {
   "cell_type": "code",
   "execution_count": 16,
   "metadata": {},
   "outputs": [],
   "source": [
    "def to_obs(ct):\n",
    "    obs = np.array([ct.iloc[0][0:7].values,\n",
    "                    ct.iloc[1][0:7].values,\n",
    "                    ct.iloc[2][0:7].values,\n",
    "                    ct.iloc[3][0:7].values,\n",
    "                    ct.iloc[4][0:7].values,\n",
    "                    ct.iloc[5][0:7].values,\n",
    "                    ct.iloc[6][0:7].values,\n",
    "                    ct.iloc[7][0:7].values])\n",
    "    return obs\n",
    "\n",
    "def ctest_race_topic(dataset4chisq):\n",
    "    ct = pd.crosstab(dataset4chisq.Race, dataset4chisq.fsttopic, margins=True)\n",
    "    obs = to_obs(ct)\n",
    "    fst_p = stats.chi2_contingency(obs)[1]\n",
    "    \n",
    "    ct = pd.crosstab(dataset4chisq.Race, dataset4chisq.sndtopic, margins=True)\n",
    "    obs = to_obs(ct)\n",
    "    snd_p = stats.chi2_contingency(obs)[1]\n",
    "    \n",
    "    ct = pd.crosstab(dataset4chisq.Race, dataset4chisq.trdtopic, margins=True)\n",
    "    obs = to_obs(ct)\n",
    "    trd_p = stats.chi2_contingency(obs)[1]\n",
    "    \n",
    "    result_dic = {\"fst_p\":fst_p, \"snd_p\":snd_p, \"trd_p\":trd_p}\n",
    "    print(result_dic)\n",
    "    \n",
    "    pass"
   ]
  },
  {
   "cell_type": "code",
   "execution_count": 17,
   "metadata": {},
   "outputs": [
    {
     "name": "stdout",
     "output_type": "stream",
     "text": [
      "{'fst_p': 0.6953722495531252, 'snd_p': 0.5444592553624376, 'trd_p': 0.13777354559192964}\n"
     ]
    }
   ],
   "source": [
    "ctest_race_topic(chisq1)"
   ]
  },
  {
   "cell_type": "markdown",
   "metadata": {},
   "source": [
    "# Linear Regression"
   ]
  },
  {
   "cell_type": "code",
   "execution_count": 18,
   "metadata": {},
   "outputs": [],
   "source": [
    "def reg_on_123(dataset4lr, dropX=[]):\n",
    "    y1 = dataset4lr[\"fstinlist\"]\n",
    "    y2 = dataset4lr[\"sndinlist\"]\n",
    "    y3 = dataset4lr[\"trdinlist\"]\n",
    "\n",
    "    X = dataset4lr.drop([\"Survey_ID\", \"fstinlist\", \"sndinlist\", \"trdinlist\", \"unsure_race\", \"age_Under 18\",\n",
    "                         \"gender_Gender non-conforming or non-binary or other\"]+dropX, axis=1)\n",
    "    X = sm.add_constant(X)\n",
    "    \n",
    "    model1 = sm.OLS(y1, X).fit()\n",
    "    model2 = sm.OLS(y2, X).fit()\n",
    "    model3 = sm.OLS(y3, X).fit()\n",
    "    \n",
    "    return model1, model2, model3\n",
    "\n",
    "def return_plist(dataset4lr, dropX=[]):\n",
    "    model1, model2, model3 = reg_on_123(dataset4lr, dropX)\n",
    "    \n",
    "    a = (model1.summary2().tables[1]['P>|t|'] <= 0.05) | (model1.summary2().tables[1]['P>|t|'] >= 0.95)\n",
    "    a1 = model1.summary2().tables[1][\"Coef.\"]\n",
    "    b = (model2.summary2().tables[1]['P>|t|'] <= 0.05) | (model2.summary2().tables[1]['P>|t|'] >= 0.95)\n",
    "    b1 = model2.summary2().tables[1][\"Coef.\"]\n",
    "    c = (model3.summary2().tables[1]['P>|t|'] <= 0.05) | (model3.summary2().tables[1]['P>|t|'] >= 0.95)\n",
    "    c1 = model3.summary2().tables[1][\"Coef.\"]\n",
    "    \n",
    "    p_df = pd.concat([a1, a, b1, b, c1, c], axis=1)\n",
    "    p_df.columns = [\"fst_inlist_coef\", \"p<=0.05\", \"snd_inlist_coef\", \"p<=0.05\", \"trd_inlist_coef\", \"p<=0.05\"]\n",
    "    \n",
    "    return p_df"
   ]
  },
  {
   "cell_type": "code",
   "execution_count": 19,
   "metadata": {},
   "outputs": [],
   "source": [
    "#lrdata1.to_csv(\"~/Desktop/lrdata1.csv\")"
   ]
  },
  {
   "cell_type": "markdown",
   "metadata": {},
   "source": [
    "### Keep All\n",
    "These groups of models only excluded some variables to clear perfect multicollinearity.\n",
    "The variables excluded for perfect multicollinearity include \"Survey_ID\", \"fst1n2\", \"snd1n2\", \"trd1n2\", \"unsure_race\",\"age_Under 18\", \"gender_Gender non-conforming or non-binary or other\"."
   ]
  },
  {
   "cell_type": "code",
   "execution_count": 20,
   "metadata": {},
   "outputs": [],
   "source": [
    "T10 = return_plist(lrdata1)"
   ]
  },
  {
   "cell_type": "code",
   "execution_count": 21,
   "metadata": {},
   "outputs": [
    {
     "name": "stdout",
     "output_type": "stream",
     "text": [
      "                          fst_inlist_coef  p<=0.05  snd_inlist_coef  p<=0.05  \\\n",
      "const                            0.315613     True         0.119229    False   \n",
      "black                           -0.022888    False         0.013395    False   \n",
      "white                           -0.012789    False         0.015216    False   \n",
      "native                          -0.028873     True         0.019987    False   \n",
      "asian                            0.035800    False         0.024930    False   \n",
      "hawaiian                        -0.046705    False        -0.089002     True   \n",
      "other_race                      -0.010404    False        -0.008571    False   \n",
      "latinx                           0.007713    False         0.007152    False   \n",
      "age_18-25                       -0.152448    False        -0.033832    False   \n",
      "age_26-35                       -0.145842    False        -0.039706    False   \n",
      "age_36-45                       -0.149113    False        -0.042881    False   \n",
      "age_46-55                       -0.142343    False        -0.027624    False   \n",
      "age_56-65                       -0.172481    False        -0.042466    False   \n",
      "age_66+                         -0.175270    False        -0.024279    False   \n",
      "gender_Man                      -0.045507    False        -0.008257    False   \n",
      "gender_Prefer not to say        -0.099467    False        -0.066155    False   \n",
      "gender_Woman                    -0.044740    False         0.034099    False   \n",
      "\n",
      "                          trd_inlist_coef  p<=0.05  \n",
      "const                            0.029564    False  \n",
      "black                            0.001254    False  \n",
      "white                            0.009797    False  \n",
      "native                          -0.012916    False  \n",
      "asian                           -0.017813    False  \n",
      "hawaiian                         0.016240    False  \n",
      "other_race                      -0.021175    False  \n",
      "latinx                           0.003567    False  \n",
      "age_18-25                        0.111900    False  \n",
      "age_26-35                        0.088306    False  \n",
      "age_36-45                        0.095199    False  \n",
      "age_46-55                        0.096268    False  \n",
      "age_56-65                        0.108372    False  \n",
      "age_66+                          0.092837    False  \n",
      "gender_Man                      -0.035887    False  \n",
      "gender_Prefer not to say        -0.076529    False  \n",
      "gender_Woman                    -0.015133    False  \n"
     ]
    }
   ],
   "source": [
    "print(T10)\n",
    "T10.to_csv(\"~/Desktop/T10.csv\")"
   ]
  },
  {
   "cell_type": "markdown",
   "metadata": {},
   "source": [
    "### No White\n",
    "Other than same variables above to clear perfect multicollinearity, these groups of models also excluded \"white\"."
   ]
  },
  {
   "cell_type": "code",
   "execution_count": 22,
   "metadata": {},
   "outputs": [],
   "source": [
    "nw = [\"white\"]"
   ]
  },
  {
   "cell_type": "code",
   "execution_count": 23,
   "metadata": {},
   "outputs": [],
   "source": [
    "T10_nw = return_plist(lrdata1, nw)"
   ]
  },
  {
   "cell_type": "code",
   "execution_count": 24,
   "metadata": {},
   "outputs": [
    {
     "name": "stdout",
     "output_type": "stream",
     "text": [
      "                          fst_inlist_coef  p<=0.05  snd_inlist_coef  p<=0.05  \\\n",
      "const                            0.305252     True         0.131555    False   \n",
      "black                           -0.013700    False         0.002464    False   \n",
      "native                          -0.027092     True         0.017868    False   \n",
      "asian                            0.034718    False         0.026217    False   \n",
      "hawaiian                        -0.049764    False        -0.085362     True   \n",
      "other_race                      -0.005836    False        -0.014006    False   \n",
      "latinx                           0.011429    False         0.002730    False   \n",
      "age_18-25                       -0.154574    False        -0.031303    False   \n",
      "age_26-35                       -0.147954    False        -0.037193    False   \n",
      "age_36-45                       -0.151350    False        -0.040218    False   \n",
      "age_46-55                       -0.144546    False        -0.025003    False   \n",
      "age_56-65                       -0.174849    False        -0.039647    False   \n",
      "age_66+                         -0.177618    False        -0.021486    False   \n",
      "gender_Man                      -0.044194    False        -0.009820    False   \n",
      "gender_Prefer not to say        -0.096372    False        -0.069837    False   \n",
      "gender_Woman                    -0.044594    False         0.033925    False   \n",
      "\n",
      "                          trd_inlist_coef  p<=0.05  \n",
      "const                            0.037501    False  \n",
      "black                           -0.005785    False  \n",
      "native                          -0.014280    False  \n",
      "asian                           -0.016984    False  \n",
      "hawaiian                         0.018584    False  \n",
      "other_race                      -0.024675    False  \n",
      "latinx                           0.000720     True  \n",
      "age_18-25                        0.113529    False  \n",
      "age_26-35                        0.089924    False  \n",
      "age_36-45                        0.096913    False  \n",
      "age_46-55                        0.097956    False  \n",
      "age_56-65                        0.110187    False  \n",
      "age_66+                          0.094635    False  \n",
      "gender_Man                      -0.036893    False  \n",
      "gender_Prefer not to say        -0.078899    False  \n",
      "gender_Woman                    -0.015245    False  \n"
     ]
    }
   ],
   "source": [
    "print(T10_nw)\n",
    "T10_nw.to_csv(\"~/Desktop/T10_nw.csv\")"
   ]
  },
  {
   "cell_type": "markdown",
   "metadata": {},
   "source": [
    "### Only White\n",
    "Other than same variables above to clear perfect multicollinearity, these groups of models also excluded all race binary variables excpet \"white\"."
   ]
  },
  {
   "cell_type": "code",
   "execution_count": 25,
   "metadata": {},
   "outputs": [],
   "source": [
    "ow = [\"black\", \"native\", \"asian\", \"hawaiian\", \"other_race\", \"unsure_race\", \"latinx\"]"
   ]
  },
  {
   "cell_type": "code",
   "execution_count": 26,
   "metadata": {},
   "outputs": [],
   "source": [
    "T10_ow = return_plist(lrdata1, ow)"
   ]
  },
  {
   "cell_type": "code",
   "execution_count": 34,
   "metadata": {},
   "outputs": [
    {
     "name": "stdout",
     "output_type": "stream",
     "text": [
      "                          fst_inlist_coef  p<=0.05  snd_inlist_coef  p<=0.05  \\\n",
      "const                            0.286400     True         0.124745    False   \n",
      "white                            0.000041     True         0.008278    False   \n",
      "age_18-25                       -0.145804    False        -0.029122    False   \n",
      "age_26-35                       -0.139627    False        -0.035865    False   \n",
      "age_36-45                       -0.143298    False        -0.039197    False   \n",
      "age_46-55                       -0.135496    False        -0.023901    False   \n",
      "age_56-65                       -0.166423    False        -0.038088    False   \n",
      "age_66+                         -0.167013    False        -0.020893    False   \n",
      "gender_Man                      -0.041540    False        -0.008243    False   \n",
      "gender_Prefer not to say        -0.098186    False        -0.072603    False   \n",
      "gender_Woman                    -0.042039    False         0.034938    False   \n",
      "\n",
      "                          trd_inlist_coef  p<=0.05  \n",
      "const                            0.021509    False  \n",
      "white                            0.014115    False  \n",
      "age_18-25                        0.107745    False  \n",
      "age_26-35                        0.083543    False  \n",
      "age_36-45                        0.090248    False  \n",
      "age_46-55                        0.093355    False  \n",
      "age_56-65                        0.105023    False  \n",
      "age_66+                          0.089450    False  \n",
      "gender_Man                      -0.031585    False  \n",
      "gender_Prefer not to say        -0.076051    False  \n",
      "gender_Woman                    -0.010797    False  \n"
     ]
    }
   ],
   "source": [
    "print(T10_ow)\n",
    "T10_ow.to_csv(\"~/Desktop/T10_ow.csv\")"
   ]
  },
  {
   "cell_type": "markdown",
   "metadata": {},
   "source": [
    "### No Black\n",
    "Other than same variables above to clear perfect multicollinearity, these groups of models also excluded \"black\"."
   ]
  },
  {
   "cell_type": "code",
   "execution_count": 28,
   "metadata": {},
   "outputs": [],
   "source": [
    "nb = [\"black\"]"
   ]
  },
  {
   "cell_type": "code",
   "execution_count": 29,
   "metadata": {},
   "outputs": [],
   "source": [
    "T10_nb = return_plist(lrdata1, nb)"
   ]
  },
  {
   "cell_type": "code",
   "execution_count": 35,
   "metadata": {},
   "outputs": [
    {
     "name": "stdout",
     "output_type": "stream",
     "text": [
      "                          fst_inlist_coef  p<=0.05  snd_inlist_coef  p<=0.05  \\\n",
      "const                            0.298917     True         0.129000    False   \n",
      "white                            0.000569     True         0.007398    False   \n",
      "native                          -0.025591    False         0.018066    False   \n",
      "asian                            0.032921    False         0.026614    False   \n",
      "hawaiian                        -0.051785    False        -0.086029     True   \n",
      "other_race                      -0.004245    False        -0.012176    False   \n",
      "latinx                           0.013002    False         0.004056    False   \n",
      "age_18-25                       -0.153718    False        -0.033089    False   \n",
      "age_26-35                       -0.145635    False        -0.039827    False   \n",
      "age_36-45                       -0.148855    False        -0.043031    False   \n",
      "age_46-55                       -0.141786    False        -0.027951    False   \n",
      "age_56-65                       -0.172255    False        -0.042598    False   \n",
      "age_66+                         -0.174077    False        -0.024977    False   \n",
      "gender_Man                      -0.044615    False        -0.008779    False   \n",
      "gender_Prefer not to say        -0.096651    False        -0.067802    False   \n",
      "gender_Woman                    -0.043986    False         0.033657    False   \n",
      "\n",
      "                          trd_inlist_coef  p<=0.05  \n",
      "const                            0.030479    False  \n",
      "white                            0.009066    False  \n",
      "native                          -0.013096    False  \n",
      "asian                           -0.017656    False  \n",
      "hawaiian                         0.016519    False  \n",
      "other_race                      -0.021512    False  \n",
      "latinx                           0.003277    False  \n",
      "age_18-25                        0.111970    False  \n",
      "age_26-35                        0.088295    False  \n",
      "age_36-45                        0.095185    False  \n",
      "age_46-55                        0.096237    False  \n",
      "age_56-65                        0.108360    False  \n",
      "age_66+                          0.092771    False  \n",
      "gender_Man                      -0.035935    False  \n",
      "gender_Prefer not to say        -0.076683    False  \n",
      "gender_Woman                    -0.015174    False  \n"
     ]
    }
   ],
   "source": [
    "print(T10_nb)\n",
    "T10_nb.to_csv(\"~/Desktop/T10_nb.csv\")"
   ]
  },
  {
   "cell_type": "markdown",
   "metadata": {},
   "source": [
    "### Only Black\n",
    "Other than same variables above to clear perfect multicollinearity, these groups of models also excluded all race binary variables excpet \"black\"."
   ]
  },
  {
   "cell_type": "code",
   "execution_count": 31,
   "metadata": {},
   "outputs": [],
   "source": [
    "ob = [\"white\", \"native\", \"asian\", \"hawaiian\", \"other_race\", \"unsure_race\", \"latinx\"]"
   ]
  },
  {
   "cell_type": "code",
   "execution_count": 32,
   "metadata": {},
   "outputs": [],
   "source": [
    "T10_ob = return_plist(lrdata1, ob)"
   ]
  },
  {
   "cell_type": "code",
   "execution_count": 33,
   "metadata": {},
   "outputs": [
    {
     "name": "stdout",
     "output_type": "stream",
     "text": [
      "                          fst_inlist_coef  p<=0.05  snd_inlist_coef  p<=0.05  \\\n",
      "const                            0.290326     True         0.126584    False   \n",
      "black                           -0.011988    False         0.001640    False   \n",
      "age_18-25                       -0.146401    False        -0.027135    False   \n",
      "age_26-35                       -0.141473    False        -0.032901    False   \n",
      "age_36-45                       -0.145248    False        -0.035969    False   \n",
      "age_46-55                       -0.137470    False        -0.020257    False   \n",
      "age_56-65                       -0.168262    False        -0.034412    False   \n",
      "age_66+                         -0.169634    False        -0.016686    False   \n",
      "gender_Man                      -0.040750    False        -0.008903    False   \n",
      "gender_Prefer not to say        -0.097445    False        -0.074629    False   \n",
      "gender_Woman                    -0.042143    False         0.035828    False   \n",
      "\n",
      "                          trd_inlist_coef  p<=0.05  \n",
      "const                            0.026075    False  \n",
      "black                           -0.001584    False  \n",
      "age_18-25                        0.110913    False  \n",
      "age_26-35                        0.087917    False  \n",
      "age_36-45                        0.095034    False  \n",
      "age_46-55                        0.098841    False  \n",
      "age_56-65                        0.110611    False  \n",
      "age_66+                          0.095658    False  \n",
      "gender_Man                      -0.032421    False  \n",
      "gender_Prefer not to say        -0.079232    False  \n",
      "gender_Woman                    -0.009319    False  \n"
     ]
    }
   ],
   "source": [
    "print(T10_ob)"
   ]
  },
  {
   "cell_type": "code",
   "execution_count": null,
   "metadata": {},
   "outputs": [],
   "source": []
  }
 ],
 "metadata": {
  "kernelspec": {
   "display_name": "geo_env",
   "language": "python",
   "name": "geo_env"
  },
  "language_info": {
   "codemirror_mode": {
    "name": "ipython",
    "version": 3
   },
   "file_extension": ".py",
   "mimetype": "text/x-python",
   "name": "python",
   "nbconvert_exporter": "python",
   "pygments_lexer": "ipython3",
   "version": "3.7.6"
  }
 },
 "nbformat": 4,
 "nbformat_minor": 4
}
