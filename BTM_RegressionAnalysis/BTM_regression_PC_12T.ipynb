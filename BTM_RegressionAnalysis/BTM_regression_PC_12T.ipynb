{
 "cells": [
  {
   "cell_type": "markdown",
   "metadata": {},
   "source": [
    "# Data Importing"
   ]
  },
  {
   "cell_type": "code",
   "execution_count": 1,
   "metadata": {},
   "outputs": [],
   "source": [
    "# Importing modules\n",
    "import pandas as pd\n",
    "import numpy as np\n",
    "import scipy.stats as stats\n",
    "import statsmodels.api as sm\n",
    "\n",
    "from sklearn.linear_model import LinearRegression\n",
    "\n",
    "# Read data into papers\n",
    "data = pd.read_csv(\"/Users/atchoo/Google Drive/Research Assistant/Work With David Knight/Survey of the Incarcerated/TMPPoliticalSurveyFULL_ForDavid.csv\", encoding = \"ISO-8859-1\")\n",
    "\n",
    "# Print head\n",
    "# print(data.columns)"
   ]
  },
  {
   "cell_type": "code",
   "execution_count": 2,
   "metadata": {},
   "outputs": [],
   "source": [
    "# Insert an id index for future work\n",
    "data[\"Survey_ID\"] = data.index + 1\n",
    "\n",
    "# Remove the columns\n",
    "str_data = data[[\"Survey_ID\", \"explain_politics_changed_since_incarcerated\",\\\n",
    "                 'identifies_as_black', 'identifies_as_white',\n",
    "                 \"identifies_as_native\", 'identifies_as_asian', \n",
    "                 'identifies_as_hawaiian_or_pac_islander', 'identifies_as_other_race',\n",
    "                 'identifies_as_not_sure_of_race', 'identifies_as_hispanic_or_latinx',\n",
    "                 \"age\", \"gender\"]]\n",
    "# Print out the first rows of papers\n",
    "str_data.columns = [\"Survey_ID\", \"p_change\", \"black\", \"white\", \"native\", \"asian\",\n",
    "                   \"hawaiian\", \"other_race\", \"unsure_race\", \"latinx\", \"age\", \"gender\"]\n",
    "str_data = str_data.dropna()"
   ]
  },
  {
   "cell_type": "markdown",
   "metadata": {},
   "source": [
    "# Make Remove Stopword Functions"
   ]
  },
  {
   "cell_type": "code",
   "execution_count": 3,
   "metadata": {},
   "outputs": [],
   "source": [
    "# Load the regular expression library and the nltk word library\n",
    "import re\n",
    "import nltk\n",
    "\n",
    "# Create a function to remove nonsense words\n",
    "words = set(nltk.corpus.words.words())\n",
    "def clean_sent(sent):\n",
    "    return \" \".join(w for w in nltk.wordpunct_tokenize(sent) \\\n",
    "     if w.lower() in words or not w.isalpha())\n",
    "\n",
    "strv_list = [\"p_change\"]\n",
    "for strv in strv_list:\n",
    "    # Remove punctuation & Convert the titles to lowercase\n",
    "    str_data[strv] = str_data[strv].map(lambda x: re.sub(r'[^\\w\\s]', \"\", x)).map(lambda x: x.lower())\n",
    "    # Remove nonsense words\n",
    "    str_data[strv] = str_data[strv].apply(clean_sent)\n",
    "    # Transform blank cells to NaN & Drop NaN\n",
    "    str_data = str_data.replace(r'^\\s*$', np.nan, regex=True).dropna()"
   ]
  },
  {
   "cell_type": "code",
   "execution_count": 4,
   "metadata": {},
   "outputs": [
    {
     "data": {
      "text/html": [
       "<div>\n",
       "<style scoped>\n",
       "    .dataframe tbody tr th:only-of-type {\n",
       "        vertical-align: middle;\n",
       "    }\n",
       "\n",
       "    .dataframe tbody tr th {\n",
       "        vertical-align: top;\n",
       "    }\n",
       "\n",
       "    .dataframe thead th {\n",
       "        text-align: right;\n",
       "    }\n",
       "</style>\n",
       "<table border=\"1\" class=\"dataframe\">\n",
       "  <thead>\n",
       "    <tr style=\"text-align: right;\">\n",
       "      <th></th>\n",
       "      <th>Survey_ID</th>\n",
       "      <th>p_change</th>\n",
       "      <th>black</th>\n",
       "      <th>white</th>\n",
       "      <th>native</th>\n",
       "      <th>asian</th>\n",
       "      <th>hawaiian</th>\n",
       "      <th>other_race</th>\n",
       "      <th>unsure_race</th>\n",
       "      <th>latinx</th>\n",
       "      <th>age</th>\n",
       "      <th>gender</th>\n",
       "    </tr>\n",
       "  </thead>\n",
       "  <tbody>\n",
       "    <tr>\n",
       "      <th>0</th>\n",
       "      <td>1</td>\n",
       "      <td>no</td>\n",
       "      <td>False</td>\n",
       "      <td>True</td>\n",
       "      <td>False</td>\n",
       "      <td>False</td>\n",
       "      <td>False</td>\n",
       "      <td>False</td>\n",
       "      <td>False</td>\n",
       "      <td>False</td>\n",
       "      <td>46-55</td>\n",
       "      <td>Man</td>\n",
       "    </tr>\n",
       "    <tr>\n",
       "      <th>2</th>\n",
       "      <td>3</td>\n",
       "      <td>i feel that the parole board the some of the p...</td>\n",
       "      <td>False</td>\n",
       "      <td>True</td>\n",
       "      <td>False</td>\n",
       "      <td>False</td>\n",
       "      <td>False</td>\n",
       "      <td>False</td>\n",
       "      <td>False</td>\n",
       "      <td>False</td>\n",
       "      <td>46-55</td>\n",
       "      <td>Woman</td>\n",
       "    </tr>\n",
       "    <tr>\n",
       "      <th>3</th>\n",
       "      <td>4</td>\n",
       "      <td>yes bit</td>\n",
       "      <td>False</td>\n",
       "      <td>True</td>\n",
       "      <td>False</td>\n",
       "      <td>False</td>\n",
       "      <td>False</td>\n",
       "      <td>False</td>\n",
       "      <td>False</td>\n",
       "      <td>False</td>\n",
       "      <td>36-45</td>\n",
       "      <td>Woman</td>\n",
       "    </tr>\n",
       "    <tr>\n",
       "      <th>5</th>\n",
       "      <td>6</td>\n",
       "      <td>most are full of</td>\n",
       "      <td>True</td>\n",
       "      <td>False</td>\n",
       "      <td>False</td>\n",
       "      <td>False</td>\n",
       "      <td>False</td>\n",
       "      <td>False</td>\n",
       "      <td>False</td>\n",
       "      <td>False</td>\n",
       "      <td>26-35</td>\n",
       "      <td>Woman</td>\n",
       "    </tr>\n",
       "    <tr>\n",
       "      <th>6</th>\n",
       "      <td>7</td>\n",
       "      <td>i never considered the prison population or pr...</td>\n",
       "      <td>False</td>\n",
       "      <td>True</td>\n",
       "      <td>False</td>\n",
       "      <td>False</td>\n",
       "      <td>False</td>\n",
       "      <td>False</td>\n",
       "      <td>False</td>\n",
       "      <td>False</td>\n",
       "      <td>46-55</td>\n",
       "      <td>Woman</td>\n",
       "    </tr>\n",
       "  </tbody>\n",
       "</table>\n",
       "</div>"
      ],
      "text/plain": [
       "   Survey_ID                                           p_change  black  white  \\\n",
       "0          1                                                 no  False   True   \n",
       "2          3  i feel that the parole board the some of the p...  False   True   \n",
       "3          4                                            yes bit  False   True   \n",
       "5          6                                   most are full of   True  False   \n",
       "6          7  i never considered the prison population or pr...  False   True   \n",
       "\n",
       "   native  asian  hawaiian  other_race  unsure_race  latinx    age gender  \n",
       "0   False  False     False       False        False   False  46-55    Man  \n",
       "2   False  False     False       False        False   False  46-55  Woman  \n",
       "3   False  False     False       False        False   False  36-45  Woman  \n",
       "5   False  False     False       False        False   False  26-35  Woman  \n",
       "6   False  False     False       False        False   False  46-55  Woman  "
      ]
     },
     "execution_count": 4,
     "metadata": {},
     "output_type": "execute_result"
    }
   ],
   "source": [
    "str_data.head()"
   ]
  },
  {
   "cell_type": "code",
   "execution_count": 5,
   "metadata": {},
   "outputs": [],
   "source": [
    "# remove stop words\n",
    "# nltk.download('stopwords')\n",
    "from nltk.corpus import stopwords\n",
    "from gensim.utils import simple_preprocess\n",
    "\n",
    "def remove_stopwords(texts):\n",
    "    return [[word for word in simple_preprocess(str(doc)) if word not in stop_words] for doc in texts]"
   ]
  },
  {
   "cell_type": "markdown",
   "metadata": {},
   "source": [
    "# Data Exporting for C++"
   ]
  },
  {
   "cell_type": "code",
   "execution_count": 6,
   "metadata": {},
   "outputs": [],
   "source": [
    "extrastopword = [\"prison\"]"
   ]
  },
  {
   "cell_type": "code",
   "execution_count": 7,
   "metadata": {},
   "outputs": [],
   "source": [
    "stop_words = stopwords.words(\"english\")\n",
    "stop_words.extend([\"don\", \"people\", \"bill\", \"step\", \"act\", \"first\", \"u\", \"n\", \n",
    "                   \"na\", \"non\"]+extrastopword)\n",
    "yesnno = [\"yes\", \"no\"]\n",
    "stop_words =  [word for word in stop_words if word not in yesnno]"
   ]
  },
  {
   "cell_type": "code",
   "execution_count": 8,
   "metadata": {},
   "outputs": [
    {
     "data": {
      "text/plain": [
       "3305"
      ]
     },
     "execution_count": 8,
     "metadata": {},
     "output_type": "execute_result"
    }
   ],
   "source": [
    "p_change = remove_stopwords(str_data[\"p_change\"])\n",
    "p_change = pd.DataFrame([x for x in p_change if x])\n",
    "len(p_change)"
   ]
  },
  {
   "cell_type": "code",
   "execution_count": 9,
   "metadata": {},
   "outputs": [],
   "source": [
    "#p_change.to_csv('/Users/atchoo/Desktop/p_change3305.txt', header=None, index=None, sep=' ', mode='a')"
   ]
  },
  {
   "cell_type": "markdown",
   "metadata": {},
   "source": [
    "# Include the Topic info"
   ]
  },
  {
   "cell_type": "code",
   "execution_count": 10,
   "metadata": {},
   "outputs": [],
   "source": [
    "def add_the_matrix(extrastopword, csvfile, tlist):\n",
    "    \n",
    "    assert isinstance(extrastopword, list), \"Should be a list of the extra stop words.\"\n",
    "    assert isinstance(csvfile, str), \"Should be the path of the matrix file.\"\n",
    "    \n",
    "    # change the stop words\n",
    "    stop_words = stopwords.words(\"english\")\n",
    "    stop_words.extend([\"don\", \"people\", \"bill\", \"step\", \"act\", \"first\", \"u\", \"n\", \n",
    "                       \"na\", \"non\"]+extrastopword)\n",
    "    yesnno = [\"yes\", \"no\"]\n",
    "    stop_words =  [word for word in stop_words if word not in yesnno]\n",
    "    # remove stop words\n",
    "    p_change = [[word for word in simple_preprocess(str(doc)) if word not in stop_words] for doc in str_data[\"p_change\"]]\n",
    "    p_change = pd.DataFrame([x for x in p_change if x])\n",
    "    \n",
    "    # create index variable for whether a row is left\n",
    "    p_change2 = []\n",
    "    for doc in str_data[\"p_change\"]:\n",
    "        if all(word in stop_words for word in simple_preprocess(doc)):\n",
    "               i_str = False\n",
    "        else: \n",
    "               i_str = True\n",
    "        p_change2.append(i_str)\n",
    "    inBTM = pd.DataFrame(p_change2, columns=[\"inBTM\"])\n",
    "    # filter str_data based on inBTM result into str_datar\n",
    "    str_datar = pd.concat([str_data.reset_index(drop=True), inBTM], axis=1)\n",
    "    str_datar = str_datar[str_datar[\"inBTM\"]==True]\n",
    "    \n",
    "    # read in the topicmatrix file\n",
    "    matrix = pd.read_csv(csvfile, \n",
    "                         names=[\"topic 1\", \"topic 2\", \"topic 3\", \"topic 4\", \n",
    "                                \"topic 5\", \"topic 6\", \"topic 7\", \"topic 8\", \n",
    "                                \"topic 9\", \"topic 10\", \"topic 11\", \"topic 12\"])\n",
    "    a = matrix.idxmax(axis=1)\n",
    "    b = matrix.T.apply(lambda x: x.nlargest(2).idxmin())\n",
    "    c = matrix.T.apply(lambda x: x.nlargest(3).idxmin())\n",
    "    topic = pd.concat([a, b, c], axis=1, ignore_index=False)\n",
    "\n",
    "    # concatenate topic matrix and str_datar as str_datar\n",
    "    str_datar2 = pd.concat([str_datar.reset_index(drop=True), topic], axis=1)\n",
    "    str_datar2 = str_datar2.rename(columns={0:\"fsttopic\", 1:\"sndtopic\", 2:\"trdtopic\"})\n",
    "\n",
    "    # CREATE THE CHISQUARE DATAFRAME\n",
    "    race = [\"black\", \"white\", \"native\", \"asian\", \"hawaiian\", \"other_race\", \"unsure_race\", \"latinx\"]\n",
    "    topic = [\"fsttopic\", \"sndtopic\", \"trdtopic\"]\n",
    "    chisq = str_datar2.loc[:, [\"Survey_ID\"]+race+topic].dropna()\n",
    "        ## clean the race variable a little bit\n",
    "    chisq.loc[:, race] = chisq.loc[:, race].astype(int)\n",
    "    chisq[\"Race\"] = chisq.loc[:, race].idxmax(axis=1)\n",
    "    \n",
    "    # CREATE THE REGRESSION DATAFRAME\n",
    "    chisq[\"fstinlist\"] = chisq[\"fsttopic\"].isin(tlist)\n",
    "    chisq[\"sndinlist\"] = chisq[\"sndtopic\"].isin(tlist)\n",
    "    chisq[\"trdinlist\"] = chisq[\"trdtopic\"].isin(tlist)\n",
    "    cor = chisq.drop([\"fsttopic\", \"sndtopic\", \"trdtopic\", \"Race\"], axis=1)\n",
    "    cov = str_data[[\"Survey_ID\", \"age\", \"gender\"]]\n",
    "    cov = pd.get_dummies(cov, columns=[\"age\", \"gender\"])\n",
    "    lrdata = cor.merge(cov, on=\"Survey_ID\")\n",
    "    \n",
    "    return str_datar2, chisq, lrdata"
   ]
  },
  {
   "cell_type": "code",
   "execution_count": 11,
   "metadata": {},
   "outputs": [],
   "source": [
    "common_csv = \"~/Google Drive/Research Assistant/Work With David Knight/Survey of the Incarcerated/BTM/BTM_Regression_Exploration_PC/\"\n",
    "extra1 = [\"prison\"]\n",
    "csv1 = \"12topics/topicmatrix.csv\""
   ]
  },
  {
   "cell_type": "code",
   "execution_count": 12,
   "metadata": {},
   "outputs": [],
   "source": [
    "strdata1, chisq1, lrdata1 = add_the_matrix(extra1, common_csv+csv1, tlist=[\"topic 7\"])"
   ]
  },
  {
   "cell_type": "code",
   "execution_count": 13,
   "metadata": {},
   "outputs": [],
   "source": [
    "#strdata1.to_csv(\"~/Desktop/10topic.csv\")"
   ]
  },
  {
   "cell_type": "code",
   "execution_count": 14,
   "metadata": {},
   "outputs": [
    {
     "data": {
      "text/plain": [
       "(3305, 23)"
      ]
     },
     "execution_count": 14,
     "metadata": {},
     "output_type": "execute_result"
    }
   ],
   "source": [
    "lrdata1.shape"
   ]
  },
  {
   "cell_type": "code",
   "execution_count": 15,
   "metadata": {},
   "outputs": [
    {
     "data": {
      "text/html": [
       "<div>\n",
       "<style scoped>\n",
       "    .dataframe tbody tr th:only-of-type {\n",
       "        vertical-align: middle;\n",
       "    }\n",
       "\n",
       "    .dataframe tbody tr th {\n",
       "        vertical-align: top;\n",
       "    }\n",
       "\n",
       "    .dataframe thead th {\n",
       "        text-align: right;\n",
       "    }\n",
       "</style>\n",
       "<table border=\"1\" class=\"dataframe\">\n",
       "  <thead>\n",
       "    <tr style=\"text-align: right;\">\n",
       "      <th></th>\n",
       "      <th>Survey_ID</th>\n",
       "      <th>black</th>\n",
       "      <th>white</th>\n",
       "      <th>native</th>\n",
       "      <th>asian</th>\n",
       "      <th>hawaiian</th>\n",
       "      <th>other_race</th>\n",
       "      <th>unsure_race</th>\n",
       "      <th>latinx</th>\n",
       "      <th>fstinlist</th>\n",
       "      <th>...</th>\n",
       "      <th>age_26-35</th>\n",
       "      <th>age_36-45</th>\n",
       "      <th>age_46-55</th>\n",
       "      <th>age_56-65</th>\n",
       "      <th>age_66+</th>\n",
       "      <th>age_Under 18</th>\n",
       "      <th>gender_Gender non-conforming or non-binary or other</th>\n",
       "      <th>gender_Man</th>\n",
       "      <th>gender_Prefer not to say</th>\n",
       "      <th>gender_Woman</th>\n",
       "    </tr>\n",
       "  </thead>\n",
       "  <tbody>\n",
       "    <tr>\n",
       "      <th>0</th>\n",
       "      <td>1</td>\n",
       "      <td>0</td>\n",
       "      <td>1</td>\n",
       "      <td>0</td>\n",
       "      <td>0</td>\n",
       "      <td>0</td>\n",
       "      <td>0</td>\n",
       "      <td>0</td>\n",
       "      <td>0</td>\n",
       "      <td>True</td>\n",
       "      <td>...</td>\n",
       "      <td>0</td>\n",
       "      <td>0</td>\n",
       "      <td>1</td>\n",
       "      <td>0</td>\n",
       "      <td>0</td>\n",
       "      <td>0</td>\n",
       "      <td>0</td>\n",
       "      <td>1</td>\n",
       "      <td>0</td>\n",
       "      <td>0</td>\n",
       "    </tr>\n",
       "    <tr>\n",
       "      <th>1</th>\n",
       "      <td>3</td>\n",
       "      <td>0</td>\n",
       "      <td>1</td>\n",
       "      <td>0</td>\n",
       "      <td>0</td>\n",
       "      <td>0</td>\n",
       "      <td>0</td>\n",
       "      <td>0</td>\n",
       "      <td>0</td>\n",
       "      <td>False</td>\n",
       "      <td>...</td>\n",
       "      <td>0</td>\n",
       "      <td>0</td>\n",
       "      <td>1</td>\n",
       "      <td>0</td>\n",
       "      <td>0</td>\n",
       "      <td>0</td>\n",
       "      <td>0</td>\n",
       "      <td>0</td>\n",
       "      <td>0</td>\n",
       "      <td>1</td>\n",
       "    </tr>\n",
       "    <tr>\n",
       "      <th>2</th>\n",
       "      <td>4</td>\n",
       "      <td>0</td>\n",
       "      <td>1</td>\n",
       "      <td>0</td>\n",
       "      <td>0</td>\n",
       "      <td>0</td>\n",
       "      <td>0</td>\n",
       "      <td>0</td>\n",
       "      <td>0</td>\n",
       "      <td>False</td>\n",
       "      <td>...</td>\n",
       "      <td>0</td>\n",
       "      <td>1</td>\n",
       "      <td>0</td>\n",
       "      <td>0</td>\n",
       "      <td>0</td>\n",
       "      <td>0</td>\n",
       "      <td>0</td>\n",
       "      <td>0</td>\n",
       "      <td>0</td>\n",
       "      <td>1</td>\n",
       "    </tr>\n",
       "    <tr>\n",
       "      <th>3</th>\n",
       "      <td>6</td>\n",
       "      <td>1</td>\n",
       "      <td>0</td>\n",
       "      <td>0</td>\n",
       "      <td>0</td>\n",
       "      <td>0</td>\n",
       "      <td>0</td>\n",
       "      <td>0</td>\n",
       "      <td>0</td>\n",
       "      <td>False</td>\n",
       "      <td>...</td>\n",
       "      <td>1</td>\n",
       "      <td>0</td>\n",
       "      <td>0</td>\n",
       "      <td>0</td>\n",
       "      <td>0</td>\n",
       "      <td>0</td>\n",
       "      <td>0</td>\n",
       "      <td>0</td>\n",
       "      <td>0</td>\n",
       "      <td>1</td>\n",
       "    </tr>\n",
       "    <tr>\n",
       "      <th>4</th>\n",
       "      <td>7</td>\n",
       "      <td>0</td>\n",
       "      <td>1</td>\n",
       "      <td>0</td>\n",
       "      <td>0</td>\n",
       "      <td>0</td>\n",
       "      <td>0</td>\n",
       "      <td>0</td>\n",
       "      <td>0</td>\n",
       "      <td>False</td>\n",
       "      <td>...</td>\n",
       "      <td>0</td>\n",
       "      <td>0</td>\n",
       "      <td>1</td>\n",
       "      <td>0</td>\n",
       "      <td>0</td>\n",
       "      <td>0</td>\n",
       "      <td>0</td>\n",
       "      <td>0</td>\n",
       "      <td>0</td>\n",
       "      <td>1</td>\n",
       "    </tr>\n",
       "  </tbody>\n",
       "</table>\n",
       "<p>5 rows × 23 columns</p>\n",
       "</div>"
      ],
      "text/plain": [
       "   Survey_ID  black  white  native  asian  hawaiian  other_race  unsure_race  \\\n",
       "0          1      0      1       0      0         0           0            0   \n",
       "1          3      0      1       0      0         0           0            0   \n",
       "2          4      0      1       0      0         0           0            0   \n",
       "3          6      1      0       0      0         0           0            0   \n",
       "4          7      0      1       0      0         0           0            0   \n",
       "\n",
       "   latinx  fstinlist  ...  age_26-35  age_36-45  age_46-55  age_56-65  \\\n",
       "0       0       True  ...          0          0          1          0   \n",
       "1       0      False  ...          0          0          1          0   \n",
       "2       0      False  ...          0          1          0          0   \n",
       "3       0      False  ...          1          0          0          0   \n",
       "4       0      False  ...          0          0          1          0   \n",
       "\n",
       "   age_66+  age_Under 18  gender_Gender non-conforming or non-binary or other  \\\n",
       "0        0             0                                                  0     \n",
       "1        0             0                                                  0     \n",
       "2        0             0                                                  0     \n",
       "3        0             0                                                  0     \n",
       "4        0             0                                                  0     \n",
       "\n",
       "   gender_Man  gender_Prefer not to say  gender_Woman  \n",
       "0           1                         0             0  \n",
       "1           0                         0             1  \n",
       "2           0                         0             1  \n",
       "3           0                         0             1  \n",
       "4           0                         0             1  \n",
       "\n",
       "[5 rows x 23 columns]"
      ]
     },
     "execution_count": 15,
     "metadata": {},
     "output_type": "execute_result"
    }
   ],
   "source": [
    "lrdata1.head()"
   ]
  },
  {
   "cell_type": "markdown",
   "metadata": {},
   "source": [
    "# Chisq Test"
   ]
  },
  {
   "cell_type": "code",
   "execution_count": 16,
   "metadata": {},
   "outputs": [],
   "source": [
    "def to_obs(ct):\n",
    "    obs = np.array([ct.iloc[0][0:7].values,\n",
    "                    ct.iloc[1][0:7].values,\n",
    "                    ct.iloc[2][0:7].values,\n",
    "                    ct.iloc[3][0:7].values,\n",
    "                    ct.iloc[4][0:7].values,\n",
    "                    ct.iloc[5][0:7].values,\n",
    "                    ct.iloc[6][0:7].values,\n",
    "                    ct.iloc[7][0:7].values])\n",
    "    return obs\n",
    "\n",
    "def ctest_race_topic(dataset4chisq):\n",
    "    ct = pd.crosstab(dataset4chisq.Race, dataset4chisq.fsttopic, margins=True)\n",
    "    obs = to_obs(ct)\n",
    "    fst_p = stats.chi2_contingency(obs)[1]\n",
    "    \n",
    "    ct = pd.crosstab(dataset4chisq.Race, dataset4chisq.sndtopic, margins=True)\n",
    "    obs = to_obs(ct)\n",
    "    snd_p = stats.chi2_contingency(obs)[1]\n",
    "    \n",
    "    ct = pd.crosstab(dataset4chisq.Race, dataset4chisq.trdtopic, margins=True)\n",
    "    obs = to_obs(ct)\n",
    "    trd_p = stats.chi2_contingency(obs)[1]\n",
    "    \n",
    "    result_dic = {\"fst_p\":fst_p, \"snd_p\":snd_p, \"trd_p\":trd_p}\n",
    "    print(result_dic)\n",
    "    \n",
    "    pass"
   ]
  },
  {
   "cell_type": "code",
   "execution_count": 17,
   "metadata": {},
   "outputs": [
    {
     "name": "stdout",
     "output_type": "stream",
     "text": [
      "{'fst_p': 0.2358922952493069, 'snd_p': 0.4554223750039456, 'trd_p': 0.6332820374735445}\n"
     ]
    }
   ],
   "source": [
    "ctest_race_topic(chisq1)"
   ]
  },
  {
   "cell_type": "markdown",
   "metadata": {},
   "source": [
    "# Linear Regression"
   ]
  },
  {
   "cell_type": "code",
   "execution_count": 18,
   "metadata": {},
   "outputs": [],
   "source": [
    "def reg_on_123(dataset4lr, dropX=[]):\n",
    "    y1 = dataset4lr[\"fstinlist\"]\n",
    "    y2 = dataset4lr[\"sndinlist\"]\n",
    "    y3 = dataset4lr[\"trdinlist\"]\n",
    "\n",
    "    X = dataset4lr.drop([\"Survey_ID\", \"fstinlist\", \"sndinlist\", \"trdinlist\", \"unsure_race\", \"age_Under 18\",\n",
    "                         \"gender_Gender non-conforming or non-binary or other\"]+dropX, axis=1)\n",
    "    X = sm.add_constant(X)\n",
    "    \n",
    "    model1 = sm.OLS(y1, X).fit()\n",
    "    model2 = sm.OLS(y2, X).fit()\n",
    "    model3 = sm.OLS(y3, X).fit()\n",
    "    \n",
    "    return model1, model2, model3\n",
    "\n",
    "def return_plist(dataset4lr, dropX=[]):\n",
    "    model1, model2, model3 = reg_on_123(dataset4lr, dropX)\n",
    "    \n",
    "    a = (model1.summary2().tables[1]['P>|t|'] <= 0.05) | (model1.summary2().tables[1]['P>|t|'] >= 0.95)\n",
    "    a1 = model1.summary2().tables[1][\"Coef.\"]\n",
    "    b = (model2.summary2().tables[1]['P>|t|'] <= 0.05) | (model2.summary2().tables[1]['P>|t|'] >= 0.95)\n",
    "    b1 = model2.summary2().tables[1][\"Coef.\"]\n",
    "    c = (model3.summary2().tables[1]['P>|t|'] <= 0.05) | (model3.summary2().tables[1]['P>|t|'] >= 0.95)\n",
    "    c1 = model3.summary2().tables[1][\"Coef.\"]\n",
    "    \n",
    "    p_df = pd.concat([a1, a, b1, b, c1, c], axis=1)\n",
    "    p_df.columns = [\"fst_inlist_coef\", \"p<=0.05\", \"snd_inlist_coef\", \"p<=0.05\", \"trd_inlist_coef\", \"p<=0.05\"]\n",
    "    \n",
    "    return p_df"
   ]
  },
  {
   "cell_type": "code",
   "execution_count": 19,
   "metadata": {},
   "outputs": [],
   "source": [
    "#lrdata1.to_csv(\"~/Desktop/lrdata1.csv\")"
   ]
  },
  {
   "cell_type": "markdown",
   "metadata": {},
   "source": [
    "### Keep All\n",
    "These groups of models only excluded some variables to clear perfect multicollinearity.\n",
    "The variables excluded for perfect multicollinearity include \"Survey_ID\", \"fst1n2\", \"snd1n2\", \"trd1n2\", \"unsure_race\",\"age_Under 18\", \"gender_Gender non-conforming or non-binary or other\"."
   ]
  },
  {
   "cell_type": "code",
   "execution_count": 20,
   "metadata": {},
   "outputs": [],
   "source": [
    "T10 = return_plist(lrdata1)"
   ]
  },
  {
   "cell_type": "code",
   "execution_count": 34,
   "metadata": {},
   "outputs": [
    {
     "name": "stdout",
     "output_type": "stream",
     "text": [
      "                          fst_inlist_coef  p<=0.05  snd_inlist_coef  p<=0.05  \\\n",
      "const                            0.242306     True         0.014679    False   \n",
      "black                            0.000706     True        -0.002942    False   \n",
      "white                           -0.025534    False        -0.016283    False   \n",
      "native                           0.007550    False        -0.004447    False   \n",
      "asian                           -0.074682    False         0.071954     True   \n",
      "hawaiian                         0.043459    False        -0.004995    False   \n",
      "other_race                      -0.018654    False        -0.001318    False   \n",
      "latinx                          -0.007539    False        -0.001656    False   \n",
      "age_18-25                       -0.119890    False         0.047145    False   \n",
      "age_26-35                       -0.128821    False         0.041569    False   \n",
      "age_36-45                       -0.136130    False         0.048550    False   \n",
      "age_46-55                       -0.122478    False         0.049862    False   \n",
      "age_56-65                       -0.095185    False         0.032824    False   \n",
      "age_66+                         -0.094837    False         0.003652     True   \n",
      "gender_Man                       0.013514    False        -0.007669    False   \n",
      "gender_Prefer not to say         0.057551    False        -0.011813    False   \n",
      "gender_Woman                     0.012109    False        -0.003753    False   \n",
      "\n",
      "                          trd_inlist_coef  p<=0.05  \n",
      "const                           -0.027405    False  \n",
      "black                            0.007153    False  \n",
      "white                            0.018760    False  \n",
      "native                           0.003807    False  \n",
      "asian                           -0.053117    False  \n",
      "hawaiian                         0.002667    False  \n",
      "other_race                       0.004184    False  \n",
      "latinx                          -0.005641    False  \n",
      "age_18-25                        0.033234    False  \n",
      "age_26-35                        0.053953    False  \n",
      "age_36-45                        0.039713    False  \n",
      "age_46-55                        0.037403    False  \n",
      "age_56-65                        0.057071    False  \n",
      "age_66+                          0.014840    False  \n",
      "gender_Man                       0.026378    False  \n",
      "gender_Prefer not to say         0.024942    False  \n",
      "gender_Woman                     0.006288    False  \n"
     ]
    }
   ],
   "source": [
    "print(T10)\n",
    "T10.to_csv(\"~/Desktop/T10.csv\")"
   ]
  },
  {
   "cell_type": "markdown",
   "metadata": {},
   "source": [
    "### No White\n",
    "Other than same variables above to clear perfect multicollinearity, these groups of models also excluded \"white\"."
   ]
  },
  {
   "cell_type": "code",
   "execution_count": 22,
   "metadata": {},
   "outputs": [],
   "source": [
    "nw = [\"white\"]"
   ]
  },
  {
   "cell_type": "code",
   "execution_count": 23,
   "metadata": {},
   "outputs": [],
   "source": [
    "T10_nw = return_plist(lrdata1, nw)"
   ]
  },
  {
   "cell_type": "code",
   "execution_count": 24,
   "metadata": {},
   "outputs": [
    {
     "name": "stdout",
     "output_type": "stream",
     "text": [
      "                          fst_inlist_coef  p<=0.05  snd_inlist_coef  p<=0.05  \\\n",
      "const                            0.221622    False         0.001488     True   \n",
      "black                            0.019049    False         0.008756    False   \n",
      "native                           0.011106    False        -0.002179    False   \n",
      "asian                           -0.076842    False         0.070577     True   \n",
      "hawaiian                         0.037351    False        -0.008889    False   \n",
      "other_race                      -0.009533    False         0.004498    False   \n",
      "latinx                          -0.000119     True         0.003075    False   \n",
      "age_18-25                       -0.124134    False         0.044439    False   \n",
      "age_26-35                       -0.133038    False         0.038879    False   \n",
      "age_36-45                       -0.140598    False         0.045701    False   \n",
      "age_46-55                       -0.126877    False         0.047057    False   \n",
      "age_56-65                       -0.099914    False         0.029808    False   \n",
      "age_66+                         -0.099525    False         0.000663     True   \n",
      "gender_Man                       0.016137    False        -0.005996    False   \n",
      "gender_Prefer not to say         0.063730    False        -0.007873    False   \n",
      "gender_Woman                     0.012401    False        -0.003567    False   \n",
      "\n",
      "                          trd_inlist_coef  p<=0.05  \n",
      "const                           -0.012208    False  \n",
      "black                           -0.006324    False  \n",
      "native                           0.001194    False  \n",
      "asian                           -0.051530    False  \n",
      "hawaiian                         0.007155    False  \n",
      "other_race                      -0.002517    False  \n",
      "latinx                          -0.011091    False  \n",
      "age_18-25                        0.036351    False  \n",
      "age_26-35                        0.057051    False  \n",
      "age_36-45                        0.042995    False  \n",
      "age_46-55                        0.040635    False  \n",
      "age_56-65                        0.060545    False  \n",
      "age_66+                          0.018284    False  \n",
      "gender_Man                       0.024451    False  \n",
      "gender_Prefer not to say         0.020403    False  \n",
      "gender_Woman                     0.006074    False  \n"
     ]
    }
   ],
   "source": [
    "print(T10_nw)\n",
    "T10_nw.to_csv(\"~/Desktop/T10_nw.csv\")"
   ]
  },
  {
   "cell_type": "markdown",
   "metadata": {},
   "source": [
    "### Only White\n",
    "Other than same variables above to clear perfect multicollinearity, these groups of models also excluded all race binary variables excpet \"white\"."
   ]
  },
  {
   "cell_type": "code",
   "execution_count": 25,
   "metadata": {},
   "outputs": [],
   "source": [
    "ow = [\"black\", \"native\", \"asian\", \"hawaiian\", \"other_race\", \"unsure_race\", \"latinx\"]"
   ]
  },
  {
   "cell_type": "code",
   "execution_count": 26,
   "metadata": {},
   "outputs": [],
   "source": [
    "T10_ow = return_plist(lrdata1, ow)"
   ]
  },
  {
   "cell_type": "code",
   "execution_count": 27,
   "metadata": {},
   "outputs": [
    {
     "name": "stdout",
     "output_type": "stream",
     "text": [
      "                          fst_inlist_coef  p<=0.05  snd_inlist_coef  p<=0.05  \\\n",
      "const                            0.240266     True         0.010900    False   \n",
      "white                           -0.020184    False        -0.014274     True   \n",
      "age_18-25                       -0.129917    False         0.050680    False   \n",
      "age_26-35                       -0.137537    False         0.044458    False   \n",
      "age_36-45                       -0.144592    False         0.051404    False   \n",
      "age_46-55                       -0.129119    False         0.052504    False   \n",
      "age_56-65                       -0.101766    False         0.035279    False   \n",
      "age_66+                         -0.103011    False         0.007507    False   \n",
      "gender_Man                       0.016943    False        -0.008877    False   \n",
      "gender_Prefer not to say         0.057590    False        -0.008315    False   \n",
      "gender_Woman                     0.016582    False        -0.005395    False   \n",
      "\n",
      "                          trd_inlist_coef  p<=0.05  \n",
      "const                           -0.025713    False  \n",
      "white                            0.015414    False  \n",
      "age_18-25                        0.032715    False  \n",
      "age_26-35                        0.054043    False  \n",
      "age_36-45                        0.040135    False  \n",
      "age_46-55                        0.038134    False  \n",
      "age_56-65                        0.058191    False  \n",
      "age_66+                          0.014613    False  \n",
      "gender_Man                       0.027807    False  \n",
      "gender_Prefer not to say         0.023391    False  \n",
      "gender_Woman                     0.008029    False  \n"
     ]
    }
   ],
   "source": [
    "print(T10_ow)\n",
    "T10_ow.to_csv(\"~/Desktop/T10_ow.csv\")"
   ]
  },
  {
   "cell_type": "markdown",
   "metadata": {},
   "source": [
    "### No Black\n",
    "Other than same variables above to clear perfect multicollinearity, these groups of models also excluded \"black\"."
   ]
  },
  {
   "cell_type": "code",
   "execution_count": 28,
   "metadata": {},
   "outputs": [],
   "source": [
    "nb = [\"black\"]"
   ]
  },
  {
   "cell_type": "code",
   "execution_count": 29,
   "metadata": {},
   "outputs": [],
   "source": [
    "T10_nb = return_plist(lrdata1, nb)"
   ]
  },
  {
   "cell_type": "code",
   "execution_count": 30,
   "metadata": {},
   "outputs": [
    {
     "name": "stdout",
     "output_type": "stream",
     "text": [
      "                          fst_inlist_coef  p<=0.05  snd_inlist_coef  p<=0.05  \\\n",
      "const                            0.242822     True         0.012533    False   \n",
      "white                           -0.025946     True        -0.014566    False   \n",
      "native                           0.007449    False        -0.004025    False   \n",
      "asian                           -0.074593    False         0.071584     True   \n",
      "hawaiian                         0.043615    False        -0.005647    False   \n",
      "other_race                      -0.018844    False        -0.000526     True   \n",
      "latinx                          -0.007702    False        -0.000976    False   \n",
      "age_18-25                       -0.119851    False         0.046982    False   \n",
      "age_26-35                       -0.128827    False         0.041595    False   \n",
      "age_36-45                       -0.136138    False         0.048583    False   \n",
      "age_46-55                       -0.122495    False         0.049934    False   \n",
      "age_56-65                       -0.095192    False         0.032853    False   \n",
      "age_66+                         -0.094874    False         0.003805     True   \n",
      "gender_Man                       0.013487    False        -0.007554    False   \n",
      "gender_Prefer not to say         0.057464    False        -0.011451    False   \n",
      "gender_Woman                     0.012086    False        -0.003656    False   \n",
      "\n",
      "                          trd_inlist_coef  p<=0.05  \n",
      "const                           -0.022187    False  \n",
      "white                            0.014585    False  \n",
      "native                           0.002781    False  \n",
      "asian                           -0.052217    False  \n",
      "hawaiian                         0.004255    False  \n",
      "other_race                       0.002259    False  \n",
      "latinx                          -0.007294    False  \n",
      "age_18-25                        0.033630    False  \n",
      "age_26-35                        0.053888    False  \n",
      "age_36-45                        0.039632    False  \n",
      "age_46-55                        0.037229    False  \n",
      "age_56-65                        0.057000    False  \n",
      "age_66+                          0.014468    False  \n",
      "gender_Man                       0.026099    False  \n",
      "gender_Prefer not to say         0.024063    False  \n",
      "gender_Woman                     0.006053    False  \n"
     ]
    }
   ],
   "source": [
    "print(T10_nb)\n",
    "T10_nb.to_csv(\"~/Desktop/T10_nb.csv\")"
   ]
  },
  {
   "cell_type": "markdown",
   "metadata": {},
   "source": [
    "### Only Black\n",
    "Other than same variables above to clear perfect multicollinearity, these groups of models also excluded all race binary variables excpet \"black\"."
   ]
  },
  {
   "cell_type": "code",
   "execution_count": 31,
   "metadata": {},
   "outputs": [],
   "source": [
    "ob = [\"white\", \"native\", \"asian\", \"hawaiian\", \"other_race\", \"unsure_race\", \"latinx\"]"
   ]
  },
  {
   "cell_type": "code",
   "execution_count": 32,
   "metadata": {},
   "outputs": [],
   "source": [
    "T10_ob = return_plist(lrdata1, ob)"
   ]
  },
  {
   "cell_type": "code",
   "execution_count": 33,
   "metadata": {},
   "outputs": [
    {
     "name": "stdout",
     "output_type": "stream",
     "text": [
      "                          fst_inlist_coef  p<=0.05  snd_inlist_coef  p<=0.05  \\\n",
      "const                            0.228346    False         0.003942     True   \n",
      "black                            0.018779    False         0.008774    False   \n",
      "age_18-25                       -0.133611    False         0.047840    False   \n",
      "age_26-35                       -0.141230    False         0.041147    False   \n",
      "age_36-45                       -0.148730    False         0.047740    False   \n",
      "age_46-55                       -0.134221    False         0.048148    False   \n",
      "age_56-65                       -0.107202    False         0.030738    False   \n",
      "age_66+                         -0.108252    False         0.002809     True   \n",
      "gender_Man                       0.017046    False        -0.008506    False   \n",
      "gender_Prefer not to say         0.061104    False        -0.005548    False   \n",
      "gender_Woman                     0.014617    False        -0.006825    False   \n",
      "\n",
      "                          trd_inlist_coef  p<=0.05  \n",
      "const                           -0.019518    False  \n",
      "black                           -0.005432    False  \n",
      "age_18-25                        0.035987    False  \n",
      "age_26-35                        0.058246    False  \n",
      "age_36-45                        0.044755    False  \n",
      "age_46-55                        0.043509    False  \n",
      "age_56-65                        0.063721    False  \n",
      "age_66+                          0.020577    False  \n",
      "gender_Man                       0.027139    False  \n",
      "gender_Prefer not to say         0.020149    False  \n",
      "gender_Woman                     0.009610    False  \n"
     ]
    }
   ],
   "source": [
    "print(T10_ob)"
   ]
  },
  {
   "cell_type": "code",
   "execution_count": null,
   "metadata": {},
   "outputs": [],
   "source": []
  }
 ],
 "metadata": {
  "kernelspec": {
   "display_name": "geo_env",
   "language": "python",
   "name": "geo_env"
  },
  "language_info": {
   "codemirror_mode": {
    "name": "ipython",
    "version": 3
   },
   "file_extension": ".py",
   "mimetype": "text/x-python",
   "name": "python",
   "nbconvert_exporter": "python",
   "pygments_lexer": "ipython3",
   "version": "3.7.6"
  }
 },
 "nbformat": 4,
 "nbformat_minor": 4
}
