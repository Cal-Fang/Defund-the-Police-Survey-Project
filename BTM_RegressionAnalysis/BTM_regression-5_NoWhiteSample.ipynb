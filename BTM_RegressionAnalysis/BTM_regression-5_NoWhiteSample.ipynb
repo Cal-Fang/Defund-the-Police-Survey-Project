{
 "cells": [
  {
   "cell_type": "markdown",
   "metadata": {},
   "source": [
    "# Data Importing"
   ]
  },
  {
   "cell_type": "code",
   "execution_count": 1,
   "metadata": {},
   "outputs": [],
   "source": [
    "# Importing modules\n",
    "import pandas as pd\n",
    "import numpy as np\n",
    "import scipy.stats as stats\n",
    "import statsmodels.api as sm\n",
    "\n",
    "from sklearn.linear_model import LinearRegression\n",
    "\n",
    "# Read data into papers\n",
    "data = pd.read_csv(\"/Users/atchoo/Google Drive/Research Assistant/Work With David Knight/Survey of the Incarcerated/TMPPoliticalSurveyFULL_ForDavid.csv\", encoding = \"ISO-8859-1\")\n",
    "\n",
    "# Print head\n",
    "# print(data.columns)"
   ]
  },
  {
   "cell_type": "code",
   "execution_count": 2,
   "metadata": {},
   "outputs": [],
   "source": [
    "# Insert an id index for future work\n",
    "data[\"Survey_ID\"] = data.index + 1\n",
    "\n",
    "# Remove the columns\n",
    "str_data = data[[\"Survey_ID\", \"explain_politics_changed_since_incarcerated\",\\\n",
    "                 \"explain_race_affects_politics\", 'identifies_as_black', 'identifies_as_white',\n",
    "                 \"identifies_as_native\", 'identifies_as_asian', \n",
    "                 'identifies_as_hawaiian_or_pac_islander', 'identifies_as_other_race',\n",
    "                 'identifies_as_not_sure_of_race', 'identifies_as_hispanic_or_latinx',\n",
    "                 \"age\", \"gender\"]]\n",
    "# Print out the first rows of papers\n",
    "str_data.columns = [\"Survey_ID\", \"p_change\", \"r_effect\", \"black\", \"white\", \"native\", \"asian\",\n",
    "                   \"hawaiian\", \"other_race\", \"unsure_race\", \"latinx\", \"age\", \"gender\"]\n",
    "str_data = str_data.dropna()"
   ]
  },
  {
   "cell_type": "markdown",
   "metadata": {},
   "source": [
    "# Make Remove Stopword Functions"
   ]
  },
  {
   "cell_type": "code",
   "execution_count": 3,
   "metadata": {},
   "outputs": [],
   "source": [
    "# Load the regular expression library and the nltk word library\n",
    "import re\n",
    "import nltk\n",
    "\n",
    "# Create a function to remove nonsense words\n",
    "words = set(nltk.corpus.words.words())\n",
    "def clean_sent(sent):\n",
    "    return \" \".join(w for w in nltk.wordpunct_tokenize(sent) \\\n",
    "     if w.lower() in words or not w.isalpha())\n",
    "\n",
    "strv_list = [\"p_change\", \"r_effect\"]\n",
    "for strv in strv_list:\n",
    "    # Remove punctuation & Convert the titles to lowercase\n",
    "    str_data[strv] = str_data[strv].map(lambda x: re.sub(r'[^\\w\\s]', \"\", x)).map(lambda x: x.lower())\n",
    "    # Remove nonsense words\n",
    "    str_data[strv] = str_data[strv].apply(clean_sent)\n",
    "    # Transform blank cells to NaN & Drop NaN\n",
    "    str_data = str_data.replace(r'^\\s*$', np.nan, regex=True).dropna()"
   ]
  },
  {
   "cell_type": "code",
   "execution_count": 4,
   "metadata": {},
   "outputs": [
    {
     "data": {
      "text/html": [
       "<div>\n",
       "<style scoped>\n",
       "    .dataframe tbody tr th:only-of-type {\n",
       "        vertical-align: middle;\n",
       "    }\n",
       "\n",
       "    .dataframe tbody tr th {\n",
       "        vertical-align: top;\n",
       "    }\n",
       "\n",
       "    .dataframe thead th {\n",
       "        text-align: right;\n",
       "    }\n",
       "</style>\n",
       "<table border=\"1\" class=\"dataframe\">\n",
       "  <thead>\n",
       "    <tr style=\"text-align: right;\">\n",
       "      <th></th>\n",
       "      <th>Survey_ID</th>\n",
       "      <th>p_change</th>\n",
       "      <th>r_effect</th>\n",
       "      <th>black</th>\n",
       "      <th>white</th>\n",
       "      <th>native</th>\n",
       "      <th>asian</th>\n",
       "      <th>hawaiian</th>\n",
       "      <th>other_race</th>\n",
       "      <th>unsure_race</th>\n",
       "      <th>latinx</th>\n",
       "      <th>age</th>\n",
       "      <th>gender</th>\n",
       "    </tr>\n",
       "  </thead>\n",
       "  <tbody>\n",
       "    <tr>\n",
       "      <th>0</th>\n",
       "      <td>1</td>\n",
       "      <td>no</td>\n",
       "      <td>not at all not racist all of the human race is...</td>\n",
       "      <td>False</td>\n",
       "      <td>True</td>\n",
       "      <td>False</td>\n",
       "      <td>False</td>\n",
       "      <td>False</td>\n",
       "      <td>False</td>\n",
       "      <td>False</td>\n",
       "      <td>False</td>\n",
       "      <td>46-55</td>\n",
       "      <td>Man</td>\n",
       "    </tr>\n",
       "    <tr>\n",
       "      <th>2</th>\n",
       "      <td>3</td>\n",
       "      <td>i feel that the parole board the some of the p...</td>\n",
       "      <td>not sure about that</td>\n",
       "      <td>False</td>\n",
       "      <td>True</td>\n",
       "      <td>False</td>\n",
       "      <td>False</td>\n",
       "      <td>False</td>\n",
       "      <td>False</td>\n",
       "      <td>False</td>\n",
       "      <td>False</td>\n",
       "      <td>46-55</td>\n",
       "      <td>Woman</td>\n",
       "    </tr>\n",
       "    <tr>\n",
       "      <th>3</th>\n",
       "      <td>4</td>\n",
       "      <td>yes bit</td>\n",
       "      <td>i am not really sure about that one</td>\n",
       "      <td>False</td>\n",
       "      <td>True</td>\n",
       "      <td>False</td>\n",
       "      <td>False</td>\n",
       "      <td>False</td>\n",
       "      <td>False</td>\n",
       "      <td>False</td>\n",
       "      <td>False</td>\n",
       "      <td>36-45</td>\n",
       "      <td>Woman</td>\n",
       "    </tr>\n",
       "    <tr>\n",
       "      <th>5</th>\n",
       "      <td>6</td>\n",
       "      <td>most are full of</td>\n",
       "      <td>i do not understand this question maybe theres...</td>\n",
       "      <td>True</td>\n",
       "      <td>False</td>\n",
       "      <td>False</td>\n",
       "      <td>False</td>\n",
       "      <td>False</td>\n",
       "      <td>False</td>\n",
       "      <td>False</td>\n",
       "      <td>False</td>\n",
       "      <td>26-35</td>\n",
       "      <td>Woman</td>\n",
       "    </tr>\n",
       "    <tr>\n",
       "      <th>6</th>\n",
       "      <td>7</td>\n",
       "      <td>i never considered the prison population or pr...</td>\n",
       "      <td>i try to vote based on the but i am and many i...</td>\n",
       "      <td>False</td>\n",
       "      <td>True</td>\n",
       "      <td>False</td>\n",
       "      <td>False</td>\n",
       "      <td>False</td>\n",
       "      <td>False</td>\n",
       "      <td>False</td>\n",
       "      <td>False</td>\n",
       "      <td>46-55</td>\n",
       "      <td>Woman</td>\n",
       "    </tr>\n",
       "  </tbody>\n",
       "</table>\n",
       "</div>"
      ],
      "text/plain": [
       "   Survey_ID                                           p_change  \\\n",
       "0          1                                                 no   \n",
       "2          3  i feel that the parole board the some of the p...   \n",
       "3          4                                            yes bit   \n",
       "5          6                                   most are full of   \n",
       "6          7  i never considered the prison population or pr...   \n",
       "\n",
       "                                            r_effect  black  white  native  \\\n",
       "0  not at all not racist all of the human race is...  False   True   False   \n",
       "2                                not sure about that  False   True   False   \n",
       "3                i am not really sure about that one  False   True   False   \n",
       "5  i do not understand this question maybe theres...   True  False   False   \n",
       "6  i try to vote based on the but i am and many i...  False   True   False   \n",
       "\n",
       "   asian  hawaiian  other_race  unsure_race  latinx    age gender  \n",
       "0  False     False       False        False   False  46-55    Man  \n",
       "2  False     False       False        False   False  46-55  Woman  \n",
       "3  False     False       False        False   False  36-45  Woman  \n",
       "5  False     False       False        False   False  26-35  Woman  \n",
       "6  False     False       False        False   False  46-55  Woman  "
      ]
     },
     "execution_count": 4,
     "metadata": {},
     "output_type": "execute_result"
    }
   ],
   "source": [
    "str_data.head()"
   ]
  },
  {
   "cell_type": "code",
   "execution_count": 5,
   "metadata": {},
   "outputs": [],
   "source": [
    "# remove stop words\n",
    "# nltk.download('stopwords')\n",
    "from nltk.corpus import stopwords\n",
    "from gensim.utils import simple_preprocess\n",
    "\n",
    "def remove_stopwords(texts):\n",
    "    return [[word for word in simple_preprocess(str(doc)) if word not in stop_words] for doc in texts]"
   ]
  },
  {
   "cell_type": "markdown",
   "metadata": {},
   "source": [
    "# Include the Topic info"
   ]
  },
  {
   "cell_type": "code",
   "execution_count": 11,
   "metadata": {},
   "outputs": [],
   "source": [
    "def add_the_matrix(extrastopword, csvfile, tlist=[\"topic 5\"]):\n",
    "    \n",
    "    assert isinstance(extrastopword, list), \"Should be a list of the extra stop words.\"\n",
    "    assert isinstance(csvfile, str), \"Should be the path of the matrix file.\"\n",
    "    \n",
    "    # change the stop words\n",
    "    stop_words = stopwords.words(\"english\")\n",
    "    stop_words.extend([\"don\", \"people\", \"bill\", \"step\", \"act\", \"first\", \"u\", \"n\", \n",
    "                       \"na\", \"non\"]+extrastopword)\n",
    "    yesnno = [\"yes\", \"no\"]\n",
    "    stop_words =  [word for word in stop_words if word not in yesnno]\n",
    "    # remove stop words\n",
    "    r_effect = [[word for word in simple_preprocess(str(doc)) if word not in stop_words] for doc in str_data[\"r_effect\"]]\n",
    "    r_effect = pd.DataFrame([x for x in r_effect if x])\n",
    "    \n",
    "    # create index variable for whether a row is left\n",
    "    r_effect2 = []\n",
    "    for doc in str_data[\"r_effect\"]:\n",
    "        if all(word in stop_words for word in simple_preprocess(doc)):\n",
    "               i_str = False\n",
    "        else: \n",
    "               i_str = True\n",
    "        r_effect2.append(i_str)\n",
    "    inBTM = pd.DataFrame(r_effect2, columns=[\"inBTM\"])\n",
    "    # filter str_data based on inBTM result into str_datar\n",
    "    str_datar = pd.concat([str_data.reset_index(drop=True), inBTM], axis=1)\n",
    "    str_datar = str_datar[str_datar[\"inBTM\"]==True]\n",
    "    \n",
    "    # read in the topicmatrix file\n",
    "    matrix = pd.read_csv(csvfile, \n",
    "                         names=[\"topic 1\", \"topic 2\", \"topic 3\", \"topic 4\", \"topic 5\", \"topic 6\"])\n",
    "    a = matrix.idxmax(axis=1)\n",
    "    b = matrix.T.apply(lambda x: x.nlargest(2).idxmin())\n",
    "    c = matrix.T.apply(lambda x: x.nlargest(3).idxmin())\n",
    "    topic = pd.concat([a, b, c], axis=1, ignore_index=False)\n",
    "\n",
    "    # concatenate topic matrix and str_datar as str_datar\n",
    "    str_datar2 = pd.concat([str_datar.reset_index(drop=True), topic], axis=1)\n",
    "    str_datar2 = str_datar2.rename(columns={0:\"fsttopic\", 1:\"sndtopic\", 2:\"trdtopic\"})\n",
    "\n",
    "    # CREATE THE CHISQUARE DATAFRAME\n",
    "    race = [\"black\", \"white\", \"native\", \"asian\", \"hawaiian\", \"other_race\", \"unsure_race\", \"latinx\"]\n",
    "    topic = [\"fsttopic\", \"sndtopic\", \"trdtopic\"]\n",
    "    chisq = str_datar2.loc[:, [\"Survey_ID\"]+race+topic].dropna()\n",
    "        ## clean the race variable a little bit\n",
    "    chisq.loc[:, race] = chisq.loc[:, race].astype(int)\n",
    "    chisq[\"Race\"] = chisq.loc[:, race].idxmax(axis=1)\n",
    "    \n",
    "    # CREATE THE REGRESSION DATAFRAME\n",
    "    chisq[\"fst5\"] = chisq[\"fsttopic\"].isin(tlist)\n",
    "    chisq[\"snd5\"] = chisq[\"sndtopic\"].isin(tlist)\n",
    "    chisq[\"trd5\"] = chisq[\"trdtopic\"].isin(tlist)\n",
    "    cor = chisq.drop([\"fsttopic\", \"sndtopic\", \"trdtopic\", \"Race\"], axis=1)\n",
    "    cov = str_data[[\"Survey_ID\", \"age\", \"gender\"]]\n",
    "    cov = pd.get_dummies(cov, columns=[\"age\", \"gender\"])\n",
    "    lrdata = cor.merge(cov, on=\"Survey_ID\")\n",
    "    \n",
    "    return lrdata"
   ]
  },
  {
   "cell_type": "code",
   "execution_count": 12,
   "metadata": {},
   "outputs": [],
   "source": [
    "common_csv = \"~/Google Drive/Research Assistant/Work With David Knight/Survey of the Incarcerated/BTM/BTM_Regression_Exploration/\"\n",
    "extra1 = []\n",
    "csv1 = \"All_3095/topicmatrix.csv\"\n",
    "\n",
    "extra2 = [\"violent\", \"race\"]\n",
    "csv2 = \"NoViloentRace_3082/topicmatrix_3082.csv\"\n",
    "\n",
    "extra3 = [\"violent\", \"race\", \"white\", \"black\"]\n",
    "csv3 = \"NoViloentRaceWhiteBlack_3053/topicmatrix_3053.csv\""
   ]
  },
  {
   "cell_type": "code",
   "execution_count": 13,
   "metadata": {},
   "outputs": [],
   "source": [
    "# All_3095\n",
    "lrdata4 = add_the_matrix(extra1, common_csv+csv1)\n",
    "# NoViloentRace_3082\n",
    "lrdata5 = add_the_matrix(extra2, common_csv+csv2)\n",
    "# NoViloentRaceWhiteBlack_3053\n",
    "# Most Important One\n",
    "lrdata6 = add_the_matrix(extra3, common_csv+csv3)"
   ]
  },
  {
   "cell_type": "markdown",
   "metadata": {},
   "source": [
    "### Clear out all the white samples"
   ]
  },
  {
   "cell_type": "code",
   "execution_count": 16,
   "metadata": {},
   "outputs": [],
   "source": [
    "def clear_some(dataset):\n",
    "    dataset_post = dataset[dataset[\"white\"]!=1].drop([\"white\"], axis=1)\n",
    "    \n",
    "    return dataset_post"
   ]
  },
  {
   "cell_type": "code",
   "execution_count": 17,
   "metadata": {},
   "outputs": [],
   "source": [
    "# All_3095\n",
    "lrdata4 = clear_some(lrdata4)\n",
    "# NoViloentRace_3082\n",
    "lrdata5 = clear_some(lrdata5)\n",
    "# NoViloentRaceWhiteBlack_3053\n",
    "# Most Important One\n",
    "lrdata6 = clear_some(lrdata6)"
   ]
  },
  {
   "cell_type": "code",
   "execution_count": 18,
   "metadata": {},
   "outputs": [],
   "source": [
    "lrdata6.to_csv(\"~/Desktop/lrdata_nw5.csv\")"
   ]
  },
  {
   "cell_type": "markdown",
   "metadata": {},
   "source": [
    "# Linear Regression"
   ]
  },
  {
   "cell_type": "code",
   "execution_count": 11,
   "metadata": {},
   "outputs": [
    {
     "data": {
      "text/plain": [
       "Index(['Survey_ID', 'black', 'native', 'asian', 'hawaiian', 'other_race',\n",
       "       'unsure_race', 'latinx', 'fst4', 'snd4', 'trd4', 'age_18-25',\n",
       "       'age_26-35', 'age_36-45', 'age_46-55', 'age_56-65', 'age_66+',\n",
       "       'age_Under 18', 'gender_Gender non-conforming or non-binary or other',\n",
       "       'gender_Man', 'gender_Prefer not to say', 'gender_Woman'],\n",
       "      dtype='object')"
      ]
     },
     "execution_count": 11,
     "metadata": {},
     "output_type": "execute_result"
    }
   ],
   "source": [
    "lrdata4.columns"
   ]
  },
  {
   "cell_type": "code",
   "execution_count": 12,
   "metadata": {},
   "outputs": [
    {
     "data": {
      "text/plain": [
       "(1260, 22)"
      ]
     },
     "execution_count": 12,
     "metadata": {},
     "output_type": "execute_result"
    }
   ],
   "source": [
    "lrdata4.shape"
   ]
  },
  {
   "cell_type": "code",
   "execution_count": 13,
   "metadata": {},
   "outputs": [],
   "source": [
    "def reg_on_123(dataset4lr, dropX=[]):\n",
    "    y1 = dataset4lr[\"fst4\"]\n",
    "    y2 = dataset4lr[\"snd4\"]\n",
    "    y3 = dataset4lr[\"trd4\"]\n",
    "\n",
    "    X = dataset4lr.drop([\"Survey_ID\", \"fst4\", \"snd4\", \"trd4\", \"unsure_race\", \"age_Under 18\",\n",
    "                         \"gender_Gender non-conforming or non-binary or other\"]+dropX, axis=1)\n",
    "    X = sm.add_constant(X)\n",
    "    \n",
    "    model1 = sm.OLS(y1, X).fit()\n",
    "    model2 = sm.OLS(y2, X).fit()\n",
    "    model3 = sm.OLS(y3, X).fit()\n",
    "    \n",
    "    return model1, model2, model3\n",
    "\n",
    "def return_plist(dataset4lr, dropX=[]):\n",
    "    model1, model2, model3 = reg_on_123(dataset4lr, dropX)\n",
    "    \n",
    "    a = (model1.summary2().tables[1]['P>|t|'] <= 0.05) | (model1.summary2().tables[1]['P>|t|'] >= 0.95)\n",
    "    a1 = model1.summary2().tables[1][\"Coef.\"]\n",
    "    b = (model2.summary2().tables[1]['P>|t|'] <= 0.05) | (model2.summary2().tables[1]['P>|t|'] >= 0.95)\n",
    "    b1 = model2.summary2().tables[1][\"Coef.\"]\n",
    "    c = (model3.summary2().tables[1]['P>|t|'] <= 0.05) | (model3.summary2().tables[1]['P>|t|'] >= 0.95)\n",
    "    c1 = model3.summary2().tables[1][\"Coef.\"]\n",
    "    \n",
    "    p_df = pd.concat([a1, a, b1, b, c1, c], axis=1)\n",
    "    p_df.columns = [\"fst_inlist_coef\", \"p<=0.05\", \"snd_inlist_coef\", \"p<=0.05\", \"trd_inlist_coef\", \"p<=0.05\"]\n",
    "    \n",
    "    return p_df"
   ]
  },
  {
   "cell_type": "markdown",
   "metadata": {},
   "source": [
    "### Keep All\n",
    "These groups of models only excluded some variables to clear perfect multicollinearity.\n",
    "The variables excluded for perfect multicollinearity include \"Survey_ID\", \"fst1n2\", \"snd1n2\", \"trd1n2\", \"unsure_race\",\"age_Under 18\", \"gender_Gender non-conforming or non-binary or other\"."
   ]
  },
  {
   "cell_type": "code",
   "execution_count": 14,
   "metadata": {},
   "outputs": [
    {
     "name": "stderr",
     "output_type": "stream",
     "text": [
      "/opt/anaconda3/lib/python3.7/site-packages/numpy/core/fromnumeric.py:2542: FutureWarning: Method .ptp is deprecated and will be removed in a future version. Use numpy.ptp instead.\n",
      "  return ptp(axis=axis, out=out, **kwargs)\n"
     ]
    }
   ],
   "source": [
    "# All_3095\n",
    "S3095_all = return_plist(lrdata4)\n",
    "# NoViloentRace_3082\n",
    "S3082_all = return_plist(lrdata4)\n",
    "# NoViloentRaceWhiteBlack_3053\n",
    "S3053_all = return_plist(lrdata4)"
   ]
  },
  {
   "cell_type": "code",
   "execution_count": 15,
   "metadata": {},
   "outputs": [
    {
     "name": "stdout",
     "output_type": "stream",
     "text": [
      "                          fst_inlist_coef  p<=0.05  snd_inlist_coef  p<=0.05  \\\n",
      "const                           -0.170852    False         0.262488    False   \n",
      "black                            0.027052    False        -0.003425    False   \n",
      "native                           0.009044    False         0.038654    False   \n",
      "asian                           -0.024404    False        -0.002118     True   \n",
      "hawaiian                        -0.111100    False        -0.047846    False   \n",
      "other_race                      -0.018530    False         0.011895    False   \n",
      "latinx                           0.052216    False        -0.096531     True   \n",
      "age_18-25                        0.103636    False        -0.084340    False   \n",
      "age_26-35                        0.146508    False        -0.064457    False   \n",
      "age_36-45                        0.191294    False        -0.125978    False   \n",
      "age_46-55                        0.204394    False        -0.095178    False   \n",
      "age_56-65                        0.178889    False        -0.042351    False   \n",
      "age_66+                          0.051101    False        -0.113001    False   \n",
      "gender_Man                       0.150905    False        -0.017508    False   \n",
      "gender_Prefer not to say         0.109631    False        -0.121541    False   \n",
      "gender_Woman                     0.131070    False         0.008639    False   \n",
      "\n",
      "                          trd_inlist_coef  p<=0.05  \n",
      "const                            0.520447     True  \n",
      "black                            0.023068    False  \n",
      "native                           0.030895    False  \n",
      "asian                           -0.047571    False  \n",
      "hawaiian                        -0.138862    False  \n",
      "other_race                       0.042990    False  \n",
      "latinx                          -0.024835    False  \n",
      "age_18-25                       -0.165115    False  \n",
      "age_26-35                       -0.243810    False  \n",
      "age_36-45                       -0.229494    False  \n",
      "age_46-55                       -0.255053    False  \n",
      "age_56-65                       -0.322220    False  \n",
      "age_66+                         -0.060549    False  \n",
      "gender_Man                      -0.100924    False  \n",
      "gender_Prefer not to say        -0.038822    False  \n",
      "gender_Woman                    -0.101984    False  \n"
     ]
    }
   ],
   "source": [
    "print(S3095_all)"
   ]
  },
  {
   "cell_type": "code",
   "execution_count": 16,
   "metadata": {},
   "outputs": [
    {
     "name": "stdout",
     "output_type": "stream",
     "text": [
      "                          fst_inlist_coef  p<=0.05  snd_inlist_coef  p<=0.05  \\\n",
      "const                           -0.170852    False         0.262488    False   \n",
      "black                            0.027052    False        -0.003425    False   \n",
      "native                           0.009044    False         0.038654    False   \n",
      "asian                           -0.024404    False        -0.002118     True   \n",
      "hawaiian                        -0.111100    False        -0.047846    False   \n",
      "other_race                      -0.018530    False         0.011895    False   \n",
      "latinx                           0.052216    False        -0.096531     True   \n",
      "age_18-25                        0.103636    False        -0.084340    False   \n",
      "age_26-35                        0.146508    False        -0.064457    False   \n",
      "age_36-45                        0.191294    False        -0.125978    False   \n",
      "age_46-55                        0.204394    False        -0.095178    False   \n",
      "age_56-65                        0.178889    False        -0.042351    False   \n",
      "age_66+                          0.051101    False        -0.113001    False   \n",
      "gender_Man                       0.150905    False        -0.017508    False   \n",
      "gender_Prefer not to say         0.109631    False        -0.121541    False   \n",
      "gender_Woman                     0.131070    False         0.008639    False   \n",
      "\n",
      "                          trd_inlist_coef  p<=0.05  \n",
      "const                            0.520447     True  \n",
      "black                            0.023068    False  \n",
      "native                           0.030895    False  \n",
      "asian                           -0.047571    False  \n",
      "hawaiian                        -0.138862    False  \n",
      "other_race                       0.042990    False  \n",
      "latinx                          -0.024835    False  \n",
      "age_18-25                       -0.165115    False  \n",
      "age_26-35                       -0.243810    False  \n",
      "age_36-45                       -0.229494    False  \n",
      "age_46-55                       -0.255053    False  \n",
      "age_56-65                       -0.322220    False  \n",
      "age_66+                         -0.060549    False  \n",
      "gender_Man                      -0.100924    False  \n",
      "gender_Prefer not to say        -0.038822    False  \n",
      "gender_Woman                    -0.101984    False  \n"
     ]
    }
   ],
   "source": [
    "print(S3082_all)"
   ]
  },
  {
   "cell_type": "code",
   "execution_count": 17,
   "metadata": {},
   "outputs": [
    {
     "name": "stdout",
     "output_type": "stream",
     "text": [
      "                          fst_inlist_coef  p<=0.05  snd_inlist_coef  p<=0.05  \\\n",
      "const                           -0.170852    False         0.262488    False   \n",
      "black                            0.027052    False        -0.003425    False   \n",
      "native                           0.009044    False         0.038654    False   \n",
      "asian                           -0.024404    False        -0.002118     True   \n",
      "hawaiian                        -0.111100    False        -0.047846    False   \n",
      "other_race                      -0.018530    False         0.011895    False   \n",
      "latinx                           0.052216    False        -0.096531     True   \n",
      "age_18-25                        0.103636    False        -0.084340    False   \n",
      "age_26-35                        0.146508    False        -0.064457    False   \n",
      "age_36-45                        0.191294    False        -0.125978    False   \n",
      "age_46-55                        0.204394    False        -0.095178    False   \n",
      "age_56-65                        0.178889    False        -0.042351    False   \n",
      "age_66+                          0.051101    False        -0.113001    False   \n",
      "gender_Man                       0.150905    False        -0.017508    False   \n",
      "gender_Prefer not to say         0.109631    False        -0.121541    False   \n",
      "gender_Woman                     0.131070    False         0.008639    False   \n",
      "\n",
      "                          trd_inlist_coef  p<=0.05  \n",
      "const                            0.520447     True  \n",
      "black                            0.023068    False  \n",
      "native                           0.030895    False  \n",
      "asian                           -0.047571    False  \n",
      "hawaiian                        -0.138862    False  \n",
      "other_race                       0.042990    False  \n",
      "latinx                          -0.024835    False  \n",
      "age_18-25                       -0.165115    False  \n",
      "age_26-35                       -0.243810    False  \n",
      "age_36-45                       -0.229494    False  \n",
      "age_46-55                       -0.255053    False  \n",
      "age_56-65                       -0.322220    False  \n",
      "age_66+                         -0.060549    False  \n",
      "gender_Man                      -0.100924    False  \n",
      "gender_Prefer not to say        -0.038822    False  \n",
      "gender_Woman                    -0.101984    False  \n"
     ]
    }
   ],
   "source": [
    "print(S3053_all)"
   ]
  },
  {
   "cell_type": "markdown",
   "metadata": {},
   "source": [
    "### No Black\n",
    "Other than same variables above to clear perfect multicollinearity, these groups of models also excluded \"black\"."
   ]
  },
  {
   "cell_type": "code",
   "execution_count": 18,
   "metadata": {},
   "outputs": [],
   "source": [
    "nb = [\"black\"]"
   ]
  },
  {
   "cell_type": "code",
   "execution_count": 19,
   "metadata": {},
   "outputs": [],
   "source": [
    "# All_3095\n",
    "S3095_nb = return_plist(lrdata4, nb)\n",
    "# NoRace_3082\n",
    "S3082_nb = return_plist(lrdata5, nb)\n",
    "# NoRaceWhiteBlack_3053\n",
    "S3053_nb = return_plist(lrdata6, nb)"
   ]
  },
  {
   "cell_type": "code",
   "execution_count": 20,
   "metadata": {},
   "outputs": [
    {
     "name": "stdout",
     "output_type": "stream",
     "text": [
      "                          fst_inlist_coef  p<=0.05  snd_inlist_coef  p<=0.05  \\\n",
      "const                           -0.148845    False         0.259702    False   \n",
      "native                          -0.005117    False         0.040447    False   \n",
      "asian                           -0.037532    False        -0.000455     True   \n",
      "hawaiian                        -0.123744    False        -0.046245    False   \n",
      "other_race                      -0.033632    False         0.013807    False   \n",
      "latinx                           0.045154    False        -0.095637     True   \n",
      "age_18-25                        0.107631    False        -0.084846    False   \n",
      "age_26-35                        0.149987    False        -0.064898    False   \n",
      "age_36-45                        0.194888    False        -0.126433    False   \n",
      "age_46-55                        0.208026    False        -0.095638    False   \n",
      "age_56-65                        0.182578    False        -0.042819    False   \n",
      "age_66+                          0.052963    False        -0.113237    False   \n",
      "gender_Man                       0.149571    False        -0.017339    False   \n",
      "gender_Prefer not to say         0.105574    False        -0.121028    False   \n",
      "gender_Woman                     0.129406    False         0.008850    False   \n",
      "\n",
      "                          trd_inlist_coef  p<=0.05  \n",
      "const                            0.539214     True  \n",
      "native                           0.018819    False  \n",
      "asian                           -0.058766    False  \n",
      "hawaiian                        -0.149643    False  \n",
      "other_race                       0.030112    False  \n",
      "latinx                          -0.030857    False  \n",
      "age_18-25                       -0.161709    False  \n",
      "age_26-35                       -0.240844    False  \n",
      "age_36-45                       -0.226428    False  \n",
      "age_46-55                       -0.251955    False  \n",
      "age_56-65                       -0.319074    False  \n",
      "age_66+                         -0.058960    False  \n",
      "gender_Man                      -0.102062    False  \n",
      "gender_Prefer not to say        -0.042281    False  \n",
      "gender_Woman                    -0.103403    False  \n"
     ]
    }
   ],
   "source": [
    "print(S3095_nb)"
   ]
  },
  {
   "cell_type": "code",
   "execution_count": 21,
   "metadata": {},
   "outputs": [
    {
     "name": "stdout",
     "output_type": "stream",
     "text": [
      "                          fst_inlist_coef  p<=0.05  snd_inlist_coef  p<=0.05  \\\n",
      "const                            0.304276    False         0.136143    False   \n",
      "native                           0.025566    False        -0.026387    False   \n",
      "asian                           -0.065539    False         0.095247    False   \n",
      "hawaiian                        -0.081006    False        -0.126140    False   \n",
      "other_race                       0.009232    False         0.004000    False   \n",
      "latinx                          -0.021593    False         0.065882     True   \n",
      "age_18-25                       -0.065607    False         0.033804    False   \n",
      "age_26-35                       -0.085781    False         0.007143     True   \n",
      "age_36-45                       -0.036116    False         0.013058    False   \n",
      "age_46-55                       -0.047326    False         0.004907     True   \n",
      "age_56-65                       -0.060026    False        -0.051176    False   \n",
      "age_66+                          0.003379     True        -0.072755    False   \n",
      "gender_Man                      -0.090459    False         0.065388    False   \n",
      "gender_Prefer not to say        -0.216506    False         0.095324    False   \n",
      "gender_Woman                    -0.109195    False         0.045781    False   \n",
      "\n",
      "                          trd_inlist_coef  p<=0.05  \n",
      "const                           -0.056084    False  \n",
      "native                           0.018418    False  \n",
      "asian                            0.021166    False  \n",
      "hawaiian                        -0.011991    False  \n",
      "other_race                       0.017456    False  \n",
      "latinx                           0.006645    False  \n",
      "age_18-25                        0.082710    False  \n",
      "age_26-35                        0.170027    False  \n",
      "age_36-45                        0.133131    False  \n",
      "age_46-55                        0.162152    False  \n",
      "age_56-65                        0.111363    False  \n",
      "age_66+                          0.260406    False  \n",
      "gender_Man                       0.043444    False  \n",
      "gender_Prefer not to say         0.153937    False  \n",
      "gender_Woman                     0.006756    False  \n"
     ]
    }
   ],
   "source": [
    "print(S3082_nb)"
   ]
  },
  {
   "cell_type": "code",
   "execution_count": 22,
   "metadata": {},
   "outputs": [],
   "source": [
    "S3053_nb.to_csv(\"~/Desktop/b.csv\")"
   ]
  },
  {
   "cell_type": "code",
   "execution_count": 30,
   "metadata": {},
   "outputs": [
    {
     "name": "stdout",
     "output_type": "stream",
     "text": [
      "                          fst_inlist_coef  p<=0.05  snd_inlist_coef  p<=0.05  \\\n",
      "const                            0.667824     True         0.046075    False   \n",
      "native                          -0.022704    False         0.053612    False   \n",
      "asian                           -0.104465    False        -0.040499    False   \n",
      "hawaiian                        -0.109611    False        -0.019065    False   \n",
      "other_race                       0.039431    False        -0.016797    False   \n",
      "latinx                          -0.011876    False        -0.023016    False   \n",
      "age_18-25                       -0.186673    False         0.011847    False   \n",
      "age_26-35                       -0.257080    False         0.013756    False   \n",
      "age_36-45                       -0.292215    False         0.041047    False   \n",
      "age_46-55                       -0.264013    False         0.010029     True   \n",
      "age_56-65                       -0.272530    False         0.051660    False   \n",
      "age_66+                         -0.183371    False         0.029009    False   \n",
      "gender_Man                      -0.225154     True         0.139381    False   \n",
      "gender_Prefer not to say        -0.297485     True         0.176644    False   \n",
      "gender_Woman                    -0.255454     True         0.064988    False   \n",
      "\n",
      "                          trd_inlist_coef  p<=0.05  \n",
      "const                           -0.130314    False  \n",
      "native                          -0.037525    False  \n",
      "asian                           -0.019412    False  \n",
      "hawaiian                         0.066798    False  \n",
      "other_race                      -0.007924    False  \n",
      "latinx                          -0.021043    False  \n",
      "age_18-25                        0.160958    False  \n",
      "age_26-35                        0.168678    False  \n",
      "age_36-45                        0.155786    False  \n",
      "age_46-55                        0.212060    False  \n",
      "age_56-65                        0.140156    False  \n",
      "age_66+                          0.160883    False  \n",
      "gender_Man                       0.152095    False  \n",
      "gender_Prefer not to say         0.195427    False  \n",
      "gender_Woman                     0.192678    False  \n"
     ]
    }
   ],
   "source": [
    "print(S3053_nb)"
   ]
  },
  {
   "cell_type": "markdown",
   "metadata": {},
   "source": [
    "### Only Black\n",
    "Other than same variables above to clear perfect multicollinearity, these groups of models also excluded all race binary variables excpet \"black\"."
   ]
  },
  {
   "cell_type": "code",
   "execution_count": 23,
   "metadata": {},
   "outputs": [],
   "source": [
    "ob = [\"native\", \"asian\", \"hawaiian\", \"other_race\", \"unsure_race\", \"latinx\"]"
   ]
  },
  {
   "cell_type": "code",
   "execution_count": 24,
   "metadata": {},
   "outputs": [],
   "source": [
    "# All_3095\n",
    "S3095_ob = return_plist(lrdata4, ob)\n",
    "# NoRace_3082\n",
    "S3082_ob = return_plist(lrdata5, ob)\n",
    "# NoRaceWhiteBlack_3053\n",
    "S3053_ob = return_plist(lrdata6, ob)"
   ]
  },
  {
   "cell_type": "code",
   "execution_count": 25,
   "metadata": {},
   "outputs": [
    {
     "name": "stdout",
     "output_type": "stream",
     "text": [
      "                          fst_inlist_coef  p<=0.05  snd_inlist_coef  p<=0.05  \\\n",
      "const                           -0.150271    False         0.228824    False   \n",
      "black                            0.015737    False         0.019847    False   \n",
      "age_18-25                        0.104742    False        -0.070482    False   \n",
      "age_26-35                        0.144662    False        -0.044567    False   \n",
      "age_36-45                        0.185007    False        -0.100060    False   \n",
      "age_46-55                        0.200418    False        -0.067811    False   \n",
      "age_56-65                        0.171827    False        -0.015747    False   \n",
      "age_66+                          0.041578    False        -0.073434    False   \n",
      "gender_Man                       0.147123    False        -0.032794    False   \n",
      "gender_Prefer not to say         0.093786    False        -0.120566    False   \n",
      "gender_Woman                     0.127709    False        -0.002905     True   \n",
      "\n",
      "                          trd_inlist_coef  p<=0.05  \n",
      "const                            0.506234     True  \n",
      "black                            0.006247    False  \n",
      "age_18-25                       -0.126837    False  \n",
      "age_26-35                       -0.203228    False  \n",
      "age_36-45                       -0.188441    False  \n",
      "age_46-55                       -0.213894    False  \n",
      "age_56-65                       -0.279942    False  \n",
      "age_66+                         -0.013291    False  \n",
      "gender_Man                      -0.107484    False  \n",
      "gender_Prefer not to say        -0.046579    False  \n",
      "gender_Woman                    -0.108929    False  \n"
     ]
    }
   ],
   "source": [
    "print(S3095_ob)"
   ]
  },
  {
   "cell_type": "code",
   "execution_count": 26,
   "metadata": {},
   "outputs": [],
   "source": [
    "S3095_ob.to_csv(\"~/Desktop/b.csv\")"
   ]
  },
  {
   "cell_type": "code",
   "execution_count": 27,
   "metadata": {},
   "outputs": [
    {
     "name": "stdout",
     "output_type": "stream",
     "text": [
      "                          fst_inlist_coef  p<=0.05  snd_inlist_coef  p<=0.05  \\\n",
      "const                            0.296349    False         0.134771    False   \n",
      "black                            0.001504    False        -0.046602     True   \n",
      "age_18-25                       -0.054609    False         0.072436    False   \n",
      "age_26-35                       -0.072554    False         0.038174    False   \n",
      "age_36-45                       -0.022050    False         0.039479    False   \n",
      "age_46-55                       -0.032462    False         0.034466    False   \n",
      "age_56-65                       -0.045433    False        -0.022273    False   \n",
      "age_66+                          0.023152    False        -0.054171    False   \n",
      "gender_Man                      -0.096650    False         0.074550    False   \n",
      "gender_Prefer not to say        -0.223356    False         0.090491    False   \n",
      "gender_Woman                    -0.113558    False         0.049403    False   \n",
      "\n",
      "                          trd_inlist_coef  p<=0.05  \n",
      "const                           -0.033993    False  \n",
      "black                            0.005882    False  \n",
      "age_18-25                        0.079097    False  \n",
      "age_26-35                        0.168031    False  \n",
      "age_36-45                        0.130703    False  \n",
      "age_46-55                        0.156419    False  \n",
      "age_56-65                        0.104312    False  \n",
      "age_66+                          0.255646    False  \n",
      "gender_Man                       0.032817    False  \n",
      "gender_Prefer not to say         0.146107    False  \n",
      "gender_Woman                    -0.003864     True  \n"
     ]
    }
   ],
   "source": [
    "print(S3082_ob)"
   ]
  },
  {
   "cell_type": "code",
   "execution_count": 28,
   "metadata": {},
   "outputs": [
    {
     "name": "stdout",
     "output_type": "stream",
     "text": [
      "                          fst_inlist_coef  p<=0.05  snd_inlist_coef  p<=0.05  \\\n",
      "const                            0.610565     True         0.078262    False   \n",
      "black                            0.013414    False        -0.012108    False   \n",
      "age_18-25                       -0.147198    False        -0.003936     True   \n",
      "age_26-35                       -0.215913    False        -0.000413     True   \n",
      "age_36-45                       -0.252211    False         0.029452    False   \n",
      "age_46-55                       -0.226424    False         0.001780     True   \n",
      "age_56-65                       -0.229565    False         0.039657    False   \n",
      "age_66+                         -0.138711    False         0.022667    False   \n",
      "gender_Man                      -0.213248    False         0.124160    False   \n",
      "gender_Prefer not to say        -0.288428     True         0.161191    False   \n",
      "gender_Woman                    -0.246964     True         0.055391    False   \n",
      "\n",
      "                          trd_inlist_coef  p<=0.05  \n",
      "const                           -0.170028    False  \n",
      "black                            0.046072     True  \n",
      "age_18-25                        0.150937    False  \n",
      "age_26-35                        0.160718    False  \n",
      "age_36-45                        0.148340    False  \n",
      "age_46-55                        0.202062    False  \n",
      "age_56-65                        0.132853    False  \n",
      "age_66+                          0.155123    False  \n",
      "gender_Man                       0.160814    False  \n",
      "gender_Prefer not to say         0.212324    False  \n",
      "gender_Woman                     0.200535    False  \n"
     ]
    }
   ],
   "source": [
    "print(S3053_ob)"
   ]
  },
  {
   "cell_type": "code",
   "execution_count": 29,
   "metadata": {},
   "outputs": [],
   "source": [
    "S3053_ob.to_csv(\"~/Desktop/a.csv\")"
   ]
  },
  {
   "cell_type": "code",
   "execution_count": null,
   "metadata": {},
   "outputs": [],
   "source": []
  }
 ],
 "metadata": {
  "kernelspec": {
   "display_name": "geo_env",
   "language": "python",
   "name": "geo_env"
  },
  "language_info": {
   "codemirror_mode": {
    "name": "ipython",
    "version": 3
   },
   "file_extension": ".py",
   "mimetype": "text/x-python",
   "name": "python",
   "nbconvert_exporter": "python",
   "pygments_lexer": "ipython3",
   "version": "3.7.6"
  }
 },
 "nbformat": 4,
 "nbformat_minor": 4
}
